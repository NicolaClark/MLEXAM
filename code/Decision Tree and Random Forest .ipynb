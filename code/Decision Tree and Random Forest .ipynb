{
 "cells": [
  {
   "cell_type": "code",
   "metadata": {
    "deepnote_output_heights": [
     227.875
    ],
    "deepnote_to_be_reexecuted": false,
    "execution_millis": 388,
    "execution_start": 1639139915540,
    "source_hash": "5e51a8c6",
    "tags": [],
    "cell_id": "00000-79f12e1e-825d-44b1-8b89-a28f6b473c06",
    "deepnote_cell_type": "code"
   },
   "source": "from diy_lib.decision_tree import Decision_tree\nfrom diy_lib.node import Node\nimport pandas as pd\nfrom typing import List\nfrom itertools import combinations\nfrom collections import Counter\nimport numpy as np\nimport matplotlib.pyplot as plt\nimport math\nimport seaborn as sns\n\nimport sklearn as skl\nfrom sklearn.utils import shuffle\nfrom sklearn.model_selection import GridSearchCV \nfrom sklearn.model_selection import RandomizedSearchCV\nfrom sklearn.metrics import confusion_matrix\nfrom sklearn.tree import DecisionTreeClassifier\nfrom sklearn import tree\nfrom sklearn.metrics import precision_recall_fscore_support\n\n",
   "execution_count": 1,
   "outputs": []
  },
  {
   "cell_type": "code",
   "metadata": {
    "deepnote_to_be_reexecuted": false,
    "execution_millis": 7,
    "execution_start": 1639139915953,
    "source_hash": "e90f6fe7",
    "tags": [],
    "cell_id": "00001-aea4102d-0b91-4994-8398-02a7390e5736",
    "deepnote_output_heights": [
     382.1875
    ],
    "deepnote_cell_type": "code"
   },
   "source": "test=pd.read_csv(\"../data/df_test.csv\")\ntrain=pd.read_csv(\"../data/df_train.csv\")\ntest",
   "execution_count": 2,
   "outputs": [
    {
     "data": {
      "text/html": "<div>\n<style scoped>\n    .dataframe tbody tr th:only-of-type {\n        vertical-align: middle;\n    }\n\n    .dataframe tbody tr th {\n        vertical-align: top;\n    }\n\n    .dataframe thead th {\n        text-align: right;\n    }\n</style>\n<table border=\"1\" class=\"dataframe\">\n  <thead>\n    <tr style=\"text-align: right;\">\n      <th></th>\n      <th>RI</th>\n      <th>Na</th>\n      <th>Mg</th>\n      <th>Al</th>\n      <th>Si</th>\n      <th>K</th>\n      <th>Ca</th>\n      <th>Ba</th>\n      <th>Fe</th>\n      <th>type</th>\n    </tr>\n  </thead>\n  <tbody>\n    <tr>\n      <th>0</th>\n      <td>1.52101</td>\n      <td>13.64</td>\n      <td>4.49</td>\n      <td>1.10</td>\n      <td>71.78</td>\n      <td>0.06</td>\n      <td>8.75</td>\n      <td>0.0</td>\n      <td>0.00</td>\n      <td>1</td>\n    </tr>\n    <tr>\n      <th>1</th>\n      <td>1.51721</td>\n      <td>12.87</td>\n      <td>3.48</td>\n      <td>1.33</td>\n      <td>73.04</td>\n      <td>0.56</td>\n      <td>8.43</td>\n      <td>0.0</td>\n      <td>0.00</td>\n      <td>1</td>\n    </tr>\n    <tr>\n      <th>2</th>\n      <td>1.52213</td>\n      <td>14.21</td>\n      <td>3.82</td>\n      <td>0.47</td>\n      <td>71.77</td>\n      <td>0.11</td>\n      <td>9.57</td>\n      <td>0.0</td>\n      <td>0.00</td>\n      <td>1</td>\n    </tr>\n    <tr>\n      <th>3</th>\n      <td>1.51623</td>\n      <td>14.20</td>\n      <td>0.00</td>\n      <td>2.79</td>\n      <td>73.46</td>\n      <td>0.04</td>\n      <td>9.04</td>\n      <td>0.4</td>\n      <td>0.09</td>\n      <td>7</td>\n    </tr>\n    <tr>\n      <th>4</th>\n      <td>1.51829</td>\n      <td>14.46</td>\n      <td>2.24</td>\n      <td>1.62</td>\n      <td>72.38</td>\n      <td>0.00</td>\n      <td>9.26</td>\n      <td>0.0</td>\n      <td>0.00</td>\n      <td>6</td>\n    </tr>\n    <tr>\n      <th>...</th>\n      <td>...</td>\n      <td>...</td>\n      <td>...</td>\n      <td>...</td>\n      <td>...</td>\n      <td>...</td>\n      <td>...</td>\n      <td>...</td>\n      <td>...</td>\n      <td>...</td>\n    </tr>\n    <tr>\n      <th>60</th>\n      <td>1.52152</td>\n      <td>13.12</td>\n      <td>3.58</td>\n      <td>0.90</td>\n      <td>72.20</td>\n      <td>0.23</td>\n      <td>9.82</td>\n      <td>0.0</td>\n      <td>0.16</td>\n      <td>1</td>\n    </tr>\n    <tr>\n      <th>61</th>\n      <td>1.51892</td>\n      <td>13.46</td>\n      <td>3.83</td>\n      <td>1.26</td>\n      <td>72.55</td>\n      <td>0.57</td>\n      <td>8.21</td>\n      <td>0.0</td>\n      <td>0.14</td>\n      <td>2</td>\n    </tr>\n    <tr>\n      <th>62</th>\n      <td>1.51610</td>\n      <td>13.33</td>\n      <td>3.53</td>\n      <td>1.34</td>\n      <td>72.67</td>\n      <td>0.56</td>\n      <td>8.33</td>\n      <td>0.0</td>\n      <td>0.00</td>\n      <td>3</td>\n    </tr>\n    <tr>\n      <th>63</th>\n      <td>1.51730</td>\n      <td>12.35</td>\n      <td>2.72</td>\n      <td>1.63</td>\n      <td>72.87</td>\n      <td>0.70</td>\n      <td>9.23</td>\n      <td>0.0</td>\n      <td>0.00</td>\n      <td>2</td>\n    </tr>\n    <tr>\n      <th>64</th>\n      <td>1.51618</td>\n      <td>13.01</td>\n      <td>3.50</td>\n      <td>1.48</td>\n      <td>72.89</td>\n      <td>0.60</td>\n      <td>8.12</td>\n      <td>0.0</td>\n      <td>0.00</td>\n      <td>2</td>\n    </tr>\n  </tbody>\n</table>\n<p>65 rows × 10 columns</p>\n</div>",
      "text/plain": "         RI     Na    Mg    Al     Si     K    Ca   Ba    Fe  type\n0   1.52101  13.64  4.49  1.10  71.78  0.06  8.75  0.0  0.00     1\n1   1.51721  12.87  3.48  1.33  73.04  0.56  8.43  0.0  0.00     1\n2   1.52213  14.21  3.82  0.47  71.77  0.11  9.57  0.0  0.00     1\n3   1.51623  14.20  0.00  2.79  73.46  0.04  9.04  0.4  0.09     7\n4   1.51829  14.46  2.24  1.62  72.38  0.00  9.26  0.0  0.00     6\n..      ...    ...   ...   ...    ...   ...   ...  ...   ...   ...\n60  1.52152  13.12  3.58  0.90  72.20  0.23  9.82  0.0  0.16     1\n61  1.51892  13.46  3.83  1.26  72.55  0.57  8.21  0.0  0.14     2\n62  1.51610  13.33  3.53  1.34  72.67  0.56  8.33  0.0  0.00     3\n63  1.51730  12.35  2.72  1.63  72.87  0.70  9.23  0.0  0.00     2\n64  1.51618  13.01  3.50  1.48  72.89  0.60  8.12  0.0  0.00     2\n\n[65 rows x 10 columns]"
     },
     "execution_count": 2,
     "metadata": {},
     "output_type": "execute_result"
    }
   ]
  },
  {
   "cell_type": "code",
   "metadata": {
    "deepnote_to_be_reexecuted": false,
    "execution_millis": 4,
    "execution_start": 1639139915970,
    "source_hash": "ee4e9ea7",
    "tags": [],
    "cell_id": "00002-4a0118a2-7cbd-4c13-b075-9dca8ad38484",
    "deepnote_output_heights": [
     21.1875
    ],
    "deepnote_cell_type": "code"
   },
   "source": "set(train['type'])",
   "execution_count": 3,
   "outputs": [
    {
     "data": {
      "text/plain": "{1, 2, 3, 5, 6, 7}"
     },
     "execution_count": 3,
     "metadata": {},
     "output_type": "execute_result"
    }
   ]
  },
  {
   "cell_type": "code",
   "metadata": {
    "deepnote_to_be_reexecuted": false,
    "execution_millis": 0,
    "execution_start": 1639139916025,
    "source_hash": "f4cc7083",
    "tags": [],
    "cell_id": "00003-23f5ec4e-f94a-468c-a1a8-5b453d84d624",
    "deepnote_cell_type": "code"
   },
   "source": "#to do\n#max depth for tree",
   "execution_count": 4,
   "outputs": []
  },
  {
   "cell_type": "code",
   "metadata": {
    "deepnote_output_heights": [
     20.8125
    ],
    "deepnote_to_be_reexecuted": false,
    "execution_millis": 4315,
    "execution_start": 1639139916026,
    "source_hash": "9e9d57bd",
    "tags": [],
    "cell_id": "00004-4002701c-2900-40ee-894b-f58a981bccdf",
    "deepnote_cell_type": "code"
   },
   "source": "T = Decision_tree(depth = 3, min_samples_split = 15)\nT.fit(train)\nT.score(test)",
   "execution_count": 5,
   "outputs": [
    {
     "data": {
      "text/plain": "0.7538461538461538"
     },
     "execution_count": 5,
     "metadata": {},
     "output_type": "execute_result"
    }
   ]
  },
  {
   "cell_type": "code",
   "metadata": {
    "cell_id": "00005-100bf9d7-85e0-442e-83b5-3ca57c61df43",
    "deepnote_output_heights": [
     309
    ],
    "deepnote_cell_type": "code"
   },
   "source": "T.score_matix(test)",
   "execution_count": 6,
   "outputs": [
    {
     "data": {
      "image/png": "[encoded data removed]",
      "text/plain": "<Figure size 360x360 with 2 Axes>"
     },
     "metadata": {
      "needs_background": "light",
      "image/png": {
       "width": 311,
       "height": 307
      }
     },
     "output_type": "display_data"
    }
   ]
  },
  {
   "cell_type": "code",
   "metadata": {
    "cell_id": "00006-98b7886d-0076-47ee-a39c-d632f6239ad0",
    "deepnote_cell_type": "code"
   },
   "source": "T.evaluation(test)",
   "execution_count": 7,
   "outputs": [
    {
     "name": "stdout",
     "output_type": "stream",
     "text": "Accuracy: 0.7538461538461538\nRecall: 0.5967333793420749\nF1-Score: 0.5494553376906318\n"
    },
    {
     "name": "stderr",
     "output_type": "stream",
     "text": "/opt/anaconda3/lib/python3.9/site-packages/sklearn/metrics/_classification.py:1248: UndefinedMetricWarning: Precision and F-score are ill-defined and being set to 0.0 in labels with no predicted samples. Use `zero_division` parameter to control this behavior.\n  _warn_prf(average, modifier, msg_start, len(result))\n"
    }
   ]
  },
  {
   "cell_type": "code",
   "metadata": {
    "cell_id": "00007-80a6ca89-11d2-4008-a127-2df37e698e4e",
    "deepnote_cell_type": "code"
   },
   "source": "def k_fold(data, sets):\n    np.random.seed(42)\n    data_dict = {}\n    for s in range(sets):\n        data = shuffle(data)\n        test = pd.DataFrame()\n        train = pd.DataFrame()\n        for c in set(data['type']):\n            class_c = data.loc[data['type'] == c]\n            test_c = class_c.head(int(len(class_c)*(0.7)))\n            train_c = class_c.iloc[len(test_c):]\n            test = pd.concat([test, test_c])\n            train = pd.concat([train, train_c])\n        data_dict[s] = train, test\n    return data_dict\n\n\ndef grid_k_fold(data, depths, samples, num_fold):\n    cross_list = []\n    dic = k_fold(data, num_fold)\n    for depth in depths:\n        hall_of_fame = []\n        for sample in samples:\n            best = 0\n            for sets in range(num_fold):\n                train, test = dic[sets]\n                T = Decision_tree(depth = depth, min_samples_split = sample)\n                x = T.fit(train)\n                score = T.score(test)\n                best += score\n            hall_of_fame.append(best/num_fold)\n        cross_list.append(hall_of_fame)\n    return pd.DataFrame(cross_list)",
   "execution_count": 8,
   "outputs": []
  },
  {
   "cell_type": "code",
   "metadata": {
    "cell_id": "00008-30a061c5-fd39-4bf0-84e0-8a2bf627c743",
    "deepnote_cell_type": "code"
   },
   "source": "d = [2,3,5,8,9,10,12,15]\ns = [2,4,6,8,10,15]\n\ngrid = grid_k_fold(train, d, s, 5) #(row = depth, column = min sample split)",
   "execution_count": 9,
   "outputs": []
  },
  {
   "cell_type": "code",
   "metadata": {
    "cell_id": "00009-1fe1c528-fd48-48b4-b73b-58f4fea661b7",
    "deepnote_cell_type": "code"
   },
   "source": "sns.heatmap(grid, annot = True, cmap= \"coolwarm\", xticklabels = s, yticklabels = d) #x-axis = sample, y-axis = depth\nplt.savefig('grid_k_fold.png')",
   "execution_count": 10,
   "outputs": [
    {
     "data": {
      "image/png": "[encoded data removed]",
      "text/plain": "<Figure size 432x288 with 2 Axes>"
     },
     "metadata": {
      "needs_background": "light",
      "image/png": {
       "width": 362,
       "height": 248
      }
     },
     "output_type": "display_data"
    }
   ]
  },
  {
   "cell_type": "code",
   "metadata": {
    "cell_id": "00010-7729f538-e6a2-4a21-a2ef-72831075d08f",
    "deepnote_cell_type": "code"
   },
   "source": "T = Decision_tree(depth = 3, min_samples_split = 2)\nT.fit(train)",
   "execution_count": 5,
   "outputs": []
  },
  {
   "cell_type": "code",
   "metadata": {
    "cell_id": "00011-a7a4f2b6-e956-4d09-9bd0-b57ecc031f12",
    "deepnote_cell_type": "code"
   },
   "source": "T.score_matix(test)",
   "execution_count": 12,
   "outputs": [
    {
     "data": {
      "image/png": "[encoded data removed]",
      "text/plain": "<Figure size 360x360 with 2 Axes>"
     },
     "metadata": {
      "needs_background": "light",
      "image/png": {
       "width": 311,
       "height": 307
      }
     },
     "output_type": "display_data"
    }
   ]
  },
  {
   "cell_type": "code",
   "metadata": {
    "cell_id": "00012-5a2e6407-f872-4772-8472-79e7ffc396e6",
    "deepnote_cell_type": "code"
   },
   "source": "T.evaluation(test)",
   "execution_count": 13,
   "outputs": [
    {
     "name": "stdout",
     "output_type": "stream",
     "text": "Accuracy: 0.7538461538461538\nRecall: 0.5967333793420749\nF1-Score: 0.5494553376906318\n"
    },
    {
     "name": "stderr",
     "output_type": "stream",
     "text": "/opt/anaconda3/lib/python3.9/site-packages/sklearn/metrics/_classification.py:1248: UndefinedMetricWarning: Precision and F-score are ill-defined and being set to 0.0 in labels with no predicted samples. Use `zero_division` parameter to control this behavior.\n  _warn_prf(average, modifier, msg_start, len(result))\n"
    }
   ]
  },
  {
   "cell_type": "markdown",
   "source": "### Reference (same hyperparameters)",
   "metadata": {
    "cell_id": "00013-843e0914-3a8e-4cbb-bc6d-bd15499c9ee2",
    "deepnote_cell_type": "markdown"
   }
  },
  {
   "cell_type": "code",
   "metadata": {
    "cell_id": "00014-8e7e0911-b78f-4ced-be72-efcf7c0e36b2",
    "deepnote_cell_type": "code"
   },
   "source": "trainY, trainX = train['type'], train.loc[:, train.columns != 'type']\ntestY, testX = test['type'], test.loc[:, test.columns != 'type']",
   "execution_count": 6,
   "outputs": []
  },
  {
   "cell_type": "code",
   "metadata": {
    "cell_id": "00015-eccc66cb-ebf1-49b3-bcff-f82b025b9600",
    "deepnote_cell_type": "code"
   },
   "source": "rDT = DecisionTreeClassifier(criterion='gini', \n                             splitter='best', \n                             max_depth=3, \n                             min_samples_split=2,   \n                             random_state= 42)\nrDT.fit(trainX, trainY)",
   "execution_count": 7,
   "outputs": [
    {
     "data": {
      "text/plain": "DecisionTreeClassifier(max_depth=3, random_state=42)"
     },
     "execution_count": 7,
     "metadata": {},
     "output_type": "execute_result"
    }
   ]
  },
  {
   "cell_type": "code",
   "metadata": {
    "cell_id": "00016-ac23ce61-4efc-4ef5-bf4b-3e991f54b2ae",
    "deepnote_cell_type": "code"
   },
   "source": "y_pred = rDT.predict(test.loc[:, test.columns != 'type'])\ny_true = test['type']\n\nprecision, recall, fscore, supporty = precision_recall_fscore_support(y_true, y_pred, average='macro')\nacc = skl.metrics.accuracy_score(y_true, y_pred)\n\nprint('recall:', recall,\n'F1-Score:', fscore,\n'Accuracy:', acc)",
   "execution_count": 8,
   "outputs": [
    {
     "name": "stdout",
     "output_type": "stream",
     "text": "recall: 0.5967333793420749 F1-Score: 0.5494553376906318 Accuracy: 0.7538461538461538\n"
    },
    {
     "name": "stderr",
     "output_type": "stream",
     "text": "/opt/anaconda3/lib/python3.9/site-packages/sklearn/metrics/_classification.py:1248: UndefinedMetricWarning: Precision and F-score are ill-defined and being set to 0.0 in labels with no predicted samples. Use `zero_division` parameter to control this behavior.\n  _warn_prf(average, modifier, msg_start, len(result))\n"
    }
   ]
  },
  {
   "cell_type": "markdown",
   "source": "### Reference (optimized hyperparameters)",
   "metadata": {
    "cell_id": "00017-c0617414-e853-478e-a699-7ac5f1eaf6e8",
    "deepnote_cell_type": "markdown"
   }
  },
  {
   "cell_type": "code",
   "metadata": {
    "cell_id": "00018-96c8e1c5-d0fb-4279-9a60-d49217a9c0ad",
    "deepnote_cell_type": "code"
   },
   "source": "trainY, trainX = train['type'], train.loc[:, train.columns != 'type']\ntestY, testX = test['type'], test.loc[:, test.columns != 'type']",
   "execution_count": 11,
   "outputs": []
  },
  {
   "cell_type": "code",
   "metadata": {
    "cell_id": "00019-18efa670-ebf4-4ac3-a762-36ba2bac3458",
    "deepnote_cell_type": "code"
   },
   "source": "parameters = {'criterion': ['gini', 'entropy'],\n             'max_depth': [2,3,4,5,6,7,8,9,10,15,20,25],\n              'min_samples_split': [2,4,6,8,10,12,14]}\n\nop_dt = DecisionTreeClassifier(random_state=42)\nop_dt = GridSearchCV(op_dt, parameters)\nop_dt.fit(trainX, trainY)\nsorted(op_dt.cv_results_.keys())",
   "execution_count": 16,
   "outputs": [
    {
     "data": {
      "text/plain": "['mean_fit_time',\n 'mean_score_time',\n 'mean_test_score',\n 'param_criterion',\n 'param_max_depth',\n 'param_min_samples_split',\n 'params',\n 'rank_test_score',\n 'split0_test_score',\n 'split1_test_score',\n 'split2_test_score',\n 'split3_test_score',\n 'split4_test_score',\n 'std_fit_time',\n 'std_score_time',\n 'std_test_score']"
     },
     "execution_count": 16,
     "metadata": {},
     "output_type": "execute_result"
    }
   ]
  },
  {
   "cell_type": "code",
   "metadata": {
    "cell_id": "00020-b333a3c2-4cf6-43c0-9dfd-7a1fd20ddd14",
    "deepnote_cell_type": "code"
   },
   "source": "op_dt.best_params_",
   "execution_count": 17,
   "outputs": [
    {
     "data": {
      "text/plain": "{'criterion': 'entropy', 'max_depth': 6, 'min_samples_split': 8}"
     },
     "execution_count": 17,
     "metadata": {},
     "output_type": "execute_result"
    }
   ]
  },
  {
   "cell_type": "code",
   "metadata": {
    "cell_id": "00021-2a633a23-d65f-48cc-9c69-75b94f20eb4d",
    "deepnote_cell_type": "code"
   },
   "source": "op_dt = DecisionTreeClassifier(criterion='entropy', \n                             splitter='best', \n                             max_depth=6, \n                             min_samples_split=8,   \n                             random_state= 42)\nop_dt.fit(trainX, trainY)",
   "execution_count": 18,
   "outputs": [
    {
     "data": {
      "text/plain": "DecisionTreeClassifier(criterion='entropy', max_depth=6, min_samples_split=8,\n                       random_state=42)"
     },
     "execution_count": 18,
     "metadata": {},
     "output_type": "execute_result"
    }
   ]
  },
  {
   "cell_type": "code",
   "metadata": {
    "cell_id": "00022-3ac158a4-2d39-4f60-aed4-014bbc7ad7cc",
    "deepnote_cell_type": "code"
   },
   "source": "y_pred = op_dt.predict(test.loc[:, test.columns != 'type'])\ny_true = test['type']\n\nprecision, recall, fscore, supporty = precision_recall_fscore_support(y_true, y_pred, average='macro')\nacc = skl.metrics.accuracy_score(y_true, y_pred)\n\nprint('recall:', recall,\n'F1-Score:', fscore,\n'Accuracy:', acc)",
   "execution_count": 19,
   "outputs": [
    {
     "name": "stdout",
     "output_type": "stream",
     "text": "recall: 0.686887508626639 F1-Score: 0.7076486150015562 Accuracy: 0.7384615384615385\n"
    }
   ]
  },
  {
   "cell_type": "markdown",
   "source": "## Random Forest",
   "metadata": {
    "cell_id": "00023-23f396a0-f0a1-4643-832b-ded57fdedeb7",
    "deepnote_cell_type": "markdown"
   }
  },
  {
   "cell_type": "code",
   "metadata": {
    "cell_id": "00024-8b83dd8c-cbbb-4a05-b62f-9523c85d6f1a",
    "deepnote_cell_type": "code"
   },
   "source": "from sklearn.ensemble import RandomForestClassifier\nRF = RandomForestClassifier(n_estimators=100,\n                            criterion = 'gini', \n                            max_depth = 5, \n                            min_samples_split = 2,\n                            bootstrap = True)\n\ntrainY, trainX = train['type'], train.loc[:, train.columns != 'type']\ntestY, testX = test['type'], test.loc[:, test.columns != 'type']\n\nRF.fit(trainX, trainY)",
   "execution_count": 14,
   "outputs": [
    {
     "data": {
      "text/plain": "RandomForestClassifier(max_depth=5)"
     },
     "execution_count": 14,
     "metadata": {},
     "output_type": "execute_result"
    }
   ]
  },
  {
   "cell_type": "code",
   "metadata": {
    "cell_id": "00025-9d27f5f5-a00b-41ab-a123-89d1c481e1e5",
    "deepnote_cell_type": "code"
   },
   "source": "RF.score(testX, testY)",
   "execution_count": 15,
   "outputs": [
    {
     "data": {
      "text/plain": "0.8153846153846154"
     },
     "execution_count": 15,
     "metadata": {},
     "output_type": "execute_result"
    }
   ]
  },
  {
   "cell_type": "code",
   "metadata": {
    "cell_id": "00026-eda9df44-3b1a-48f1-8fc3-a063dfad97b2",
    "deepnote_cell_type": "code"
   },
   "source": "parameters = {'n_estimators': [40,41,43,45,47,49,50],\n              'criterion': ['gini', 'entropy'],\n             'max_depth': [15,16,17,18,19,20],\n              'min_samples_split': [2,4,6,8,10,12,14],\n              'bootstrap': [True]}\n\nrandom_forest = RandomForestClassifier(random_state=42)\nrandom_forest = GridSearchCV(random_forest, parameters)\nrandom_forest.fit(trainX, trainY)\nsorted(random_forest.cv_results_.keys())",
   "execution_count": 16,
   "outputs": [
    {
     "data": {
      "text/plain": "['mean_fit_time',\n 'mean_score_time',\n 'mean_test_score',\n 'param_bootstrap',\n 'param_criterion',\n 'param_max_depth',\n 'param_min_samples_split',\n 'param_n_estimators',\n 'params',\n 'rank_test_score',\n 'split0_test_score',\n 'split1_test_score',\n 'split2_test_score',\n 'split3_test_score',\n 'split4_test_score',\n 'std_fit_time',\n 'std_score_time',\n 'std_test_score']"
     },
     "execution_count": 16,
     "metadata": {},
     "output_type": "execute_result"
    }
   ]
  },
  {
   "cell_type": "code",
   "metadata": {
    "cell_id": "00027-4791de92-eea6-4845-acce-e1ed9b7e6625",
    "deepnote_cell_type": "code"
   },
   "source": "random_forest.best_params_",
   "execution_count": 17,
   "outputs": [
    {
     "data": {
      "text/plain": "{'bootstrap': True,\n 'criterion': 'gini',\n 'max_depth': 15,\n 'min_samples_split': 6,\n 'n_estimators': 41}"
     },
     "execution_count": 17,
     "metadata": {},
     "output_type": "execute_result"
    }
   ]
  },
  {
   "cell_type": "code",
   "metadata": {
    "cell_id": "00028-05c4752f-5d08-4b84-aebc-f1f3c08a9774",
    "deepnote_cell_type": "code"
   },
   "source": "op_rf = RandomForestClassifier(n_estimators=41,\n                               criterion = 'gini', \n                               max_depth = 15, \n                               min_samples_split = 6,\n                               bootstrap = True,\n                               random_state=42)\n\n\nop_rf.fit(trainX, trainY)\nop_rf.score(testX, testY)",
   "execution_count": 18,
   "outputs": [
    {
     "data": {
      "text/plain": "0.8307692307692308"
     },
     "execution_count": 18,
     "metadata": {},
     "output_type": "execute_result"
    }
   ]
  },
  {
   "cell_type": "code",
   "metadata": {
    "cell_id": "00029-61a446db-2d13-43a3-9910-0cf4aca745a4",
    "deepnote_cell_type": "code"
   },
   "source": "precision_recall_fscore_support(y_true, y_pred, average='macro')",
   "execution_count": 21,
   "outputs": [
    {
     "data": {
      "text/plain": "(0.6775793650793651, 0.77789279963193, 0.7144139409471074, None)"
     },
     "execution_count": 21,
     "metadata": {},
     "output_type": "execute_result"
    }
   ]
  },
  {
   "cell_type": "code",
   "metadata": {
    "cell_id": "00030-bf63a1bc-a6c0-4b79-b519-b9a6f064ab20",
    "deepnote_cell_type": "code"
   },
   "source": "#recall = 77.79%\n#F1-Score = 71.44%\n#Accuracy = 83.08%\nskl.metrics.accuracy_score(y_true, y_pred)",
   "execution_count": 22,
   "outputs": [
    {
     "data": {
      "text/plain": "0.8307692307692308"
     },
     "execution_count": 22,
     "metadata": {},
     "output_type": "execute_result"
    }
   ]
  },
  {
   "cell_type": "code",
   "metadata": {
    "cell_id": "00031-b46ea20d-eec8-40c8-a59c-2d880381d451",
    "deepnote_cell_type": "code"
   },
   "source": "",
   "execution_count": null,
   "outputs": []
  },
  {
   "cell_type": "code",
   "metadata": {
    "cell_id": "00032-1d47d7c4-3a00-49ef-b193-76ed8764db98",
    "deepnote_cell_type": "code"
   },
   "source": "",
   "execution_count": null,
   "outputs": []
  },
  {
   "cell_type": "code",
   "metadata": {
    "cell_id": "00033-e7be85d9-f4f7-4241-ae83-5b363078c9f1",
    "deepnote_cell_type": "code"
   },
   "source": "",
   "execution_count": null,
   "outputs": []
  },
  {
   "cell_type": "markdown",
   "source": "<a style='text-decoration:none;line-height:16px;display:flex;color:#5B5B62;padding:10px;justify-content:end;' href='https://deepnote.com?utm_source=created-in-deepnote-cell&projectId=58866f15-1cff-4fef-9525-5c3070562370' target=\"_blank\">\n<img alt='Created in deepnote.com' style='display:inline;max-height:16px;margin:0px;margin-right:7.5px;' src='data:image/svg+xml;base64,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' > </img>\nCreated in <span style='font-weight:600;margin-left:4px;'>Deepnote</span></a>",
   "metadata": {
    "tags": [],
    "created_in_deepnote_cell": true,
    "deepnote_cell_type": "markdown"
   }
  }
 ],
 "nbformat": 4,
 "nbformat_minor": 2,
 "metadata": {
  "deepnote": {
   "is_reactive": false
  },
  "deepnote_execution_queue": [],
  "deepnote_notebook_id": "62c383d1-adf7-4287-87c7-457cd099c8df",
  "kernelspec": {
   "display_name": "Python 3 (ipykernel)",
   "language": "python",
   "name": "python3"
  },
  "language_info": {
   "codemirror_mode": {
    "name": "ipython",
    "version": 3
   },
   "file_extension": ".py",
   "mimetype": "text/x-python",
   "name": "python",
   "nbconvert_exporter": "python",
   "pygments_lexer": "ipython3",
   "version": "3.9.7"
  }
 }
}
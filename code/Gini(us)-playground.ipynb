{
 "cells": [
  {
   "cell_type": "markdown",
   "source": "This is the gini(us) playground, where we are developing the gini calculation. ",
   "metadata": {
    "tags": [],
    "cell_id": "00000-406addb5-5741-4be2-854d-9ad61f692519",
    "deepnote_cell_type": "markdown"
   }
  },
  {
   "cell_type": "code",
   "metadata": {
    "tags": [],
    "cell_id": "00001-14275bd5-edd0-4bea-b8e3-cb0b9565b76f",
    "deepnote_to_be_reexecuted": false,
    "source_hash": "7df23276",
    "execution_start": 1638353081072,
    "execution_millis": 1134,
    "deepnote_cell_type": "code"
   },
   "source": "import pandas\nfrom typing import List\nfrom itertools import combinations\nfrom collections import Counter\nimport numpy as np\nimport matplotlib.pyplot as plt",
   "outputs": [],
   "execution_count": null
  },
  {
   "cell_type": "code",
   "metadata": {
    "tags": [],
    "cell_id": "00001-54d6e84f-9537-4818-80f2-b733b6d55c28",
    "deepnote_to_be_reexecuted": false,
    "source_hash": "28c1b6a0",
    "execution_start": 1638353082212,
    "execution_millis": 59,
    "deepnote_cell_type": "code"
   },
   "source": "\ntest=pandas.read_csv(\"../data/df_test.csv\")\ntrain=pandas.read_csv(\"../data/df_train.csv\")",
   "outputs": [],
   "execution_count": null
  },
  {
   "cell_type": "code",
   "metadata": {
    "tags": [],
    "cell_id": "00003-f1e586d0-e9a7-4ca0-8455-cb77927a8099",
    "deepnote_to_be_reexecuted": false,
    "source_hash": "a1f27382",
    "execution_start": 1638353082284,
    "execution_millis": 1,
    "deepnote_cell_type": "code"
   },
   "source": "def overallginius():\n    # should list with tuples (feature, gini value)\n    # for each data coloum\n    # take in (feature, type)\n    # sum lenght of data\n    # gini for each feature\n    # \n    pass",
   "outputs": [],
   "execution_count": null
  },
  {
   "cell_type": "code",
   "metadata": {
    "tags": [],
    "cell_id": "00004-2a39613a-57f7-4b9c-82e5-9b5cfa9cae71",
    "deepnote_to_be_reexecuted": false,
    "source_hash": "fa9ca47d",
    "execution_start": 1638353082288,
    "execution_millis": 7,
    "deepnote_cell_type": "code"
   },
   "source": "def gini_overall(datal,datar):\n    lsize = len(datal)\n    rsize = len(datar)\n    size = lsize+rsize\n    return gini_oneside(datal)*(lsize/size)+gini_oneside(datar)*(rsize/size)",
   "outputs": [],
   "execution_count": null
  },
  {
   "cell_type": "code",
   "metadata": {
    "tags": [],
    "cell_id": "00002-4d443895-4ce6-4e7d-8c34-a5febecadb9e",
    "deepnote_to_be_reexecuted": false,
    "source_hash": "2dd16d09",
    "execution_start": 1638353082297,
    "execution_millis": 7,
    "deepnote_cell_type": "code"
   },
   "source": "def gini_oneside(data):\n    \"\"\"Takes a list of labels for one side of a \n    split and returns gini index for that side\"\"\"\n    size = len(data)\n    types = set(data)\n    represented = Counter(data)\n    gini = 1\n    for key, value in represented.items():\n        gini -= (value/size)**2\n    return gini",
   "outputs": [],
   "execution_count": null
  },
  {
   "cell_type": "code",
   "metadata": {
    "tags": [],
    "cell_id": "00010-1d9a66af-04ff-4b21-aa61-56a29cfb342b",
    "deepnote_to_be_reexecuted": false,
    "source_hash": "7f737f25",
    "execution_start": 1638353082305,
    "execution_millis": 99,
    "deepnote_cell_type": "code"
   },
   "source": "train",
   "outputs": [
    {
     "output_type": "execute_result",
     "execution_count": 6,
     "data": {
      "application/vnd.deepnote.dataframe.v2+json": {
       "row_count": 149,
       "column_count": 10,
       "columns": [
        {
         "name": "RI",
         "dtype": "float64",
         "stats": {
          "unique_count": 134,
          "nan_count": 0,
          "min": "1.51115",
          "max": "1.53393",
          "histogram": [
           {
            "bin_start": 1.51115,
            "bin_end": 1.513428,
            "count": 5
           },
           {
            "bin_start": 1.513428,
            "bin_end": 1.515706,
            "count": 5
           },
           {
            "bin_start": 1.515706,
            "bin_end": 1.517984,
            "count": 76
           },
           {
            "bin_start": 1.517984,
            "bin_end": 1.520262,
            "count": 32
           },
           {
            "bin_start": 1.520262,
            "bin_end": 1.52254,
            "count": 19
           },
           {
            "bin_start": 1.52254,
            "bin_end": 1.524818,
            "count": 6
           },
           {
            "bin_start": 1.524818,
            "bin_end": 1.527096,
            "count": 2
           },
           {
            "bin_start": 1.527096,
            "bin_end": 1.529374,
            "count": 2
           },
           {
            "bin_start": 1.529374,
            "bin_end": 1.531652,
            "count": 1
           },
           {
            "bin_start": 1.531652,
            "bin_end": 1.53393,
            "count": 1
           }
          ]
         }
        },
        {
         "name": "Na",
         "dtype": "float64",
         "stats": {
          "unique_count": 105,
          "nan_count": 0,
          "min": "10.73",
          "max": "17.38",
          "histogram": [
           {
            "bin_start": 10.73,
            "bin_end": 11.395,
            "count": 4
           },
           {
            "bin_start": 11.395,
            "bin_end": 12.06,
            "count": 1
           },
           {
            "bin_start": 12.06,
            "bin_end": 12.725,
            "count": 12
           },
           {
            "bin_start": 12.725,
            "bin_end": 13.39,
            "count": 65
           },
           {
            "bin_start": 13.39,
            "bin_end": 14.055,
            "count": 36
           },
           {
            "bin_start": 14.055,
            "bin_end": 14.719999999999999,
            "count": 19
           },
           {
            "bin_start": 14.719999999999999,
            "bin_end": 15.384999999999998,
            "count": 10
           },
           {
            "bin_start": 15.384999999999998,
            "bin_end": 16.049999999999997,
            "count": 1
           },
           {
            "bin_start": 16.049999999999997,
            "bin_end": 16.715,
            "count": 0
           },
           {
            "bin_start": 16.715,
            "bin_end": 17.38,
            "count": 1
           }
          ]
         }
        },
        {
         "name": "Mg",
         "dtype": "float64",
         "stats": {
          "unique_count": 75,
          "nan_count": 0,
          "min": "0.0",
          "max": "3.98",
          "histogram": [
           {
            "bin_start": 0,
            "bin_end": 0.398,
            "count": 29
           },
           {
            "bin_start": 0.398,
            "bin_end": 0.796,
            "count": 1
           },
           {
            "bin_start": 0.796,
            "bin_end": 1.194,
            "count": 0
           },
           {
            "bin_start": 1.194,
            "bin_end": 1.592,
            "count": 0
           },
           {
            "bin_start": 1.592,
            "bin_end": 1.9900000000000002,
            "count": 5
           },
           {
            "bin_start": 1.9900000000000002,
            "bin_end": 2.388,
            "count": 3
           },
           {
            "bin_start": 2.388,
            "bin_end": 2.786,
            "count": 4
           },
           {
            "bin_start": 2.786,
            "bin_end": 3.184,
            "count": 8
           },
           {
            "bin_start": 3.184,
            "bin_end": 3.5820000000000003,
            "count": 56
           },
           {
            "bin_start": 3.5820000000000003,
            "bin_end": 3.98,
            "count": 43
           }
          ]
         }
        },
        {
         "name": "Al",
         "dtype": "float64",
         "stats": {
          "unique_count": 99,
          "nan_count": 0,
          "min": "0.29",
          "max": "3.5",
          "histogram": [
           {
            "bin_start": 0.29,
            "bin_end": 0.611,
            "count": 5
           },
           {
            "bin_start": 0.611,
            "bin_end": 0.9319999999999999,
            "count": 16
           },
           {
            "bin_start": 0.9319999999999999,
            "bin_end": 1.2530000000000001,
            "count": 30
           },
           {
            "bin_start": 1.2530000000000001,
            "bin_end": 1.574,
            "count": 56
           },
           {
            "bin_start": 1.574,
            "bin_end": 1.895,
            "count": 21
           },
           {
            "bin_start": 1.895,
            "bin_end": 2.216,
            "count": 11
           },
           {
            "bin_start": 2.216,
            "bin_end": 2.537,
            "count": 4
           },
           {
            "bin_start": 2.537,
            "bin_end": 2.858,
            "count": 3
           },
           {
            "bin_start": 2.858,
            "bin_end": 3.1790000000000003,
            "count": 2
           },
           {
            "bin_start": 3.1790000000000003,
            "bin_end": 3.5,
            "count": 1
           }
          ]
         }
        },
        {
         "name": "Si",
         "dtype": "float64",
         "stats": {
          "unique_count": 104,
          "nan_count": 0,
          "min": "69.81",
          "max": "75.41",
          "histogram": [
           {
            "bin_start": 69.81,
            "bin_end": 70.37,
            "count": 4
           },
           {
            "bin_start": 70.37,
            "bin_end": 70.93,
            "count": 2
           },
           {
            "bin_start": 70.93,
            "bin_end": 71.49,
            "count": 4
           },
           {
            "bin_start": 71.49,
            "bin_end": 72.05,
            "count": 19
           },
           {
            "bin_start": 72.05,
            "bin_end": 72.61,
            "count": 26
           },
           {
            "bin_start": 72.61,
            "bin_end": 73.17,
            "count": 67
           },
           {
            "bin_start": 73.17,
            "bin_end": 73.73,
            "count": 23
           },
           {
            "bin_start": 73.73,
            "bin_end": 74.28999999999999,
            "count": 2
           },
           {
            "bin_start": 74.28999999999999,
            "bin_end": 74.85,
            "count": 1
           },
           {
            "bin_start": 74.85,
            "bin_end": 75.41,
            "count": 1
           }
          ]
         }
        },
        {
         "name": "K",
         "dtype": "float64",
         "stats": {
          "unique_count": 56,
          "nan_count": 0,
          "min": "0.0",
          "max": "6.21",
          "histogram": [
           {
            "bin_start": 0,
            "bin_end": 0.621,
            "count": 121
           },
           {
            "bin_start": 0.621,
            "bin_end": 1.242,
            "count": 23
           },
           {
            "bin_start": 1.242,
            "bin_end": 1.863,
            "count": 4
           },
           {
            "bin_start": 1.863,
            "bin_end": 2.484,
            "count": 0
           },
           {
            "bin_start": 2.484,
            "bin_end": 3.105,
            "count": 0
           },
           {
            "bin_start": 3.105,
            "bin_end": 3.726,
            "count": 0
           },
           {
            "bin_start": 3.726,
            "bin_end": 4.3469999999999995,
            "count": 0
           },
           {
            "bin_start": 4.3469999999999995,
            "bin_end": 4.968,
            "count": 0
           },
           {
            "bin_start": 4.968,
            "bin_end": 5.589,
            "count": 0
           },
           {
            "bin_start": 5.589,
            "bin_end": 6.21,
            "count": 1
           }
          ]
         }
        },
        {
         "name": "Ca",
         "dtype": "float64",
         "stats": {
          "unique_count": 113,
          "nan_count": 0,
          "min": "5.43",
          "max": "16.19",
          "histogram": [
           {
            "bin_start": 5.43,
            "bin_end": 6.506,
            "count": 4
           },
           {
            "bin_start": 6.506,
            "bin_end": 7.582,
            "count": 4
           },
           {
            "bin_start": 7.582,
            "bin_end": 8.658,
            "count": 75
           },
           {
            "bin_start": 8.658,
            "bin_end": 9.734,
            "count": 41
           },
           {
            "bin_start": 9.734,
            "bin_end": 10.81,
            "count": 12
           },
           {
            "bin_start": 10.81,
            "bin_end": 11.886,
            "count": 6
           },
           {
            "bin_start": 11.886,
            "bin_end": 12.962,
            "count": 2
           },
           {
            "bin_start": 12.962,
            "bin_end": 14.038,
            "count": 1
           },
           {
            "bin_start": 14.038,
            "bin_end": 15.114,
            "count": 3
           },
           {
            "bin_start": 15.114,
            "bin_end": 16.19,
            "count": 1
           }
          ]
         }
        },
        {
         "name": "Ba",
         "dtype": "float64",
         "stats": {
          "unique_count": 26,
          "nan_count": 0,
          "min": "0.0",
          "max": "3.15",
          "histogram": [
           {
            "bin_start": 0,
            "bin_end": 0.315,
            "count": 128
           },
           {
            "bin_start": 0.315,
            "bin_end": 0.63,
            "count": 4
           },
           {
            "bin_start": 0.63,
            "bin_end": 0.9450000000000001,
            "count": 3
           },
           {
            "bin_start": 0.9450000000000001,
            "bin_end": 1.26,
            "count": 2
           },
           {
            "bin_start": 1.26,
            "bin_end": 1.575,
            "count": 4
           },
           {
            "bin_start": 1.575,
            "bin_end": 1.8900000000000001,
            "count": 5
           },
           {
            "bin_start": 1.8900000000000001,
            "bin_end": 2.205,
            "count": 1
           },
           {
            "bin_start": 2.205,
            "bin_end": 2.52,
            "count": 0
           },
           {
            "bin_start": 2.52,
            "bin_end": 2.835,
            "count": 0
           },
           {
            "bin_start": 2.835,
            "bin_end": 3.15,
            "count": 2
           }
          ]
         }
        },
        {
         "name": "Fe",
         "dtype": "float64",
         "stats": {
          "unique_count": 27,
          "nan_count": 0,
          "min": "0.0",
          "max": "0.37",
          "histogram": [
           {
            "bin_start": 0,
            "bin_end": 0.037,
            "count": 98
           },
           {
            "bin_start": 0.037,
            "bin_end": 0.074,
            "count": 4
           },
           {
            "bin_start": 0.074,
            "bin_end": 0.11099999999999999,
            "count": 11
           },
           {
            "bin_start": 0.11099999999999999,
            "bin_end": 0.148,
            "count": 5
           },
           {
            "bin_start": 0.148,
            "bin_end": 0.185,
            "count": 9
           },
           {
            "bin_start": 0.185,
            "bin_end": 0.22199999999999998,
            "count": 5
           },
           {
            "bin_start": 0.22199999999999998,
            "bin_end": 0.259,
            "count": 8
           },
           {
            "bin_start": 0.259,
            "bin_end": 0.296,
            "count": 4
           },
           {
            "bin_start": 0.296,
            "bin_end": 0.33299999999999996,
            "count": 3
           },
           {
            "bin_start": 0.33299999999999996,
            "bin_end": 0.37,
            "count": 2
           }
          ]
         }
        },
        {
         "name": "type",
         "dtype": "int64",
         "stats": {
          "unique_count": 6,
          "nan_count": 0,
          "min": "1",
          "max": "7",
          "histogram": [
           {
            "bin_start": 1,
            "bin_end": 1.6,
            "count": 49
           },
           {
            "bin_start": 1.6,
            "bin_end": 2.2,
            "count": 53
           },
           {
            "bin_start": 2.2,
            "bin_end": 2.8,
            "count": 0
           },
           {
            "bin_start": 2.8,
            "bin_end": 3.4,
            "count": 12
           },
           {
            "bin_start": 3.4,
            "bin_end": 4,
            "count": 0
           },
           {
            "bin_start": 4,
            "bin_end": 4.6,
            "count": 0
           },
           {
            "bin_start": 4.6,
            "bin_end": 5.2,
            "count": 9
           },
           {
            "bin_start": 5.2,
            "bin_end": 5.8,
            "count": 0
           },
           {
            "bin_start": 5.8,
            "bin_end": 6.3999999999999995,
            "count": 6
           },
           {
            "bin_start": 6.3999999999999995,
            "bin_end": 7,
            "count": 20
           }
          ]
         }
        },
        {
         "name": "_deepnote_index_column",
         "dtype": "int64"
        }
       ],
       "rows_top": [
        {
         "RI": 1.51839,
         "Na": 12.85,
         "Mg": 3.67,
         "Al": 1.24,
         "Si": 72.57,
         "K": 0.62,
         "Ca": 8.68,
         "Ba": 0,
         "Fe": 0.35,
         "type": 2,
         "_deepnote_index_column": 0
        },
        {
         "RI": 1.52081,
         "Na": 13.78,
         "Mg": 2.28,
         "Al": 1.43,
         "Si": 71.99,
         "K": 0.49,
         "Ca": 9.85,
         "Ba": 0,
         "Fe": 0.17,
         "type": 2,
         "_deepnote_index_column": 1
        },
        {
         "RI": 1.51708,
         "Na": 13.72,
         "Mg": 3.68,
         "Al": 1.81,
         "Si": 72.06,
         "K": 0.64,
         "Ca": 7.88,
         "Ba": 0,
         "Fe": 0,
         "type": 2,
         "_deepnote_index_column": 2
        },
        {
         "RI": 1.52739,
         "Na": 11.02,
         "Mg": 0,
         "Al": 0.75,
         "Si": 73.08,
         "K": 0,
         "Ca": 14.96,
         "Ba": 0,
         "Fe": 0,
         "type": 2,
         "_deepnote_index_column": 3
        },
        {
         "RI": 1.5221,
         "Na": 13.73,
         "Mg": 3.84,
         "Al": 0.72,
         "Si": 71.76,
         "K": 0.17,
         "Ca": 9.74,
         "Ba": 0,
         "Fe": 0,
         "type": 1,
         "_deepnote_index_column": 4
        },
        {
         "RI": 1.51631,
         "Na": 13.34,
         "Mg": 3.57,
         "Al": 1.57,
         "Si": 72.87,
         "K": 0.61,
         "Ca": 7.89,
         "Ba": 0,
         "Fe": 0,
         "type": 2,
         "_deepnote_index_column": 5
        },
        {
         "RI": 1.5174299999999998,
         "Na": 12.2,
         "Mg": 3.25,
         "Al": 1.16,
         "Si": 73.55,
         "K": 0.62,
         "Ca": 8.9,
         "Ba": 0,
         "Fe": 0.24,
         "type": 2,
         "_deepnote_index_column": 6
        },
        {
         "RI": 1.51915,
         "Na": 12.73,
         "Mg": 1.85,
         "Al": 1.86,
         "Si": 72.69,
         "K": 0.6,
         "Ca": 10.09,
         "Ba": 0,
         "Fe": 0,
         "type": 5,
         "_deepnote_index_column": 7
        },
        {
         "RI": 1.51645,
         "Na": 13.44,
         "Mg": 3.61,
         "Al": 1.54,
         "Si": 72.39,
         "K": 0.66,
         "Ca": 8.03,
         "Ba": 0,
         "Fe": 0,
         "type": 2,
         "_deepnote_index_column": 8
        },
        {
         "RI": 1.51683,
         "Na": 14.56,
         "Mg": 0,
         "Al": 1.98,
         "Si": 73.29,
         "K": 0,
         "Ca": 8.52,
         "Ba": 1.57,
         "Fe": 0.07,
         "type": 7,
         "_deepnote_index_column": 9
        },
        {
         "RI": 1.5175,
         "Na": 12.82,
         "Mg": 3.55,
         "Al": 1.49,
         "Si": 72.75,
         "K": 0.54,
         "Ca": 8.52,
         "Ba": 0,
         "Fe": 0.19,
         "type": 1,
         "_deepnote_index_column": 10
        },
        {
         "RI": 1.51588,
         "Na": 13.12,
         "Mg": 3.41,
         "Al": 1.58,
         "Si": 73.26,
         "K": 0.07,
         "Ca": 8.39,
         "Ba": 0,
         "Fe": 0.19,
         "type": 2,
         "_deepnote_index_column": 11
        },
        {
         "RI": 1.51831,
         "Na": 14.39,
         "Mg": 0,
         "Al": 1.82,
         "Si": 72.86,
         "K": 1.41,
         "Ca": 6.47,
         "Ba": 2.88,
         "Fe": 0,
         "type": 7,
         "_deepnote_index_column": 12
        },
        {
         "RI": 1.51966,
         "Na": 14.77,
         "Mg": 3.75,
         "Al": 0.29,
         "Si": 72.02,
         "K": 0.03,
         "Ca": 9,
         "Ba": 0,
         "Fe": 0,
         "type": 1,
         "_deepnote_index_column": 13
        },
        {
         "RI": 1.51764,
         "Na": 12.98,
         "Mg": 3.54,
         "Al": 1.21,
         "Si": 73,
         "K": 0.65,
         "Ca": 8.53,
         "Ba": 0,
         "Fe": 0,
         "type": 1,
         "_deepnote_index_column": 14
        },
        {
         "RI": 1.51837,
         "Na": 13.14,
         "Mg": 2.84,
         "Al": 1.28,
         "Si": 72.85,
         "K": 0.55,
         "Ca": 9.07,
         "Ba": 0,
         "Fe": 0,
         "type": 1,
         "_deepnote_index_column": 15
        },
        {
         "RI": 1.5183799999999998,
         "Na": 14.32,
         "Mg": 3.26,
         "Al": 2.22,
         "Si": 71.25,
         "K": 1.46,
         "Ca": 5.79,
         "Ba": 1.63,
         "Fe": 0,
         "type": 7,
         "_deepnote_index_column": 16
        },
        {
         "RI": 1.5159,
         "Na": 12.82,
         "Mg": 3.52,
         "Al": 1.9,
         "Si": 72.86,
         "K": 0.69,
         "Ca": 7.97,
         "Ba": 0,
         "Fe": 0,
         "type": 2,
         "_deepnote_index_column": 17
        },
        {
         "RI": 1.51627,
         "Na": 13,
         "Mg": 3.58,
         "Al": 1.54,
         "Si": 72.83,
         "K": 0.61,
         "Ca": 8.04,
         "Ba": 0,
         "Fe": 0,
         "type": 2,
         "_deepnote_index_column": 18
        },
        {
         "RI": 1.51754,
         "Na": 13.48,
         "Mg": 3.74,
         "Al": 1.17,
         "Si": 72.99,
         "K": 0.59,
         "Ca": 8.03,
         "Ba": 0,
         "Fe": 0,
         "type": 1,
         "_deepnote_index_column": 19
        },
        {
         "RI": 1.5159200000000002,
         "Na": 12.86,
         "Mg": 3.52,
         "Al": 2.12,
         "Si": 72.66,
         "K": 0.69,
         "Ca": 7.97,
         "Ba": 0,
         "Fe": 0,
         "type": 2,
         "_deepnote_index_column": 20
        },
        {
         "RI": 1.51727,
         "Na": 14.7,
         "Mg": 0,
         "Al": 2.34,
         "Si": 73.28,
         "K": 0,
         "Ca": 8.95,
         "Ba": 0.66,
         "Fe": 0,
         "type": 7,
         "_deepnote_index_column": 21
        },
        {
         "RI": 1.51531,
         "Na": 14.38,
         "Mg": 0,
         "Al": 2.66,
         "Si": 73.1,
         "K": 0.04,
         "Ca": 9.08,
         "Ba": 0.64,
         "Fe": 0,
         "type": 7,
         "_deepnote_index_column": 22
        },
        {
         "RI": 1.51905,
         "Na": 14,
         "Mg": 2.39,
         "Al": 1.56,
         "Si": 72.37,
         "K": 0,
         "Ca": 9.57,
         "Ba": 0,
         "Fe": 0,
         "type": 6,
         "_deepnote_index_column": 23
        },
        {
         "RI": 1.51646,
         "Na": 13.04,
         "Mg": 3.4,
         "Al": 1.26,
         "Si": 73.01,
         "K": 0.52,
         "Ca": 8.58,
         "Ba": 0,
         "Fe": 0,
         "type": 3,
         "_deepnote_index_column": 24
        },
        {
         "RI": 1.51806,
         "Na": 13,
         "Mg": 3.8,
         "Al": 1.08,
         "Si": 73.07,
         "K": 0.56,
         "Ca": 8.38,
         "Ba": 0,
         "Fe": 0.12,
         "type": 2,
         "_deepnote_index_column": 25
        },
        {
         "RI": 1.51299,
         "Na": 14.4,
         "Mg": 1.74,
         "Al": 1.54,
         "Si": 74.55,
         "K": 0,
         "Ca": 7.59,
         "Ba": 0,
         "Fe": 0,
         "type": 6,
         "_deepnote_index_column": 26
        },
        {
         "RI": 1.5169,
         "Na": 13.33,
         "Mg": 3.54,
         "Al": 1.61,
         "Si": 72.54,
         "K": 0.68,
         "Ca": 8.11,
         "Ba": 0,
         "Fe": 0,
         "type": 2,
         "_deepnote_index_column": 27
        },
        {
         "RI": 1.51916,
         "Na": 14.15,
         "Mg": 0,
         "Al": 2.09,
         "Si": 72.74,
         "K": 0,
         "Ca": 10.88,
         "Ba": 0,
         "Fe": 0,
         "type": 6,
         "_deepnote_index_column": 28
        },
        {
         "RI": 1.52247,
         "Na": 14.86,
         "Mg": 2.2,
         "Al": 2.06,
         "Si": 70.26,
         "K": 0.76,
         "Ca": 9.76,
         "Ba": 0,
         "Fe": 0,
         "type": 7,
         "_deepnote_index_column": 29
        },
        {
         "RI": 1.51596,
         "Na": 12.79,
         "Mg": 3.61,
         "Al": 1.62,
         "Si": 72.97,
         "K": 0.64,
         "Ca": 8.07,
         "Ba": 0,
         "Fe": 0.26,
         "type": 1,
         "_deepnote_index_column": 30
        },
        {
         "RI": 1.51652,
         "Na": 13.56,
         "Mg": 3.57,
         "Al": 1.47,
         "Si": 72.45,
         "K": 0.64,
         "Ca": 7.96,
         "Ba": 0,
         "Fe": 0,
         "type": 2,
         "_deepnote_index_column": 31
        },
        {
         "RI": 1.51115,
         "Na": 17.38,
         "Mg": 0,
         "Al": 0.34,
         "Si": 75.41,
         "K": 0,
         "Ca": 6.65,
         "Ba": 0,
         "Fe": 0,
         "type": 6,
         "_deepnote_index_column": 32
        },
        {
         "RI": 1.51813,
         "Na": 13.43,
         "Mg": 3.98,
         "Al": 1.18,
         "Si": 72.49,
         "K": 0.58,
         "Ca": 8.15,
         "Ba": 0,
         "Fe": 0,
         "type": 2,
         "_deepnote_index_column": 33
        },
        {
         "RI": 1.51131,
         "Na": 13.69,
         "Mg": 3.2,
         "Al": 1.81,
         "Si": 72.81,
         "K": 1.76,
         "Ca": 5.43,
         "Ba": 1.19,
         "Fe": 0,
         "type": 7,
         "_deepnote_index_column": 34
        },
        {
         "RI": 1.52223,
         "Na": 13.21,
         "Mg": 3.77,
         "Al": 0.79,
         "Si": 71.99,
         "K": 0.13,
         "Ca": 10.02,
         "Ba": 0,
         "Fe": 0,
         "type": 1,
         "_deepnote_index_column": 35
        },
        {
         "RI": 1.51711,
         "Na": 12.89,
         "Mg": 3.62,
         "Al": 1.57,
         "Si": 72.96,
         "K": 0.61,
         "Ca": 8.11,
         "Ba": 0,
         "Fe": 0,
         "type": 2,
         "_deepnote_index_column": 36
        },
        {
         "RI": 1.52152,
         "Na": 13.05,
         "Mg": 3.65,
         "Al": 0.87,
         "Si": 72.22,
         "K": 0.19,
         "Ca": 9.85,
         "Ba": 0,
         "Fe": 0.17,
         "type": 1,
         "_deepnote_index_column": 37
        },
        {
         "RI": 1.51761,
         "Na": 12.81,
         "Mg": 3.54,
         "Al": 1.23,
         "Si": 73.24,
         "K": 0.58,
         "Ca": 8.39,
         "Ba": 0,
         "Fe": 0,
         "type": 1,
         "_deepnote_index_column": 38
        },
        {
         "RI": 1.51872,
         "Na": 12.93,
         "Mg": 3.66,
         "Al": 1.56,
         "Si": 72.51,
         "K": 0.58,
         "Ca": 8.55,
         "Ba": 0,
         "Fe": 0.12,
         "type": 2,
         "_deepnote_index_column": 39
        },
        {
         "RI": 1.5164,
         "Na": 14.37,
         "Mg": 0,
         "Al": 2.74,
         "Si": 72.85,
         "K": 0,
         "Ca": 9.45,
         "Ba": 0.54,
         "Fe": 0,
         "type": 7,
         "_deepnote_index_column": 40
        },
        {
         "RI": 1.51846,
         "Na": 13.41,
         "Mg": 3.89,
         "Al": 1.33,
         "Si": 72.38,
         "K": 0.51,
         "Ca": 8.28,
         "Ba": 0,
         "Fe": 0,
         "type": 2,
         "_deepnote_index_column": 41
        },
        {
         "RI": 1.51742,
         "Na": 13.27,
         "Mg": 3.62,
         "Al": 1.24,
         "Si": 73.08,
         "K": 0.55,
         "Ca": 8.07,
         "Ba": 0,
         "Fe": 0,
         "type": 1,
         "_deepnote_index_column": 42
        },
        {
         "RI": 1.5172,
         "Na": 13.38,
         "Mg": 3.5,
         "Al": 1.15,
         "Si": 72.85,
         "K": 0.5,
         "Ca": 8.43,
         "Ba": 0,
         "Fe": 0,
         "type": 1,
         "_deepnote_index_column": 43
        },
        {
         "RI": 1.5166,
         "Na": 12.99,
         "Mg": 3.18,
         "Al": 1.23,
         "Si": 72.97,
         "K": 0.58,
         "Ca": 8.81,
         "Ba": 0,
         "Fe": 0.24,
         "type": 2,
         "_deepnote_index_column": 44
        },
        {
         "RI": 1.51769,
         "Na": 12.45,
         "Mg": 2.71,
         "Al": 1.29,
         "Si": 73.7,
         "K": 0.56,
         "Ca": 9.06,
         "Ba": 0,
         "Fe": 0.24,
         "type": 1,
         "_deepnote_index_column": 45
        },
        {
         "RI": 1.51769,
         "Na": 13.65,
         "Mg": 3.66,
         "Al": 1.11,
         "Si": 72.77,
         "K": 0.11,
         "Ca": 8.6,
         "Ba": 0,
         "Fe": 0,
         "type": 3,
         "_deepnote_index_column": 46
        },
        {
         "RI": 1.52068,
         "Na": 13.55,
         "Mg": 2.09,
         "Al": 1.67,
         "Si": 72.18,
         "K": 0.53,
         "Ca": 9.57,
         "Ba": 0.27,
         "Fe": 0.17,
         "type": 2,
         "_deepnote_index_column": 47
        },
        {
         "RI": 1.51667,
         "Na": 12.94,
         "Mg": 3.61,
         "Al": 1.26,
         "Si": 72.75,
         "K": 0.56,
         "Ca": 8.6,
         "Ba": 0,
         "Fe": 0,
         "type": 2,
         "_deepnote_index_column": 48
        },
        {
         "RI": 1.5159,
         "Na": 13.24,
         "Mg": 3.34,
         "Al": 1.47,
         "Si": 73.1,
         "K": 0.39,
         "Ca": 8.22,
         "Ba": 0,
         "Fe": 0,
         "type": 2,
         "_deepnote_index_column": 49
        }
       ],
       "rows_bottom": [
        {
         "RI": 1.52127,
         "Na": 14.32,
         "Mg": 3.9,
         "Al": 0.83,
         "Si": 71.5,
         "K": 0,
         "Ca": 9.49,
         "Ba": 0,
         "Fe": 0,
         "type": 3,
         "_deepnote_index_column": 99
        },
        {
         "RI": 1.51663,
         "Na": 12.93,
         "Mg": 3.54,
         "Al": 1.62,
         "Si": 72.96,
         "K": 0.64,
         "Ca": 8.03,
         "Ba": 0,
         "Fe": 0.21,
         "type": 2,
         "_deepnote_index_column": 100
        },
        {
         "RI": 1.51844,
         "Na": 13.25,
         "Mg": 3.76,
         "Al": 1.32,
         "Si": 72.4,
         "K": 0.58,
         "Ca": 8.42,
         "Ba": 0,
         "Fe": 0,
         "type": 2,
         "_deepnote_index_column": 101
        },
        {
         "RI": 1.51793,
         "Na": 13.21,
         "Mg": 3.48,
         "Al": 1.41,
         "Si": 72.64,
         "K": 0.59,
         "Ca": 8.43,
         "Ba": 0,
         "Fe": 0,
         "type": 1,
         "_deepnote_index_column": 102
        },
        {
         "RI": 1.51779,
         "Na": 13.64,
         "Mg": 3.65,
         "Al": 0.65,
         "Si": 73,
         "K": 0.06,
         "Ca": 8.93,
         "Ba": 0,
         "Fe": 0,
         "type": 3,
         "_deepnote_index_column": 103
        },
        {
         "RI": 1.519,
         "Na": 13.49,
         "Mg": 3.48,
         "Al": 1.35,
         "Si": 71.95,
         "K": 0.55,
         "Ca": 9,
         "Ba": 0,
         "Fe": 0,
         "type": 1,
         "_deepnote_index_column": 104
        },
        {
         "RI": 1.51643,
         "Na": 12.16,
         "Mg": 3.52,
         "Al": 1.35,
         "Si": 72.89,
         "K": 0.57,
         "Ca": 8.53,
         "Ba": 0,
         "Fe": 0,
         "type": 3,
         "_deepnote_index_column": 105
        },
        {
         "RI": 1.51645,
         "Na": 14.94,
         "Mg": 0,
         "Al": 1.87,
         "Si": 73.11,
         "K": 0,
         "Ca": 8.67,
         "Ba": 1.38,
         "Fe": 0,
         "type": 7,
         "_deepnote_index_column": 106
        },
        {
         "RI": 1.53125,
         "Na": 10.73,
         "Mg": 0,
         "Al": 2.1,
         "Si": 69.81,
         "K": 0.58,
         "Ca": 13.3,
         "Ba": 3.15,
         "Fe": 0.28,
         "type": 2,
         "_deepnote_index_column": 107
        },
        {
         "RI": 1.51514,
         "Na": 14.01,
         "Mg": 2.68,
         "Al": 3.5,
         "Si": 69.89,
         "K": 1.68,
         "Ca": 5.87,
         "Ba": 2.2,
         "Fe": 0,
         "type": 5,
         "_deepnote_index_column": 108
        },
        {
         "RI": 1.51761,
         "Na": 13.89,
         "Mg": 3.6,
         "Al": 1.36,
         "Si": 72.73,
         "K": 0.48,
         "Ca": 7.83,
         "Ba": 0,
         "Fe": 0,
         "type": 1,
         "_deepnote_index_column": 109
        },
        {
         "RI": 1.51673,
         "Na": 13.3,
         "Mg": 3.64,
         "Al": 1.53,
         "Si": 72.53,
         "K": 0.65,
         "Ca": 8.03,
         "Ba": 0,
         "Fe": 0.29,
         "type": 2,
         "_deepnote_index_column": 110
        },
        {
         "RI": 1.52667,
         "Na": 13.99,
         "Mg": 3.7,
         "Al": 0.71,
         "Si": 71.57,
         "K": 0.02,
         "Ca": 9.82,
         "Ba": 0,
         "Fe": 0.1,
         "type": 1,
         "_deepnote_index_column": 111
        },
        {
         "RI": 1.51766,
         "Na": 13.21,
         "Mg": 3.69,
         "Al": 1.29,
         "Si": 72.61,
         "K": 0.57,
         "Ca": 8.22,
         "Ba": 0,
         "Fe": 0,
         "type": 1,
         "_deepnote_index_column": 112
        },
        {
         "RI": 1.51808,
         "Na": 13.43,
         "Mg": 2.87,
         "Al": 1.19,
         "Si": 72.84,
         "K": 0.55,
         "Ca": 9.03,
         "Ba": 0,
         "Fe": 0,
         "type": 1,
         "_deepnote_index_column": 113
        },
        {
         "RI": 1.51719,
         "Na": 14.75,
         "Mg": 0,
         "Al": 2,
         "Si": 73.02,
         "K": 0,
         "Ca": 8.53,
         "Ba": 1.59,
         "Fe": 0.08,
         "type": 7,
         "_deepnote_index_column": 114
        },
        {
         "RI": 1.5167,
         "Na": 13.24,
         "Mg": 3.57,
         "Al": 1.38,
         "Si": 72.7,
         "K": 0.56,
         "Ca": 8.44,
         "Ba": 0,
         "Fe": 0.1,
         "type": 3,
         "_deepnote_index_column": 115
        },
        {
         "RI": 1.51755,
         "Na": 13,
         "Mg": 3.6,
         "Al": 1.36,
         "Si": 72.99,
         "K": 0.57,
         "Ca": 8.4,
         "Ba": 0,
         "Fe": 0.11,
         "type": 1,
         "_deepnote_index_column": 116
        },
        {
         "RI": 1.51796,
         "Na": 13.5,
         "Mg": 3.36,
         "Al": 1.63,
         "Si": 71.94,
         "K": 0.57,
         "Ca": 8.81,
         "Ba": 0,
         "Fe": 0.09,
         "type": 3,
         "_deepnote_index_column": 117
        },
        {
         "RI": 1.52171,
         "Na": 11.56,
         "Mg": 1.88,
         "Al": 1.56,
         "Si": 72.86,
         "K": 0.47,
         "Ca": 11.41,
         "Ba": 0,
         "Fe": 0,
         "type": 5,
         "_deepnote_index_column": 118
        },
        {
         "RI": 1.5186,
         "Na": 13.36,
         "Mg": 3.43,
         "Al": 1.43,
         "Si": 72.26,
         "K": 0.51,
         "Ca": 8.6,
         "Ba": 0,
         "Fe": 0,
         "type": 2,
         "_deepnote_index_column": 119
        },
        {
         "RI": 1.51674,
         "Na": 12.79,
         "Mg": 3.52,
         "Al": 1.54,
         "Si": 73.36,
         "K": 0.66,
         "Ca": 7.9,
         "Ba": 0,
         "Fe": 0,
         "type": 2,
         "_deepnote_index_column": 120
        },
        {
         "RI": 1.52151,
         "Na": 11.03,
         "Mg": 1.71,
         "Al": 1.56,
         "Si": 73.44,
         "K": 0.58,
         "Ca": 11.62,
         "Ba": 0,
         "Fe": 0,
         "type": 5,
         "_deepnote_index_column": 121
        },
        {
         "RI": 1.51711,
         "Na": 14.23,
         "Mg": 0,
         "Al": 2.08,
         "Si": 73.36,
         "K": 0,
         "Ca": 8.62,
         "Ba": 1.67,
         "Fe": 0,
         "type": 7,
         "_deepnote_index_column": 122
        },
        {
         "RI": 1.51851,
         "Na": 13.2,
         "Mg": 3.63,
         "Al": 1.07,
         "Si": 72.83,
         "K": 0.57,
         "Ca": 8.41,
         "Ba": 0.09,
         "Fe": 0.17,
         "type": 2,
         "_deepnote_index_column": 123
        },
        {
         "RI": 1.51756,
         "Na": 13.15,
         "Mg": 3.61,
         "Al": 1.05,
         "Si": 73.24,
         "K": 0.57,
         "Ca": 8.24,
         "Ba": 0,
         "Fe": 0,
         "type": 1,
         "_deepnote_index_column": 124
        },
        {
         "RI": 1.51623,
         "Na": 14.14,
         "Mg": 0,
         "Al": 2.88,
         "Si": 72.61,
         "K": 0.08,
         "Ca": 9.18,
         "Ba": 1.06,
         "Fe": 0,
         "type": 7,
         "_deepnote_index_column": 125
        },
        {
         "RI": 1.51674,
         "Na": 12.87,
         "Mg": 3.56,
         "Al": 1.64,
         "Si": 73.14,
         "K": 0.65,
         "Ca": 7.99,
         "Ba": 0,
         "Fe": 0,
         "type": 2,
         "_deepnote_index_column": 126
        },
        {
         "RI": 1.51934,
         "Na": 13.64,
         "Mg": 3.54,
         "Al": 0.75,
         "Si": 72.65,
         "K": 0.16,
         "Ca": 8.89,
         "Ba": 0.15,
         "Fe": 0.24,
         "type": 3,
         "_deepnote_index_column": 127
        },
        {
         "RI": 1.51514,
         "Na": 14.85,
         "Mg": 0,
         "Al": 2.42,
         "Si": 73.72,
         "K": 0,
         "Ca": 8.39,
         "Ba": 0.56,
         "Fe": 0,
         "type": 7,
         "_deepnote_index_column": 128
        },
        {
         "RI": 1.51609,
         "Na": 15.01,
         "Mg": 0,
         "Al": 2.51,
         "Si": 73.05,
         "K": 0.05,
         "Ca": 8.83,
         "Ba": 0.53,
         "Fe": 0,
         "type": 7,
         "_deepnote_index_column": 129
        },
        {
         "RI": 1.5182,
         "Na": 12.62,
         "Mg": 2.76,
         "Al": 0.83,
         "Si": 73.81,
         "K": 0.35,
         "Ca": 9.42,
         "Ba": 0,
         "Fe": 0.2,
         "type": 2,
         "_deepnote_index_column": 130
        },
        {
         "RI": 1.5232,
         "Na": 13.72,
         "Mg": 3.72,
         "Al": 0.51,
         "Si": 71.75,
         "K": 0.09,
         "Ca": 10.06,
         "Ba": 0,
         "Fe": 0.16,
         "type": 1,
         "_deepnote_index_column": 131
        },
        {
         "RI": 1.51732,
         "Na": 14.95,
         "Mg": 0,
         "Al": 1.8,
         "Si": 72.99,
         "K": 0,
         "Ca": 8.61,
         "Ba": 1.55,
         "Fe": 0,
         "type": 7,
         "_deepnote_index_column": 132
        },
        {
         "RI": 1.51778,
         "Na": 13.21,
         "Mg": 2.81,
         "Al": 1.29,
         "Si": 72.98,
         "K": 0.51,
         "Ca": 9.02,
         "Ba": 0,
         "Fe": 0.09,
         "type": 1,
         "_deepnote_index_column": 133
        },
        {
         "RI": 1.523,
         "Na": 13.31,
         "Mg": 3.58,
         "Al": 0.82,
         "Si": 71.99,
         "K": 0.12,
         "Ca": 10.17,
         "Ba": 0,
         "Fe": 0.03,
         "type": 1,
         "_deepnote_index_column": 134
        },
        {
         "RI": 1.51613,
         "Na": 13.92,
         "Mg": 3.52,
         "Al": 1.25,
         "Si": 72.88,
         "K": 0.37,
         "Ca": 7.94,
         "Ba": 0,
         "Fe": 0.14,
         "type": 2,
         "_deepnote_index_column": 135
        },
        {
         "RI": 1.51574,
         "Na": 14.86,
         "Mg": 3.67,
         "Al": 1.74,
         "Si": 71.87,
         "K": 0.16,
         "Ca": 7.36,
         "Ba": 0,
         "Fe": 0.12,
         "type": 2,
         "_deepnote_index_column": 136
        },
        {
         "RI": 1.5168700000000002,
         "Na": 13.23,
         "Mg": 3.54,
         "Al": 1.48,
         "Si": 72.84,
         "K": 0.56,
         "Ca": 8.1,
         "Ba": 0,
         "Fe": 0,
         "type": 2,
         "_deepnote_index_column": 137
        },
        {
         "RI": 1.51316,
         "Na": 13.02,
         "Mg": 0,
         "Al": 3.04,
         "Si": 70.48,
         "K": 6.21,
         "Ca": 6.96,
         "Ba": 0,
         "Fe": 0,
         "type": 5,
         "_deepnote_index_column": 138
        },
        {
         "RI": 1.51409,
         "Na": 14.25,
         "Mg": 3.09,
         "Al": 2.08,
         "Si": 72.28,
         "K": 1.1,
         "Ca": 7.08,
         "Ba": 0,
         "Fe": 0,
         "type": 2,
         "_deepnote_index_column": 139
        },
        {
         "RI": 1.52369,
         "Na": 13.44,
         "Mg": 0,
         "Al": 1.58,
         "Si": 72.22,
         "K": 0.32,
         "Ca": 12.24,
         "Ba": 0,
         "Fe": 0,
         "type": 5,
         "_deepnote_index_column": 140
        },
        {
         "RI": 1.52099,
         "Na": 13.69,
         "Mg": 3.59,
         "Al": 1.12,
         "Si": 71.96,
         "K": 0.09,
         "Ca": 9.4,
         "Ba": 0,
         "Fe": 0,
         "type": 1,
         "_deepnote_index_column": 141
        },
        {
         "RI": 1.51829,
         "Na": 13.24,
         "Mg": 3.9,
         "Al": 1.41,
         "Si": 72.33,
         "K": 0.55,
         "Ca": 8.31,
         "Ba": 0,
         "Fe": 0.1,
         "type": 2,
         "_deepnote_index_column": 142
        },
        {
         "RI": 1.51618,
         "Na": 13.53,
         "Mg": 3.55,
         "Al": 1.54,
         "Si": 72.99,
         "K": 0.39,
         "Ca": 7.78,
         "Ba": 0,
         "Fe": 0,
         "type": 1,
         "_deepnote_index_column": 143
        },
        {
         "RI": 1.51755,
         "Na": 12.71,
         "Mg": 3.42,
         "Al": 1.2,
         "Si": 73.2,
         "K": 0.59,
         "Ca": 8.64,
         "Ba": 0,
         "Fe": 0,
         "type": 1,
         "_deepnote_index_column": 144
        },
        {
         "RI": 1.518,
         "Na": 13.71,
         "Mg": 3.93,
         "Al": 1.54,
         "Si": 71.81,
         "K": 0.54,
         "Ca": 8.21,
         "Ba": 0,
         "Fe": 0.15,
         "type": 2,
         "_deepnote_index_column": 145
        },
        {
         "RI": 1.52365,
         "Na": 15.79,
         "Mg": 1.83,
         "Al": 1.31,
         "Si": 70.43,
         "K": 0.31,
         "Ca": 8.61,
         "Ba": 1.68,
         "Fe": 0,
         "type": 7,
         "_deepnote_index_column": 146
        },
        {
         "RI": 1.51571,
         "Na": 12.72,
         "Mg": 3.46,
         "Al": 1.56,
         "Si": 73.2,
         "K": 0.67,
         "Ca": 8.09,
         "Ba": 0,
         "Fe": 0.24,
         "type": 1,
         "_deepnote_index_column": 147
        },
        {
         "RI": 1.51786,
         "Na": 12.73,
         "Mg": 3.43,
         "Al": 1.19,
         "Si": 72.95,
         "K": 0.62,
         "Ca": 8.76,
         "Ba": 0,
         "Fe": 0.3,
         "type": 1,
         "_deepnote_index_column": 148
        }
       ]
      },
      "text/plain": "          RI     Na    Mg    Al     Si     K     Ca    Ba    Fe  type\n0    1.51839  12.85  3.67  1.24  72.57  0.62   8.68  0.00  0.35     2\n1    1.52081  13.78  2.28  1.43  71.99  0.49   9.85  0.00  0.17     2\n2    1.51708  13.72  3.68  1.81  72.06  0.64   7.88  0.00  0.00     2\n3    1.52739  11.02  0.00  0.75  73.08  0.00  14.96  0.00  0.00     2\n4    1.52210  13.73  3.84  0.72  71.76  0.17   9.74  0.00  0.00     1\n..       ...    ...   ...   ...    ...   ...    ...   ...   ...   ...\n144  1.51755  12.71  3.42  1.20  73.20  0.59   8.64  0.00  0.00     1\n145  1.51800  13.71  3.93  1.54  71.81  0.54   8.21  0.00  0.15     2\n146  1.52365  15.79  1.83  1.31  70.43  0.31   8.61  1.68  0.00     7\n147  1.51571  12.72  3.46  1.56  73.20  0.67   8.09  0.00  0.24     1\n148  1.51786  12.73  3.43  1.19  72.95  0.62   8.76  0.00  0.30     1\n\n[149 rows x 10 columns]",
      "text/html": "<div>\n<style scoped>\n    .dataframe tbody tr th:only-of-type {\n        vertical-align: middle;\n    }\n\n    .dataframe tbody tr th {\n        vertical-align: top;\n    }\n\n    .dataframe thead th {\n        text-align: right;\n    }\n</style>\n<table border=\"1\" class=\"dataframe\">\n  <thead>\n    <tr style=\"text-align: right;\">\n      <th></th>\n      <th>RI</th>\n      <th>Na</th>\n      <th>Mg</th>\n      <th>Al</th>\n      <th>Si</th>\n      <th>K</th>\n      <th>Ca</th>\n      <th>Ba</th>\n      <th>Fe</th>\n      <th>type</th>\n    </tr>\n  </thead>\n  <tbody>\n    <tr>\n      <th>0</th>\n      <td>1.51839</td>\n      <td>12.85</td>\n      <td>3.67</td>\n      <td>1.24</td>\n      <td>72.57</td>\n      <td>0.62</td>\n      <td>8.68</td>\n      <td>0.00</td>\n      <td>0.35</td>\n      <td>2</td>\n    </tr>\n    <tr>\n      <th>1</th>\n      <td>1.52081</td>\n      <td>13.78</td>\n      <td>2.28</td>\n      <td>1.43</td>\n      <td>71.99</td>\n      <td>0.49</td>\n      <td>9.85</td>\n      <td>0.00</td>\n      <td>0.17</td>\n      <td>2</td>\n    </tr>\n    <tr>\n      <th>2</th>\n      <td>1.51708</td>\n      <td>13.72</td>\n      <td>3.68</td>\n      <td>1.81</td>\n      <td>72.06</td>\n      <td>0.64</td>\n      <td>7.88</td>\n      <td>0.00</td>\n      <td>0.00</td>\n      <td>2</td>\n    </tr>\n    <tr>\n      <th>3</th>\n      <td>1.52739</td>\n      <td>11.02</td>\n      <td>0.00</td>\n      <td>0.75</td>\n      <td>73.08</td>\n      <td>0.00</td>\n      <td>14.96</td>\n      <td>0.00</td>\n      <td>0.00</td>\n      <td>2</td>\n    </tr>\n    <tr>\n      <th>4</th>\n      <td>1.52210</td>\n      <td>13.73</td>\n      <td>3.84</td>\n      <td>0.72</td>\n      <td>71.76</td>\n      <td>0.17</td>\n      <td>9.74</td>\n      <td>0.00</td>\n      <td>0.00</td>\n      <td>1</td>\n    </tr>\n    <tr>\n      <th>...</th>\n      <td>...</td>\n      <td>...</td>\n      <td>...</td>\n      <td>...</td>\n      <td>...</td>\n      <td>...</td>\n      <td>...</td>\n      <td>...</td>\n      <td>...</td>\n      <td>...</td>\n    </tr>\n    <tr>\n      <th>144</th>\n      <td>1.51755</td>\n      <td>12.71</td>\n      <td>3.42</td>\n      <td>1.20</td>\n      <td>73.20</td>\n      <td>0.59</td>\n      <td>8.64</td>\n      <td>0.00</td>\n      <td>0.00</td>\n      <td>1</td>\n    </tr>\n    <tr>\n      <th>145</th>\n      <td>1.51800</td>\n      <td>13.71</td>\n      <td>3.93</td>\n      <td>1.54</td>\n      <td>71.81</td>\n      <td>0.54</td>\n      <td>8.21</td>\n      <td>0.00</td>\n      <td>0.15</td>\n      <td>2</td>\n    </tr>\n    <tr>\n      <th>146</th>\n      <td>1.52365</td>\n      <td>15.79</td>\n      <td>1.83</td>\n      <td>1.31</td>\n      <td>70.43</td>\n      <td>0.31</td>\n      <td>8.61</td>\n      <td>1.68</td>\n      <td>0.00</td>\n      <td>7</td>\n    </tr>\n    <tr>\n      <th>147</th>\n      <td>1.51571</td>\n      <td>12.72</td>\n      <td>3.46</td>\n      <td>1.56</td>\n      <td>73.20</td>\n      <td>0.67</td>\n      <td>8.09</td>\n      <td>0.00</td>\n      <td>0.24</td>\n      <td>1</td>\n    </tr>\n    <tr>\n      <th>148</th>\n      <td>1.51786</td>\n      <td>12.73</td>\n      <td>3.43</td>\n      <td>1.19</td>\n      <td>72.95</td>\n      <td>0.62</td>\n      <td>8.76</td>\n      <td>0.00</td>\n      <td>0.30</td>\n      <td>1</td>\n    </tr>\n  </tbody>\n</table>\n<p>149 rows × 10 columns</p>\n</div>"
     },
     "metadata": {}
    }
   ],
   "execution_count": null
  },
  {
   "cell_type": "code",
   "metadata": {
    "tags": [],
    "cell_id": "00012-396a256b-6412-429e-bfb2-f8d436c5883b",
    "deepnote_to_be_reexecuted": false,
    "source_hash": "d88f5700",
    "execution_start": 1638353082413,
    "execution_millis": 4,
    "deepnote_output_heights": [
     78.75
    ],
    "deepnote_cell_type": "code"
   },
   "source": "def find_split(data):\n    results=[]\n    gini_min = 1000\n    threshold = None\n    best_feature= None\n    for feature in data.loc[:, data.columns != \"type\"]:\n        #sort data by feature here\n        sl = list(set(data.sort_values(feature)[feature]))\n        list_PS = [(sl[i+1]+sl[i])/2 for i in range(len(sl)-1)]\n        #find betweeen values for each pair of values in sorted \n        for PS in list_PS:#itterate through between values instead \n            mask = train[feature]>PS\n            split = list(data[mask][\"type\"])\n            antisplit = list(data[-mask][\"type\"]);\n            gini_val = gini_overall(split,antisplit)\n            if gini_val < gini_min:\n                gini_min = gini_val\n                threshold = PS \n                best_feature = feature\n            results.append([PS, gini_overall(split,antisplit),feature])\n    return (gini_min, threshold, best_feature)",
   "outputs": [],
   "execution_count": null
  },
  {
   "cell_type": "code",
   "metadata": {
    "tags": [],
    "cell_id": "00013-7147cc54-c00f-456f-8b6e-1a813882f76c",
    "deepnote_to_be_reexecuted": false,
    "source_hash": "b1594dc9",
    "execution_start": 1638353082422,
    "execution_millis": 1025,
    "deepnote_output_heights": [
     21.1875
    ],
    "deepnote_cell_type": "code"
   },
   "source": "find_split(train)",
   "outputs": [
    {
     "output_type": "execute_result",
     "execution_count": 8,
     "data": {
      "text/plain": "(0.6199065196548418, 0.4, 'Ba')"
     },
     "metadata": {}
    }
   ],
   "execution_count": null
  },
  {
   "cell_type": "code",
   "metadata": {
    "tags": [],
    "cell_id": "00011-998ecb33-3548-43b8-9f8e-ac271c6596e7",
    "deepnote_to_be_reexecuted": false,
    "source_hash": "bd70c69e",
    "execution_start": 1638353814250,
    "execution_millis": 0,
    "deepnote_output_heights": [
     253.96875
    ],
    "deepnote_cell_type": "code"
   },
   "source": "#plt.plot([0+(i/20) for i in range (100)],results)\n#plt.axvline(x=threshold,color=\"r\",label=\"YAY\")\n#plt.legend();",
   "outputs": [],
   "execution_count": null
  },
  {
   "cell_type": "code",
   "metadata": {
    "tags": [],
    "cell_id": "00013-9cb7ec71-3c5b-4677-acb9-7e860d1934cc",
    "deepnote_to_be_reexecuted": false,
    "source_hash": "717f5187",
    "execution_start": 1638353817364,
    "execution_millis": 1338,
    "deepnote_cell_type": "code"
   },
   "source": "from sklearn.tree import DecisionTreeClassifier\nrealthing=DecisionTreeClassifier(max_depth=3)",
   "outputs": [],
   "execution_count": null
  },
  {
   "cell_type": "code",
   "metadata": {
    "tags": [],
    "cell_id": "00011-bf218349-8a49-473a-8980-bc094a63b4f7",
    "deepnote_to_be_reexecuted": false,
    "source_hash": "6d1d5103",
    "execution_start": 1638353819534,
    "execution_millis": 11,
    "deepnote_output_heights": [
     21.1875
    ],
    "deepnote_cell_type": "code"
   },
   "source": "train.columns",
   "outputs": [
    {
     "output_type": "execute_result",
     "execution_count": 12,
     "data": {
      "text/plain": "Index(['RI', 'Na', 'Mg', 'Al', 'Si', 'K', 'Ca', 'Ba', 'Fe', 'type'], dtype='object')"
     },
     "metadata": {}
    }
   ],
   "execution_count": null
  },
  {
   "cell_type": "code",
   "metadata": {
    "tags": [],
    "cell_id": "00011-62aaa684-9c44-4fe2-b3c1-dea4cb8e622d",
    "deepnote_to_be_reexecuted": false,
    "source_hash": "77fce231",
    "execution_start": 1638353821529,
    "execution_millis": 21,
    "deepnote_output_heights": [
     21.1875
    ],
    "deepnote_cell_type": "code"
   },
   "source": "realthing.fit(train.loc[:, train.columns != \"type\"],train[\"type\"])",
   "outputs": [
    {
     "output_type": "execute_result",
     "execution_count": 13,
     "data": {
      "text/plain": "DecisionTreeClassifier(max_depth=3)"
     },
     "metadata": {}
    }
   ],
   "execution_count": null
  },
  {
   "cell_type": "code",
   "metadata": {
    "tags": [],
    "cell_id": "00012-96db2855-1b5a-422b-9211-f288e29f45b5",
    "deepnote_to_be_reexecuted": false,
    "source_hash": "5279e593",
    "execution_start": 1638353823836,
    "execution_millis": 3,
    "deepnote_cell_type": "code"
   },
   "source": "from sklearn import tree",
   "outputs": [],
   "execution_count": null
  },
  {
   "cell_type": "code",
   "metadata": {
    "tags": [],
    "cell_id": "00012-09bf4647-2bf0-4041-b679-fbec9a207229",
    "deepnote_to_be_reexecuted": false,
    "source_hash": "8eca32c6",
    "execution_start": 1638353826673,
    "execution_millis": 1773,
    "deepnote_output_heights": [
     611
    ],
    "deepnote_cell_type": "code"
   },
   "source": "fig = plt.figure(figsize=(25,20))\n_=tree.plot_tree(realthing)",
   "outputs": [
    {
     "data": {
      "text/plain": "<Figure size 1800x1440 with 1 Axes>",
      "image/png": "[encoded data removed]"
     },
     "metadata": {
      "needs_background": "light",
      "image/png": {
       "width": 1409,
       "height": 1101
      }
     },
     "output_type": "display_data"
    }
   ],
   "execution_count": null
  },
  {
   "cell_type": "code",
   "metadata": {
    "tags": [],
    "cell_id": "00014-8ceedb83-7cec-41fb-ad82-e8c2f9f7cc0e",
    "deepnote_to_be_reexecuted": true,
    "source_hash": "b623e53d",
    "deepnote_cell_type": "code"
   },
   "source": "",
   "execution_count": null,
   "outputs": []
  },
  {
   "cell_type": "markdown",
   "source": "<a style='text-decoration:none;line-height:16px;display:flex;color:#5B5B62;padding:10px;justify-content:end;' href='https://deepnote.com?utm_source=created-in-deepnote-cell&projectId=58866f15-1cff-4fef-9525-5c3070562370' target=\"_blank\">\n<img alt='Created in deepnote.com' style='display:inline;max-height:16px;margin:0px;margin-right:7.5px;' src='data:image/svg+xml;base64,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' > </img>\nCreated in <span style='font-weight:600;margin-left:4px;'>Deepnote</span></a>",
   "metadata": {
    "tags": [],
    "created_in_deepnote_cell": true,
    "deepnote_cell_type": "markdown"
   }
  }
 ],
 "nbformat": 4,
 "nbformat_minor": 2,
 "metadata": {
  "orig_nbformat": 2,
  "deepnote": {
   "is_reactive": false
  },
  "deepnote_notebook_id": "3d1a044d-0cda-4af0-b20d-099b9755ab30",
  "deepnote_execution_queue": []
 }
}
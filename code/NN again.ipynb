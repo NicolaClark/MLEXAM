{
 "cells": [
  {
   "cell_type": "code",
   "metadata": {
    "tags": [],
    "cell_id": "00000-f0bf5903-f362-4e4b-885e-c6666618a690",
    "deepnote_to_be_reexecuted": false,
    "source_hash": "83b6c227",
    "execution_start": 1638964670235,
    "execution_millis": 18,
    "deepnote_cell_type": "code"
   },
   "source": "import pandas\nimport numpy as np\ntest=pandas.read_csv(\"../data/df_test.csv\")\ntrain=pandas.read_csv(\"../data/df_train.csv\")",
   "outputs": [
    {
     "name": "stdout",
     "text": "Counter({2: 53, 1: 49, 7: 20, 3: 12, 5: 9, 6: 6})\n",
     "output_type": "stream"
    }
   ],
   "execution_count": null
  },
  {
   "cell_type": "code",
   "source": "def matrix_data(tt): \n    tt_nl=tt.loc[:, tt.columns != \"type\"]\n    tt_l=tt.loc[:, tt.columns == \"type\"]\n    return(np.array(tt_nl),tt_l)",
   "metadata": {
    "tags": [],
    "cell_id": "00001-3dcaaf1d-2f17-4f93-ae59-b6cd54aa545e",
    "deepnote_to_be_reexecuted": false,
    "source_hash": "3c94c82",
    "execution_start": 1638961270274,
    "execution_millis": 3,
    "deepnote_cell_type": "code"
   },
   "outputs": [],
   "execution_count": null
  },
  {
   "cell_type": "code",
   "source": "train.shape",
   "metadata": {
    "tags": [],
    "cell_id": "00001-55ceda31-cb4e-43ba-a0f9-4e026d2b8658",
    "deepnote_to_be_reexecuted": false,
    "source_hash": "74267d7c",
    "execution_start": 1638961714182,
    "execution_millis": 6,
    "deepnote_output_heights": [
     21.1875
    ],
    "deepnote_cell_type": "code"
   },
   "outputs": [
    {
     "output_type": "execute_result",
     "execution_count": 56,
     "data": {
      "text/plain": "(149, 10)"
     },
     "metadata": {}
    }
   ],
   "execution_count": null
  },
  {
   "cell_type": "code",
   "source": "def activation(matrix):\n    #apply activation here \n    return matrix",
   "metadata": {
    "tags": [],
    "cell_id": "00003-8a0ba2da-8f29-4168-8dc0-79abdf0c2ec1",
    "deepnote_to_be_reexecuted": false,
    "source_hash": "19883cb4",
    "execution_start": 1638961750900,
    "execution_millis": 23,
    "deepnote_cell_type": "code"
   },
   "outputs": [],
   "execution_count": null
  },
  {
   "cell_type": "code",
   "source": "from collections import Counter",
   "metadata": {
    "tags": [],
    "cell_id": "00004-10c63359-2445-4b06-97b8-7d2aaf5f5ca9",
    "deepnote_to_be_reexecuted": false,
    "source_hash": "9a5e960",
    "execution_start": 1638964607325,
    "execution_millis": 5,
    "deepnote_cell_type": "code"
   },
   "outputs": [],
   "execution_count": null
  },
  {
   "cell_type": "code",
   "source": "print(Counter(test[\"type\"]))",
   "metadata": {
    "tags": [],
    "cell_id": "00004-293d0d95-50df-4816-afa3-fe9f3c344681",
    "deepnote_to_be_reexecuted": false,
    "source_hash": "e10a4319",
    "execution_start": 1638964609117,
    "execution_millis": 28,
    "deepnote_cell_type": "code"
   },
   "outputs": [
    {
     "name": "stdout",
     "text": "Counter({2: 23, 1: 21, 7: 9, 3: 5, 5: 4, 6: 3})\n",
     "output_type": "stream"
    }
   ],
   "execution_count": null
  },
  {
   "cell_type": "code",
   "source": "##normalise data before ",
   "metadata": {
    "tags": [],
    "cell_id": "00006-e8bd9c06-1460-4800-994c-2fbde4f0e35c",
    "deepnote_cell_type": "code"
   },
   "outputs": [],
   "execution_count": null
  },
  {
   "cell_type": "code",
   "source": "def next_layer(previous_layer,relevant_weights):\n    bias=0.5\n    train_nl,train_l=matrix_data(train)\n    weights=np.random.rand(train_nl.shape[1],10)\n    activation(train_nl@weights+bias)",
   "metadata": {
    "tags": [],
    "cell_id": "00002-2a8c1610-a5c0-4fd4-a37e-f8f359ad3220",
    "deepnote_to_be_reexecuted": false,
    "source_hash": "d9505f21",
    "execution_start": 1638963344084,
    "execution_millis": 1,
    "deepnote_output_heights": [
     78.765625
    ],
    "deepnote_cell_type": "code"
   },
   "outputs": [],
   "execution_count": null
  },
  {
   "cell_type": "code",
   "source": "weights = np.random.rand(9, 149)\ntrain @ weights",
   "metadata": {
    "tags": [],
    "cell_id": "00004-d420e70d-82bf-495d-bad2-9ad6ae411f23",
    "deepnote_to_be_reexecuted": false,
    "source_hash": "417d00f8",
    "execution_start": 1638964020272,
    "execution_millis": 18,
    "deepnote_output_heights": [
     397.28125
    ],
    "deepnote_cell_type": "code"
   },
   "outputs": [
    {
     "output_type": "error",
     "ename": "ValueError",
     "evalue": "Dot product shape mismatch, (149, 10) vs (9, 149)",
     "traceback": [
      "\u001b[0;31m---------------------------------------------------------------------------\u001b[0m",
      "\u001b[0;31mValueError\u001b[0m                                Traceback (most recent call last)",
      "\u001b[0;32m<ipython-input-119-9344a4586aa6>\u001b[0m in \u001b[0;36m<module>\u001b[0;34m\u001b[0m\n\u001b[1;32m      1\u001b[0m \u001b[0mweights\u001b[0m \u001b[0;34m=\u001b[0m \u001b[0mnp\u001b[0m\u001b[0;34m.\u001b[0m\u001b[0mrandom\u001b[0m\u001b[0;34m.\u001b[0m\u001b[0mrand\u001b[0m\u001b[0;34m(\u001b[0m\u001b[0;36m9\u001b[0m\u001b[0;34m,\u001b[0m \u001b[0;36m149\u001b[0m\u001b[0;34m)\u001b[0m\u001b[0;34m\u001b[0m\u001b[0;34m\u001b[0m\u001b[0m\n\u001b[0;32m----> 2\u001b[0;31m \u001b[0mtrain\u001b[0m \u001b[0;34m@\u001b[0m \u001b[0mweights\u001b[0m\u001b[0;34m\u001b[0m\u001b[0;34m\u001b[0m\u001b[0m\n\u001b[0m",
      "\u001b[0;32m/shared-libs/python3.7/py/lib/python3.7/site-packages/pandas/core/frame.py\u001b[0m in \u001b[0;36m__matmul__\u001b[0;34m(self, other)\u001b[0m\n\u001b[1;32m   1276\u001b[0m         \u001b[0mMatrix\u001b[0m \u001b[0mmultiplication\u001b[0m \u001b[0musing\u001b[0m \u001b[0mbinary\u001b[0m\u001b[0;31m \u001b[0m\u001b[0;31m`\u001b[0m\u001b[0;34m@\u001b[0m\u001b[0;31m`\u001b[0m \u001b[0moperator\u001b[0m \u001b[0;32min\u001b[0m \u001b[0mPython\u001b[0m\u001b[0;34m>=\u001b[0m\u001b[0;36m3.5\u001b[0m\u001b[0;34m.\u001b[0m\u001b[0;34m\u001b[0m\u001b[0;34m\u001b[0m\u001b[0m\n\u001b[1;32m   1277\u001b[0m         \"\"\"\n\u001b[0;32m-> 1278\u001b[0;31m         \u001b[0;32mreturn\u001b[0m \u001b[0mself\u001b[0m\u001b[0;34m.\u001b[0m\u001b[0mdot\u001b[0m\u001b[0;34m(\u001b[0m\u001b[0mother\u001b[0m\u001b[0;34m)\u001b[0m\u001b[0;34m\u001b[0m\u001b[0;34m\u001b[0m\u001b[0m\n\u001b[0m\u001b[1;32m   1279\u001b[0m \u001b[0;34m\u001b[0m\u001b[0m\n\u001b[1;32m   1280\u001b[0m     \u001b[0;32mdef\u001b[0m \u001b[0m__rmatmul__\u001b[0m\u001b[0;34m(\u001b[0m\u001b[0mself\u001b[0m\u001b[0;34m,\u001b[0m \u001b[0mother\u001b[0m\u001b[0;34m)\u001b[0m\u001b[0;34m:\u001b[0m\u001b[0;34m\u001b[0m\u001b[0;34m\u001b[0m\u001b[0m\n",
      "\u001b[0;32m/shared-libs/python3.7/py/lib/python3.7/site-packages/pandas/core/frame.py\u001b[0m in \u001b[0;36mdot\u001b[0;34m(self, other)\u001b[0m\n\u001b[1;32m   1254\u001b[0m             \u001b[0;32mif\u001b[0m \u001b[0mlvals\u001b[0m\u001b[0;34m.\u001b[0m\u001b[0mshape\u001b[0m\u001b[0;34m[\u001b[0m\u001b[0;36m1\u001b[0m\u001b[0;34m]\u001b[0m \u001b[0;34m!=\u001b[0m \u001b[0mrvals\u001b[0m\u001b[0;34m.\u001b[0m\u001b[0mshape\u001b[0m\u001b[0;34m[\u001b[0m\u001b[0;36m0\u001b[0m\u001b[0;34m]\u001b[0m\u001b[0;34m:\u001b[0m\u001b[0;34m\u001b[0m\u001b[0;34m\u001b[0m\u001b[0m\n\u001b[1;32m   1255\u001b[0m                 raise ValueError(\n\u001b[0;32m-> 1256\u001b[0;31m                     \u001b[0;34mf\"Dot product shape mismatch, {lvals.shape} vs {rvals.shape}\"\u001b[0m\u001b[0;34m\u001b[0m\u001b[0;34m\u001b[0m\u001b[0m\n\u001b[0m\u001b[1;32m   1257\u001b[0m                 )\n\u001b[1;32m   1258\u001b[0m \u001b[0;34m\u001b[0m\u001b[0m\n",
      "\u001b[0;31mValueError\u001b[0m: Dot product shape mismatch, (149, 10) vs (9, 149)"
     ]
    }
   ],
   "execution_count": null
  },
  {
   "cell_type": "code",
   "source": "def create weights ",
   "metadata": {
    "tags": [],
    "cell_id": "00003-1fbc7b8a-144f-452f-a987-7827ac4876b0",
    "deepnote_cell_type": "code"
   },
   "outputs": [],
   "execution_count": null
  },
  {
   "cell_type": "code",
   "source": "class network:\n    def __init__(self, layers_info):\n        #self.n_features = n_features\n        ##self.bias = np.random.rand(neurons,1)\n        self.layers_info = layers_info\n        self.Network=[]\n    \n    def forward_pass(self,input_data):\n        #create new layers here \n        for l_info in self.layers_info:\n            input_data = np.array(input_data)\n            new_layer = layer(l_info, input_data.shape[1])\n            new_layer.calculation(input_data)\n            self.Network.append(new_layer)\n            input_data = new_layer.next_layer_input\n        output_layer= layer(6, input_data.shape[1])\n        output_layer.calculation(input_data,\"softmax\")\n        self.Network.append(output_layer)\n    \n    def mse_loss(y_true, y_pred):\n        return ((y_true-y_pred)**2).mean()\n        \n    def get_layer(self, i):\n        return self.network[i]\n    \n\nclass layer:\n    def __init__(self,number_of_neurons, n_prev_neurons):\n        self.n = number_of_neurons\n        self.weights = np.random.rand(n_prev_neurons, self.n)#noahs suggestion[[Var(random.random()) for _ i range(number_of_neurons)] for _ in range(n_pr)]\n        self.bias = 0.5\n        self.next_layer_input = None\n    \n    def activation(self,data,activate):\n        if activate == \"ReLU\":\n            return np.maximum(data,0.0)\n        elif activate == \"sigmoid\":\n            return  1.0 / (1.0 + np.exp(-data))\n        elif activate == \"softmax\":\n            data=np.array(data,dtype=np.float128)\n            return np.exp(data)/(np.exp(data).sum(axis=1).reshape(-1,1))\n        else:\n            print(\"invalid activaiton function name\")\n        #more here if needed\n        #choose activation function here \n        \n    \n    def calculation(self, data, activate = \"sigmoid\"):\n        self.activate=activate\n        self.next_layer_input = self.activation(data @ self.weights + bias, activate)",
   "metadata": {
    "tags": [],
    "cell_id": "00002-d56b3981-544b-409c-b408-544fb6e9e5c7",
    "deepnote_to_be_reexecuted": false,
    "source_hash": "15981058",
    "execution_start": 1638969892591,
    "execution_millis": 1,
    "deepnote_output_heights": [
     78.765625
    ],
    "deepnote_cell_type": "code"
   },
   "outputs": [],
   "execution_count": null
  },
  {
   "cell_type": "code",
   "source": "from sklearn.preprocessing import StandardScaler\nnorm = StandardScaler()\nx = norm.fit_transform(matrix_data(train)[0])\ntestingthing=network([10,3,4,7])\ntestingthing.forward_pass(x)\n",
   "metadata": {
    "tags": [],
    "cell_id": "00008-8e5059f4-28ec-4691-91ee-6a63999f2d35",
    "deepnote_to_be_reexecuted": false,
    "source_hash": "12ba4c41",
    "execution_start": 1638969894585,
    "execution_millis": 14,
    "deepnote_output_heights": [
     155.546875,
     520.25
    ],
    "deepnote_cell_type": "code"
   },
   "outputs": [],
   "execution_count": null
  },
  {
   "cell_type": "code",
   "source": "\noutput=testingthing.Network[4].next_layer_input\nnp.argwhere(output==np.amax(output,axis=1).reshape(output.shape[0],1))[:,1]\n",
   "metadata": {
    "tags": [],
    "cell_id": "00009-ec7ae616-8c1a-4ad9-889c-84ea6972470b",
    "deepnote_to_be_reexecuted": false,
    "source_hash": "d64d3a58",
    "execution_start": 1638969908835,
    "execution_millis": 18,
    "deepnote_output_heights": [
     136.359375
    ],
    "deepnote_cell_type": "code"
   },
   "outputs": [
    {
     "output_type": "execute_result",
     "execution_count": 324,
     "data": {
      "text/plain": "array([0, 0, 0, 0, 0, 0, 0, 0, 0, 0, 0, 0, 0, 0, 0, 0, 0, 0, 0, 0, 0, 0,\n       0, 0, 0, 0, 0, 0, 0, 0, 0, 0, 0, 0, 0, 0, 0, 0, 0, 0, 0, 0, 0, 0,\n       0, 0, 0, 0, 0, 0, 0, 0, 0, 0, 0, 0, 0, 0, 0, 0, 0, 0, 0, 0, 0, 0,\n       0, 0, 0, 0, 0, 0, 0, 0, 0, 0, 0, 0, 0, 0, 0, 0, 0, 0, 0, 0, 0, 0,\n       0, 0, 0, 0, 0, 0, 0, 0, 0, 0, 0, 0, 0, 0, 0, 0, 0, 0, 0, 0, 0, 0,\n       0, 0, 0, 0, 0, 0, 0, 0, 0, 0, 0, 0, 0, 0, 0, 0, 0, 0, 0, 0, 0, 0,\n       0, 0, 0, 0, 0, 0, 0, 0, 0, 0, 0, 0, 0, 0, 0, 0, 0])"
     },
     "metadata": {}
    }
   ],
   "execution_count": null
  },
  {
   "cell_type": "code",
   "source": "np.ravel(matrix_data(train)[1])",
   "metadata": {
    "tags": [],
    "cell_id": "00012-294d8373-7fc2-4307-96a9-da572f6b479d",
    "deepnote_to_be_reexecuted": false,
    "source_hash": "cf8bb21c",
    "execution_start": 1638969901697,
    "execution_millis": 17,
    "deepnote_output_heights": [
     136.359375
    ],
    "deepnote_cell_type": "code"
   },
   "outputs": [
    {
     "output_type": "execute_result",
     "execution_count": 322,
     "data": {
      "text/plain": "array([2, 2, 2, 2, 1, 2, 2, 5, 2, 7, 1, 2, 7, 1, 1, 1, 7, 2, 2, 1, 2, 7,\n       7, 6, 3, 2, 6, 2, 6, 7, 1, 2, 6, 2, 7, 1, 2, 1, 1, 2, 7, 2, 1, 1,\n       2, 1, 3, 2, 2, 2, 2, 1, 7, 7, 1, 5, 1, 1, 1, 1, 1, 3, 1, 2, 3, 7,\n       2, 2, 2, 1, 3, 6, 5, 2, 1, 6, 2, 2, 7, 2, 1, 1, 3, 5, 2, 1, 1, 1,\n       1, 2, 1, 1, 1, 2, 2, 1, 2, 2, 2, 3, 2, 2, 1, 3, 1, 3, 7, 2, 5, 1,\n       2, 1, 1, 1, 7, 3, 1, 3, 5, 2, 2, 5, 7, 2, 1, 7, 2, 3, 7, 7, 2, 1,\n       7, 1, 1, 2, 2, 2, 5, 2, 5, 1, 2, 1, 1, 2, 7, 1, 1])"
     },
     "metadata": {}
    }
   ],
   "execution_count": null
  },
  {
   "cell_type": "code",
   "source": "np.amax(output,axis=1)",
   "metadata": {
    "tags": [],
    "cell_id": "00012-3f4cd217-c45c-478d-87ea-06dfe4c012f7",
    "deepnote_to_be_reexecuted": false,
    "source_hash": "214b3613",
    "execution_start": 1638969903344,
    "execution_millis": 16,
    "deepnote_output_heights": [
     577.828125
    ],
    "deepnote_cell_type": "code"
   },
   "outputs": [
    {
     "output_type": "execute_result",
     "execution_count": 323,
     "data": {
      "text/plain": "array([0.35629773, 0.35627203, 0.35609579, 0.35611337, 0.35607858,\n       0.35607057, 0.35623628, 0.35614003, 0.35602834, 0.35630093,\n       0.35622909, 0.35619161, 0.35633964, 0.35596704, 0.35608197,\n       0.35607274, 0.3563268 , 0.35606341, 0.35600757, 0.35610186,\n       0.3560863 , 0.35622709, 0.35617913, 0.35606704, 0.3560053 ,\n       0.35619109, 0.35600853, 0.35608212, 0.35611777, 0.35619342,\n       0.35626186, 0.35602851, 0.35602522, 0.3560683 , 0.35627142,\n       0.3560628 , 0.35607133, 0.35621684, 0.3560652 , 0.35621919,\n       0.3561796 , 0.35607542, 0.35607465, 0.35603079, 0.3562459 ,\n       0.3562639 , 0.35599144, 0.35629977, 0.35598286, 0.35599383,\n       0.35609562, 0.35625156, 0.35622902, 0.3562803 , 0.35618193,\n       0.35615526, 0.35608186, 0.35620765, 0.35617608, 0.35607873,\n       0.35618327, 0.3563083 , 0.3560579 , 0.35627167, 0.35599832,\n       0.35621373, 0.35611709, 0.35612123, 0.35623599, 0.35622148,\n       0.35601378, 0.35605507, 0.35629814, 0.35611959, 0.35606914,\n       0.35613414, 0.35618204, 0.35604642, 0.35627714, 0.35617896,\n       0.35608431, 0.35618633, 0.35623598, 0.35608178, 0.35609645,\n       0.35607207, 0.3561612 , 0.35606493, 0.35607027, 0.35629314,\n       0.35614177, 0.35621794, 0.35606024, 0.35620787, 0.35620163,\n       0.35606212, 0.35623663, 0.35612449, 0.35608285, 0.35605836,\n       0.35625338, 0.35606839, 0.3560765 , 0.35595461, 0.35607958,\n       0.35582722, 0.35625888, 0.35631268, 0.35628498, 0.35610027,\n       0.35628647, 0.35623478, 0.35602567, 0.35608884, 0.35630185,\n       0.35616377, 0.35619688, 0.3561807 , 0.35611394, 0.35605184,\n       0.35608581, 0.35614412, 0.35628287, 0.35624174, 0.35607068,\n       0.3562205 , 0.35609328, 0.35625601, 0.35620118, 0.35620173,\n       0.35621207, 0.35621574, 0.35627239, 0.35617528, 0.35613677,\n       0.35618579, 0.35614786, 0.35605163, 0.35633255, 0.35614247,\n       0.35616775, 0.35606613, 0.35618012, 0.35603214, 0.3560471 ,\n       0.35622067, 0.35628768, 0.35624927, 0.35627825], dtype=float128)"
     },
     "metadata": {}
    }
   ],
   "execution_count": null
  },
  {
   "cell_type": "markdown",
   "source": "<a style='text-decoration:none;line-height:16px;display:flex;color:#5B5B62;padding:10px;justify-content:end;' href='https://deepnote.com?utm_source=created-in-deepnote-cell&projectId=58866f15-1cff-4fef-9525-5c3070562370' target=\"_blank\">\n<img alt='Created in deepnote.com' style='display:inline;max-height:16px;margin:0px;margin-right:7.5px;' src='data:image/svg+xml;base64,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' > </img>\nCreated in <span style='font-weight:600;margin-left:4px;'>Deepnote</span></a>",
   "metadata": {
    "tags": [],
    "created_in_deepnote_cell": true,
    "deepnote_cell_type": "markdown"
   }
  }
 ],
 "nbformat": 4,
 "nbformat_minor": 2,
 "metadata": {
  "orig_nbformat": 2,
  "deepnote": {
   "is_reactive": false
  },
  "deepnote_notebook_id": "35f6140c-e3f7-4e52-9f28-d79ec16de98b",
  "deepnote_execution_queue": []
 }
}
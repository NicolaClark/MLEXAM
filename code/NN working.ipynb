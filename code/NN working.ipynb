{
 "cells": [
  {
   "cell_type": "code",
   "metadata": {
    "deepnote_to_be_reexecuted": false,
    "execution_millis": 5288,
    "execution_start": 1641051293799,
    "source_hash": "80fa647b",
    "tags": [],
    "cell_id": "00000-4698e474-4a93-480e-8896-e18bba4831c6",
    "deepnote_cell_type": "code"
   },
   "source": "import pandas\nimport numpy as np\nimport random\nimport math\nfrom sklearn.preprocessing import StandardScaler\nfrom tqdm import tqdm\nimport matplotlib.pyplot as plt\nfrom imblearn.over_sampling import RandomOverSampler\nimport time\nfrom collections import Counter\nimport traceback\nfrom sklearn.utils import shuffle",
   "execution_count": 1,
   "outputs": []
  },
  {
   "cell_type": "code",
   "metadata": {
    "deepnote_output_heights": [
     78.71875
    ],
    "deepnote_to_be_reexecuted": false,
    "execution_millis": 3,
    "execution_start": 1641051299116,
    "source_hash": "96d8eca9",
    "tags": [],
    "cell_id": "00001-1009e8b6-44fd-4f34-bdc1-3defd3c96540",
    "deepnote_cell_type": "code"
   },
   "source": "class adiff:\n    \"\"\"This code is inspired by the var class from from Rasmusbergpalm's github\n    https://github.com/rasmusbergpalm/nanograd/blob/main/nanograd.py\"\"\"\n\n    def __init__(self, value, parents=None,ident=None):\n        try:\n            assert type(value) in {float, int}, \"Numbers please\"\n        except AssertionError:\n            print(traceback.format_exc()) \n            print(type(value))           \n        self.val = value\n        self.gradient = 0.0\n        self.parents = parents\n        if parents == None:\n            self.parents = []\n        self.ident=ident\n\n    def backprop(self, value):#this a point where the code is slow and could possibly be optimised\n        self.gradient+= value\n        for parent, gradient in self.parents:\n            parent.backprop(gradient * value)\n    def backward(self):\n        self.backprop(1.0)\n\n    def __add__(self, o_value):\n        n_value = self.val + o_value.val\n        return adiff(n_value, [(self, 1.0), (o_value, 1.0)],\"add\")\n\n    def __mul__(self, o_value):\n        n_value = self.val * o_value.val\n        return adiff(n_value, [(self, o_value.val), (o_value, self.val)],\"mul\")\n\n    def __sub__(self, o_value):\n        n_value = adiff(self.val - o_value.val, [(self, 1.0), (o_value, 1.0)],\"sub\")\n        return n_value\n    \n    def __pow__(self, power):\n        assert type(power) in {float, int}, \"power must be float or int\"\n        return adiff(self.val ** power, [(self, power * self.val ** (power - 1))])\n   \n    def __truediv__(self, o_value):\n        n_value = self.val/o_value.val\n        return adiff(n_value,[(self,1.0/o_value.val), (o_value,-self.val/o_value.val**2)],\"truediv\")\n\n    def __repr__(self):\n        return (f\"adiff value = {self.val}, parents = {len(self.parents)}, gradient = {self.gradient}, from {self.ident}\")\n\n    def e(self):\n        n_value=float(np.exp(self.val))\n        return adiff(n_value, [(self, n_value)],\"e\")\n    \n    def log(self):\n        n_value=math.log(self.val+1e-6)\n        return adiff(n_value, [(self,1/n_value)])\n    \n    def relu(self,data):\n        return [[adiff(j.val/1,[(j,1.0)],\"relu1\") if j.val>0 else adiff(0,[(j,0.0)],\"relu2\") for j in i] for i in data]    \n\n    def softmax(self,data):\n        values=data\n        sums=[]\n        for row in values:\n            current_sum = adiff(0.0)\n            for value in row:\n                current_sum += value.e()\n            sums.append(current_sum)\n        s_i=[[(item.e()/sums[i]) for item in row] for i,row in enumerate(data)]\n        return s_i\n\n    def sigmoid(self, data):\n        thing=[]\n        for i in data:\n            thing2=[]\n            for j in i:\n                thing2.append(adiff(1.0)/(adiff(1.0)+j.e()))\n            thing.append(thing2)\n        return thing",
   "execution_count": 2,
   "outputs": []
  },
  {
   "cell_type": "code",
   "metadata": {
    "deepnote_output_heights": [
     78.765625
    ],
    "deepnote_to_be_reexecuted": false,
    "execution_millis": 0,
    "execution_start": 1641051698101,
    "source_hash": "fd674556",
    "tags": [],
    "cell_id": "00003-6f359f51-119e-47be-8ec3-081373074873",
    "deepnote_cell_type": "code"
   },
   "source": "class network:\n    def __init__(self, layers_info,activate = \"sigmoid\",alpha=0.0015,gd=\"stochastic\", batch_s=5,epochs=100):\n        self.bias = 0.5\n        self.epochs=epochs\n        self.layers_info = layers_info\n        self.Network=[]\n        self.activate=activate\n        self.alpha=alpha\n        self.loss_sum = adiff(9e21)\n        self.losses=[]\n        self.gd=gd\n        self.batch_s=batch_s\n        \n    def fit(self,x,y):\n        self._create(x)#create the network\n        self._backprop(y)#fit the network     \n    \n    def _create(self,input_data):\n        for row in range(len(input_data)):#add a column of 1s to add the bias during matrix multiplicaiton\n            input_data[row].append(adiff(1.0))\n        self.x=input_data #save to self for forward pass\n\n        for l_info in self.layers_info: #create new layers\n            new_layer = layer(l_info, len(input_data[1]),self.activate)\n            new_layer._calculation(input_data)\n            self.Network.append(new_layer)\n            input_data = new_layer.next_layer_input\n        self.output_layer= layer(6, len(input_data[1]),\"softmax\")#hardcoded output layer for 6 classes (specific to our classifictatin problem)\n        self.output_layer._calculation(input_data)\n        self.Network.append(self.output_layer)\n\n    def predict(self,data):\n        self._forwardpass(data)\n        values=[[item.val for item in row] for row in self.Network[-1].next_layer_input]\n        return np.array([row.index(max(row)) for row in values])\n    \n    def _forwardpass(self,data):\n        for l_info in self.Network:\n            l_info._calculation(data)\n            data=l_info.next_layer_input\n            \n    def _backprop(self,y_true):\n        for i in tqdm(range(self.epochs)):#cross entropy loss here matches the last layer type!!!! so has to be CEL\n            self.loss_sum=adiff(0.0)\n            rand_int=random.randint(0,len(y_true)-1) \n            rand_ints=np.random.randint(0,len(y_true)-1,self.batch_s)\n            #for each option of GD forward pass on the relevant subset of data and calculate the loss sum\n            if self.gd==\"stochastic\":\n                self._forwardpass([self.x[rand_int]])\n                self.loss_sum+=(self.output_layer.next_layer_input[0][y_true[rand_int]-1]).log()\n            \n            elif self.gd==\"batch\":\n                batch_x=[self.x[i] for i in rand_ints]\n                batch_y=[y_true[i] for i in rand_ints]\n                self._forwardpass(batch_x)\n                for i,row in enumerate(batch_y):\n                    self.loss_sum+=(self.output_layer.next_layer_input[i][row-1]).log()  \n            elif:#all data\n                self._forwardpass(self.x)\n                for i,row in enumerate(y_true): \n                    self.loss_sum+=(self.output_layer.next_layer_input[i][row-1]).log()\n            self.loss_sum=adiff(0.0)-self.loss_sum\n            self.loss_sum.backward()#find all partial derivatives of the loss function\n            self.losses.append(self.loss_sum.val)\n            else:\n                print(\"not running correctly due to incorrect activation function name\")\n\n\n            for h,layer in enumerate(self.Network):#change the weights \n                for i,row in enumerate(layer.weights):\n                    for j,item in enumerate(row):\n                        self.Network[h].weights[i][j]=adiff(item.val-self.alpha*item.gradient)\n    \nclass layer:\n    def __init__(self,number_of_neurons, n_prev_neurons,activate):\n        self.n = number_of_neurons\n        self.weights = [[adiff(float(np.random.normal(0, 0.25, 1))) for i in range(number_of_neurons)] for _ in range(n_prev_neurons+1)]\n        #all weights from a normal distribution, only works for a small variance as larger weights break other parts of the code\n        #with time we would have liked to look into this further and also have found some more optimal weight initializations                                                   \n        self.next_layer_input = None\n        self.activate=activate\n    \n    def activation(self,data):#applies relevant activaiton function\n        if self.activate == \"ReLU\": \n            return adiff.relu(self,data)\n        elif self.activate == \"sigmoid\":\n            return  adiff.sigmoid(self,data)\n        elif self.activate == \"softmax\":\n            return adiff.softmax(self,data)\n        else:\n            print(\"invalid activaiton function name\")\n\n    def _dot_llist(self,llist1,llist2):\n        # matrix multiplication for when not posible in numpy due to the adiff class                                                   \n        dot_product = [[0.0 for i in range(len(llist2[0]))] for j in range(len(llist1))]\n        for row in range(len(llist1)):\n            for column in range(len(llist2[0])):\n                a = llist1[row]\n                b = [l2row[column] for l2row in llist2]\n                sum_ = adiff(0.0)\n                for f in a:\n                    for g in b:\n                        sum_ += f * g\n                dot_product[row][column]=sum_\n        return dot_product\n\n    def _calculation(self, data):\n        self.next_layer_input = self.activation(self._dot_llist(data,self.weights))",
   "execution_count": 12,
   "outputs": []
  },
  {
   "cell_type": "code",
   "metadata": {
    "cell_id": "00004-da91d02e-f287-4874-b921-3d5ce3b8c7d5",
    "deepnote_to_be_reexecuted": false,
    "source_hash": "96f61a17",
    "execution_start": 1641051299198,
    "execution_millis": 0,
    "deepnote_cell_type": "code"
   },
   "source": "test=pandas.read_csv(\"../data/df_test.csv\")\ntrain=pandas.read_csv(\"../data/df_train.csv\")",
   "execution_count": 4,
   "outputs": []
  },
  {
   "cell_type": "code",
   "metadata": {
    "cell_id": "00005-30ad8aab-9888-41b9-9614-ce9f8125c6f3",
    "deepnote_to_be_reexecuted": false,
    "source_hash": "43033985",
    "execution_start": 1641051702321,
    "execution_millis": 3,
    "deepnote_cell_type": "code"
   },
   "source": "def preprocess(data):#relables,normalises,shuffles and splits data into X and y \n    norm = StandardScaler()\n    ros = RandomOverSampler(random_state=0)\n    mapping={1:1,2:2,3:3,5:4,6:5,7:6}##changes y to be usable in loss funciton\n    y=data.loc[:, data.columns == \"type\"]\n    y=np.ravel(y)\n    y=np.array([mapping[i]for i in y])\n    X=data.loc[:, data.columns != \"type\"]\n    X = norm.fit_transform(X)\n    X, y = ros.fit_resample(X, y)\n    X=[[adiff(float(j)) for j in i] for i in X]\n    X,y=shuffle(X,y)\n    return(X,y)\n#we need a shuffle here",
   "execution_count": 13,
   "outputs": []
  },
  {
   "cell_type": "code",
   "metadata": {
    "deepnote_to_be_reexecuted": false,
    "execution_millis": 57743,
    "execution_start": 1641051703317,
    "source_hash": "7ad9b600",
    "cell_id": "00006-29b3bf64-6904-4012-9d79-d237d78e5d51",
    "deepnote_cell_type": "code"
   },
   "source": "X,y=preprocess(train)\ntestingthing=network([3],activate = \"sigmoid\",alpha=0.015,gd=\"batch\", batch_s=10,epochs=200)\ntestingthing.fit(X,y)",
   "execution_count": 14,
   "outputs": [
    {
     "name": "stderr",
     "text": "100%|██████████| 200/200 [00:55<00:00,  3.59it/s]\n",
     "output_type": "stream",
     "data": {}
    }
   ]
  },
  {
   "cell_type": "code",
   "metadata": {
    "deepnote_output_heights": [
     611,
     611
    ],
    "deepnote_to_be_reexecuted": false,
    "execution_millis": 1,
    "execution_start": 1641051364028,
    "source_hash": "b623e53d",
    "tags": [],
    "cell_id": "00007-e821bdcf-46f5-428f-86dc-2403ae9e7efd",
    "deepnote_cell_type": "code"
   },
   "source": "",
   "execution_count": 6,
   "outputs": []
  },
  {
   "cell_type": "code",
   "metadata": {
    "deepnote_output_heights": [
     136.359375
    ],
    "deepnote_to_be_reexecuted": false,
    "execution_millis": 1242,
    "execution_start": 1641051761152,
    "scrolled": false,
    "source_hash": "efee7d60",
    "tags": [],
    "cell_id": "00008-f0f1163d-15d6-4bfa-9ea5-206acf29b036",
    "deepnote_cell_type": "code"
   },
   "source": "X_test,y_test=preprocess(test)\ntestingthing.predict(X_test) #predicted labels",
   "execution_count": 15,
   "outputs": [
    {
     "output_type": "execute_result",
     "execution_count": 15,
     "data": {
      "text/plain": "array([5, 5, 5, 5, 5, 5, 5, 5, 5, 5, 5, 5, 5, 5, 5, 5, 5, 5, 5, 5, 5, 5,\n       5, 5, 5, 5, 5, 5, 5, 5, 5, 5, 5, 5, 5, 5, 5, 5, 5, 5, 5, 5, 5, 5,\n       5, 5, 5, 5, 5, 5, 5, 5, 5, 5, 5, 5, 5, 5, 5, 5, 5, 5, 5, 5, 5, 5,\n       5, 5, 5, 5, 5, 5, 5, 5, 5, 5, 5, 5, 5, 5, 5, 5, 5, 5, 5, 5, 5, 5,\n       5, 5, 5, 5, 5, 5, 5, 5, 5, 5, 5, 5, 5, 5, 5, 5, 5, 5, 5, 5, 5, 5,\n       5, 5, 5, 5, 5, 5, 5, 5, 5, 5, 5, 5, 5, 5, 5, 5, 5, 5, 5, 5, 5, 5,\n       5, 5, 5, 5, 5, 5])"
     },
     "metadata": {}
    }
   ]
  },
  {
   "cell_type": "code",
   "metadata": {
    "deepnote_output_heights": [
     136.359375
    ],
    "deepnote_to_be_reexecuted": false,
    "execution_millis": 1,
    "execution_start": 1641051762239,
    "source_hash": "80700b63",
    "tags": [],
    "cell_id": "00009-1af9d8d8-9d49-4200-aa1c-51a291d229a1",
    "deepnote_cell_type": "code"
   },
   "source": "y_test#real labels ",
   "execution_count": 16,
   "outputs": [
    {
     "output_type": "execute_result",
     "execution_count": 16,
     "data": {
      "text/plain": "array([5, 3, 3, 2, 6, 3, 6, 2, 6, 1, 3, 1, 4, 2, 1, 3, 4, 2, 2, 4, 4, 5,\n       5, 2, 2, 3, 6, 2, 6, 4, 4, 4, 1, 6, 2, 1, 3, 3, 6, 1, 4, 2, 3, 3,\n       6, 5, 1, 6, 3, 5, 1, 3, 1, 6, 2, 1, 5, 6, 2, 1, 5, 3, 2, 6, 2, 5,\n       2, 4, 5, 3, 6, 4, 2, 3, 5, 5, 1, 4, 6, 6, 6, 1, 4, 3, 4, 2, 5, 1,\n       3, 3, 4, 5, 4, 4, 4, 4, 4, 1, 5, 5, 3, 1, 4, 5, 3, 6, 6, 1, 5, 1,\n       5, 2, 1, 6, 2, 4, 5, 1, 5, 4, 1, 6, 5, 3, 5, 2, 5, 3, 2, 6, 1, 2,\n       6, 1, 2, 3, 6, 4])"
     },
     "metadata": {}
    }
   ]
  },
  {
   "cell_type": "code",
   "metadata": {
    "scrolled": true,
    "cell_id": "00010-6e69ced9-0e67-4431-ad4d-c5a60ee32714",
    "deepnote_output_heights": [
     21.1875,
     250
    ],
    "deepnote_to_be_reexecuted": false,
    "source_hash": "7186e93b",
    "execution_start": 1641051762250,
    "execution_millis": 262,
    "deepnote_cell_type": "code"
   },
   "source": "plt.plot([i for i in range(len(testingthing.losses))],testingthing.losses)",
   "execution_count": 17,
   "outputs": [
    {
     "output_type": "execute_result",
     "execution_count": 17,
     "data": {
      "text/plain": "[<matplotlib.lines.Line2D at 0x7f999b6e9b50>]"
     },
     "metadata": {}
    },
    {
     "data": {
      "text/plain": "<Figure size 432x288 with 1 Axes>",
      "image/png": "[encoded data removed]"
     },
     "metadata": {
      "needs_background": "light",
      "image/png": {
       "width": 375,
       "height": 248
      }
     },
     "output_type": "display_data"
    }
   ]
  },
  {
   "cell_type": "code",
   "metadata": {
    "cell_id": "00011-11701715-c760-4f37-8317-b52f02689469",
    "deepnote_output_heights": [
     21.1875
    ],
    "deepnote_to_be_reexecuted": false,
    "source_hash": "dd3f092",
    "execution_start": 1641051366100,
    "execution_millis": 79,
    "deepnote_cell_type": "code"
   },
   "source": "testingthing.Network",
   "execution_count": 10,
   "outputs": [
    {
     "output_type": "execute_result",
     "execution_count": 10,
     "data": {
      "text/plain": "[<__main__.layer at 0x7f99a164b890>, <__main__.layer at 0x7f99a1650190>]"
     },
     "metadata": {}
    }
   ]
  },
  {
   "cell_type": "code",
   "metadata": {
    "deepnote_to_be_reexecuted": false,
    "execution_start": 1641051366177,
    "source_hash": "fc88ca9e",
    "tags": [],
    "cell_id": "00012-fc748e10-0ec6-4347-a132-c5ce628fdd70",
    "execution_millis": 1,
    "deepnote_cell_type": "code"
   },
   "source": "#https://machinelearningmastery.com/loss-and-loss-functions-for-training-deep-learning-neural-networks/\n#^ for later reference for the cross entropy loss we need to use",
   "execution_count": 11,
   "outputs": []
  },
  {
   "cell_type": "markdown",
   "source": "",
   "metadata": {
    "cell_id": "00013-f6a658dc-1ad3-4805-8c8b-7ba1a7aa0b0f",
    "deepnote_cell_type": "markdown"
   }
  },
  {
   "cell_type": "markdown",
   "source": "<a style='text-decoration:none;line-height:16px;display:flex;color:#5B5B62;padding:10px;justify-content:end;' href='https://deepnote.com?utm_source=created-in-deepnote-cell&projectId=58866f15-1cff-4fef-9525-5c3070562370' target=\"_blank\">\n<img alt='Created in deepnote.com' style='display:inline;max-height:16px;margin:0px;margin-right:7.5px;' src='data:image/svg+xml;base64,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' > </img>\nCreated in <span style='font-weight:600;margin-left:4px;'>Deepnote</span></a>",
   "metadata": {
    "tags": [],
    "created_in_deepnote_cell": true,
    "deepnote_cell_type": "markdown"
   }
  }
 ],
 "nbformat": 4,
 "nbformat_minor": 2,
 "metadata": {
  "deepnote": {
   "is_reactive": false
  },
  "deepnote_execution_queue": [],
  "deepnote_notebook_id": "af39f9fd-73c7-4e9f-a14d-ff86e29267f1",
  "kernelspec": {
   "display_name": "Python 3",
   "language": "python",
   "name": "python3"
  },
  "language_info": {
   "codemirror_mode": {
    "name": "ipython",
    "version": 3
   },
   "file_extension": ".py",
   "mimetype": "text/x-python",
   "name": "python",
   "nbconvert_exporter": "python",
   "pygments_lexer": "ipython3",
   "version": "3.8.5"
  }
 }
}
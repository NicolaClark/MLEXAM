{
 "cells": [
  {
   "cell_type": "code",
   "metadata": {
    "tags": [],
    "cell_id": "00000-a7879fbe-1c46-4659-9ebf-6cc07611e1ef",
    "deepnote_to_be_reexecuted": false,
    "source_hash": "28419f71",
    "execution_start": 1640272747331,
    "execution_millis": 915,
    "deepnote_cell_type": "code"
   },
   "source": "from sklearn.model_selection import GridSearchCV \nfrom sklearn.model_selection import RandomizedSearchCV\nfrom sklearn.ensemble import RandomForestClassifier\n\nimport pandas as pd",
   "execution_count": null,
   "outputs": []
  },
  {
   "cell_type": "code",
   "metadata": {
    "tags": [],
    "cell_id": "00001-12d225a4-d1a3-4b8d-abce-56092d6d872e",
    "deepnote_to_be_reexecuted": false,
    "source_hash": "ad01783d",
    "execution_start": 1640272748252,
    "execution_millis": 134,
    "deepnote_cell_type": "code"
   },
   "source": "test=pd.read_csv(\"../data/df_test.csv\")\ntrain=pd.read_csv(\"../data/df_train.csv\")\ntest",
   "execution_count": null,
   "outputs": [
    {
     "output_type": "execute_result",
     "execution_count": 2,
     "data": {
      "application/vnd.deepnote.dataframe.v3+json": {
       "column_count": 10,
       "row_count": 65,
       "columns": [
        {
         "name": "RI",
         "dtype": "float64",
         "stats": {
          "unique_count": 62,
          "nan_count": 0,
          "min": "1.51321",
          "max": "1.52725",
          "histogram": [
           {
            "bin_start": 1.51321,
            "bin_end": 1.514614,
            "count": 1
           },
           {
            "bin_start": 1.514614,
            "bin_end": 1.5160179999999999,
            "count": 8
           },
           {
            "bin_start": 1.5160179999999999,
            "bin_end": 1.517422,
            "count": 19
           },
           {
            "bin_start": 1.517422,
            "bin_end": 1.518826,
            "count": 16
           },
           {
            "bin_start": 1.518826,
            "bin_end": 1.52023,
            "count": 9
           },
           {
            "bin_start": 1.52023,
            "bin_end": 1.521634,
            "count": 6
           },
           {
            "bin_start": 1.521634,
            "bin_end": 1.523038,
            "count": 3
           },
           {
            "bin_start": 1.523038,
            "bin_end": 1.524442,
            "count": 0
           },
           {
            "bin_start": 1.524442,
            "bin_end": 1.525846,
            "count": 1
           },
           {
            "bin_start": 1.525846,
            "bin_end": 1.52725,
            "count": 2
           }
          ]
         }
        },
        {
         "name": "Na",
         "dtype": "float64",
         "stats": {
          "unique_count": 59,
          "nan_count": 0,
          "min": "11.45",
          "max": "15.15",
          "histogram": [
           {
            "bin_start": 11.45,
            "bin_end": 11.82,
            "count": 1
           },
           {
            "bin_start": 11.82,
            "bin_end": 12.19,
            "count": 1
           },
           {
            "bin_start": 12.19,
            "bin_end": 12.559999999999999,
            "count": 2
           },
           {
            "bin_start": 12.559999999999999,
            "bin_end": 12.93,
            "count": 13
           },
           {
            "bin_start": 12.93,
            "bin_end": 13.3,
            "count": 15
           },
           {
            "bin_start": 13.3,
            "bin_end": 13.67,
            "count": 12
           },
           {
            "bin_start": 13.67,
            "bin_end": 14.04,
            "count": 11
           },
           {
            "bin_start": 14.04,
            "bin_end": 14.41,
            "count": 5
           },
           {
            "bin_start": 14.41,
            "bin_end": 14.780000000000001,
            "count": 1
           },
           {
            "bin_start": 14.780000000000001,
            "bin_end": 15.15,
            "count": 4
           }
          ]
         }
        },
        {
         "name": "Mg",
         "dtype": "float64",
         "stats": {
          "unique_count": 41,
          "nan_count": 0,
          "min": "0.0",
          "max": "4.49",
          "histogram": [
           {
            "bin_start": 0,
            "bin_end": 0.449,
            "count": 14
           },
           {
            "bin_start": 0.449,
            "bin_end": 0.898,
            "count": 0
           },
           {
            "bin_start": 0.898,
            "bin_end": 1.347,
            "count": 1
           },
           {
            "bin_start": 1.347,
            "bin_end": 1.796,
            "count": 3
           },
           {
            "bin_start": 1.796,
            "bin_end": 2.245,
            "count": 2
           },
           {
            "bin_start": 2.245,
            "bin_end": 2.694,
            "count": 1
           },
           {
            "bin_start": 2.694,
            "bin_end": 3.1430000000000002,
            "count": 2
           },
           {
            "bin_start": 3.1430000000000002,
            "bin_end": 3.592,
            "count": 28
           },
           {
            "bin_start": 3.592,
            "bin_end": 4.041,
            "count": 13
           },
           {
            "bin_start": 4.041,
            "bin_end": 4.49,
            "count": 1
           }
          ]
         }
        },
        {
         "name": "Al",
         "dtype": "float64",
         "stats": {
          "unique_count": 54,
          "nan_count": 0,
          "min": "0.47",
          "max": "3.02",
          "histogram": [
           {
            "bin_start": 0.47,
            "bin_end": 0.725,
            "count": 4
           },
           {
            "bin_start": 0.725,
            "bin_end": 0.98,
            "count": 3
           },
           {
            "bin_start": 0.98,
            "bin_end": 1.2349999999999999,
            "count": 13
           },
           {
            "bin_start": 1.2349999999999999,
            "bin_end": 1.49,
            "count": 18
           },
           {
            "bin_start": 1.49,
            "bin_end": 1.7449999999999999,
            "count": 13
           },
           {
            "bin_start": 1.7449999999999999,
            "bin_end": 2,
            "count": 6
           },
           {
            "bin_start": 2,
            "bin_end": 2.255,
            "count": 3
           },
           {
            "bin_start": 2.255,
            "bin_end": 2.51,
            "count": 2
           },
           {
            "bin_start": 2.51,
            "bin_end": 2.7649999999999997,
            "count": 1
           },
           {
            "bin_start": 2.7649999999999997,
            "bin_end": 3.02,
            "count": 2
           }
          ]
         }
        },
        {
         "name": "Si",
         "dtype": "float64",
         "stats": {
          "unique_count": 55,
          "nan_count": 0,
          "min": "70.57",
          "max": "75.18",
          "histogram": [
           {
            "bin_start": 70.57,
            "bin_end": 71.03099999999999,
            "count": 2
           },
           {
            "bin_start": 71.03099999999999,
            "bin_end": 71.49199999999999,
            "count": 2
           },
           {
            "bin_start": 71.49199999999999,
            "bin_end": 71.953,
            "count": 5
           },
           {
            "bin_start": 71.953,
            "bin_end": 72.414,
            "count": 11
           },
           {
            "bin_start": 72.414,
            "bin_end": 72.875,
            "count": 16
           },
           {
            "bin_start": 72.875,
            "bin_end": 73.336,
            "count": 22
           },
           {
            "bin_start": 73.336,
            "bin_end": 73.797,
            "count": 5
           },
           {
            "bin_start": 73.797,
            "bin_end": 74.25800000000001,
            "count": 0
           },
           {
            "bin_start": 74.25800000000001,
            "bin_end": 74.71900000000001,
            "count": 1
           },
           {
            "bin_start": 74.71900000000001,
            "bin_end": 75.18,
            "count": 1
           }
          ]
         }
        },
        {
         "name": "K",
         "dtype": "float64",
         "stats": {
          "unique_count": 34,
          "nan_count": 0,
          "min": "0.0",
          "max": "6.21",
          "histogram": [
           {
            "bin_start": 0,
            "bin_end": 0.621,
            "count": 51
           },
           {
            "bin_start": 0.621,
            "bin_end": 1.242,
            "count": 12
           },
           {
            "bin_start": 1.242,
            "bin_end": 1.863,
            "count": 0
           },
           {
            "bin_start": 1.863,
            "bin_end": 2.484,
            "count": 0
           },
           {
            "bin_start": 2.484,
            "bin_end": 3.105,
            "count": 1
           },
           {
            "bin_start": 3.105,
            "bin_end": 3.726,
            "count": 0
           },
           {
            "bin_start": 3.726,
            "bin_end": 4.3469999999999995,
            "count": 0
           },
           {
            "bin_start": 4.3469999999999995,
            "bin_end": 4.968,
            "count": 0
           },
           {
            "bin_start": 4.968,
            "bin_end": 5.589,
            "count": 0
           },
           {
            "bin_start": 5.589,
            "bin_end": 6.21,
            "count": 1
           }
          ]
         }
        },
        {
         "name": "Ca",
         "dtype": "float64",
         "stats": {
          "unique_count": 58,
          "nan_count": 0,
          "min": "6.93",
          "max": "13.44",
          "histogram": [
           {
            "bin_start": 6.93,
            "bin_end": 7.5809999999999995,
            "count": 1
           },
           {
            "bin_start": 7.5809999999999995,
            "bin_end": 8.232,
            "count": 12
           },
           {
            "bin_start": 8.232,
            "bin_end": 8.883,
            "count": 28
           },
           {
            "bin_start": 8.883,
            "bin_end": 9.533999999999999,
            "count": 9
           },
           {
            "bin_start": 9.533999999999999,
            "bin_end": 10.184999999999999,
            "count": 7
           },
           {
            "bin_start": 10.184999999999999,
            "bin_end": 10.836,
            "count": 1
           },
           {
            "bin_start": 10.836,
            "bin_end": 11.487,
            "count": 3
           },
           {
            "bin_start": 11.487,
            "bin_end": 12.138,
            "count": 2
           },
           {
            "bin_start": 12.138,
            "bin_end": 12.789,
            "count": 0
           },
           {
            "bin_start": 12.789,
            "bin_end": 13.44,
            "count": 2
           }
          ]
         }
        },
        {
         "name": "Ba",
         "dtype": "float64",
         "stats": {
          "unique_count": 12,
          "nan_count": 0,
          "min": "0.0",
          "max": "1.64",
          "histogram": [
           {
            "bin_start": 0,
            "bin_end": 0.16399999999999998,
            "count": 56
           },
           {
            "bin_start": 0.16399999999999998,
            "bin_end": 0.32799999999999996,
            "count": 1
           },
           {
            "bin_start": 0.32799999999999996,
            "bin_end": 0.49199999999999994,
            "count": 1
           },
           {
            "bin_start": 0.49199999999999994,
            "bin_end": 0.6559999999999999,
            "count": 2
           },
           {
            "bin_start": 0.6559999999999999,
            "bin_end": 0.8199999999999998,
            "count": 3
           },
           {
            "bin_start": 0.8199999999999998,
            "bin_end": 0.9839999999999999,
            "count": 0
           },
           {
            "bin_start": 0.9839999999999999,
            "bin_end": 1.148,
            "count": 0
           },
           {
            "bin_start": 1.148,
            "bin_end": 1.3119999999999998,
            "count": 0
           },
           {
            "bin_start": 1.3119999999999998,
            "bin_end": 1.4759999999999998,
            "count": 0
           },
           {
            "bin_start": 1.4759999999999998,
            "bin_end": 1.64,
            "count": 2
           }
          ]
         }
        },
        {
         "name": "Fe",
         "dtype": "float64",
         "stats": {
          "unique_count": 14,
          "nan_count": 0,
          "min": "0.0",
          "max": "0.51",
          "histogram": [
           {
            "bin_start": 0,
            "bin_end": 0.051000000000000004,
            "count": 48
           },
           {
            "bin_start": 0.051000000000000004,
            "bin_end": 0.10200000000000001,
            "count": 6
           },
           {
            "bin_start": 0.10200000000000001,
            "bin_end": 0.15300000000000002,
            "count": 2
           },
           {
            "bin_start": 0.15300000000000002,
            "bin_end": 0.20400000000000001,
            "count": 4
           },
           {
            "bin_start": 0.20400000000000001,
            "bin_end": 0.255,
            "count": 2
           },
           {
            "bin_start": 0.255,
            "bin_end": 0.30600000000000005,
            "count": 1
           },
           {
            "bin_start": 0.30600000000000005,
            "bin_end": 0.35700000000000004,
            "count": 1
           },
           {
            "bin_start": 0.35700000000000004,
            "bin_end": 0.40800000000000003,
            "count": 0
           },
           {
            "bin_start": 0.40800000000000003,
            "bin_end": 0.459,
            "count": 0
           },
           {
            "bin_start": 0.459,
            "bin_end": 0.51,
            "count": 1
           }
          ]
         }
        },
        {
         "name": "type",
         "dtype": "int64",
         "stats": {
          "unique_count": 6,
          "nan_count": 0,
          "min": "1",
          "max": "7",
          "histogram": [
           {
            "bin_start": 1,
            "bin_end": 1.6,
            "count": 21
           },
           {
            "bin_start": 1.6,
            "bin_end": 2.2,
            "count": 23
           },
           {
            "bin_start": 2.2,
            "bin_end": 2.8,
            "count": 0
           },
           {
            "bin_start": 2.8,
            "bin_end": 3.4,
            "count": 5
           },
           {
            "bin_start": 3.4,
            "bin_end": 4,
            "count": 0
           },
           {
            "bin_start": 4,
            "bin_end": 4.6,
            "count": 0
           },
           {
            "bin_start": 4.6,
            "bin_end": 5.2,
            "count": 4
           },
           {
            "bin_start": 5.2,
            "bin_end": 5.8,
            "count": 0
           },
           {
            "bin_start": 5.8,
            "bin_end": 6.3999999999999995,
            "count": 3
           },
           {
            "bin_start": 6.3999999999999995,
            "bin_end": 7,
            "count": 9
           }
          ]
         }
        },
        {
         "name": "_deepnote_index_column",
         "dtype": "int64"
        }
       ],
       "rows": [
        {
         "RI": 1.52101,
         "Na": 13.64,
         "Mg": 4.49,
         "Al": 1.1,
         "Si": 71.78,
         "K": 0.06,
         "Ca": 8.75,
         "Ba": 0,
         "Fe": 0,
         "type": 1,
         "_deepnote_index_column": 0
        },
        {
         "RI": 1.51721,
         "Na": 12.87,
         "Mg": 3.48,
         "Al": 1.33,
         "Si": 73.04,
         "K": 0.56,
         "Ca": 8.43,
         "Ba": 0,
         "Fe": 0,
         "type": 1,
         "_deepnote_index_column": 1
        },
        {
         "RI": 1.52213,
         "Na": 14.21,
         "Mg": 3.82,
         "Al": 0.47,
         "Si": 71.77,
         "K": 0.11,
         "Ca": 9.57,
         "Ba": 0,
         "Fe": 0,
         "type": 1,
         "_deepnote_index_column": 2
        },
        {
         "RI": 1.51623,
         "Na": 14.2,
         "Mg": 0,
         "Al": 2.79,
         "Si": 73.46,
         "K": 0.04,
         "Ca": 9.04,
         "Ba": 0.4,
         "Fe": 0.09,
         "type": 7,
         "_deepnote_index_column": 3
        },
        {
         "RI": 1.51829,
         "Na": 14.46,
         "Mg": 2.24,
         "Al": 1.62,
         "Si": 72.38,
         "K": 0,
         "Ca": 9.26,
         "Ba": 0,
         "Fe": 0,
         "type": 6,
         "_deepnote_index_column": 4
        },
        {
         "RI": 1.51602,
         "Na": 14.85,
         "Mg": 0,
         "Al": 2.38,
         "Si": 73.28,
         "K": 0,
         "Ca": 8.76,
         "Ba": 0.64,
         "Fe": 0.09,
         "type": 7,
         "_deepnote_index_column": 5
        },
        {
         "RI": 1.5161,
         "Na": 13.42,
         "Mg": 3.4,
         "Al": 1.22,
         "Si": 72.69,
         "K": 0.59,
         "Ca": 8.32,
         "Ba": 0,
         "Fe": 0,
         "type": 3,
         "_deepnote_index_column": 6
        },
        {
         "RI": 1.51763,
         "Na": 12.61,
         "Mg": 3.59,
         "Al": 1.31,
         "Si": 73.29,
         "K": 0.58,
         "Ca": 8.5,
         "Ba": 0,
         "Fe": 0,
         "type": 1,
         "_deepnote_index_column": 7
        },
        {
         "RI": 1.51594,
         "Na": 13.09,
         "Mg": 3.52,
         "Al": 1.55,
         "Si": 72.87,
         "K": 0.68,
         "Ca": 8.05,
         "Ba": 0,
         "Fe": 0.09,
         "type": 2,
         "_deepnote_index_column": 8
        },
        {
         "RI": 1.51911,
         "Na": 13.9,
         "Mg": 3.73,
         "Al": 1.18,
         "Si": 72.12,
         "K": 0.06,
         "Ca": 8.89,
         "Ba": 0,
         "Fe": 0,
         "type": 1,
         "_deepnote_index_column": 9
        }
       ]
      },
      "text/plain": "         RI     Na    Mg    Al     Si     K    Ca   Ba    Fe  type\n0   1.52101  13.64  4.49  1.10  71.78  0.06  8.75  0.0  0.00     1\n1   1.51721  12.87  3.48  1.33  73.04  0.56  8.43  0.0  0.00     1\n2   1.52213  14.21  3.82  0.47  71.77  0.11  9.57  0.0  0.00     1\n3   1.51623  14.20  0.00  2.79  73.46  0.04  9.04  0.4  0.09     7\n4   1.51829  14.46  2.24  1.62  72.38  0.00  9.26  0.0  0.00     6\n..      ...    ...   ...   ...    ...   ...   ...  ...   ...   ...\n60  1.52152  13.12  3.58  0.90  72.20  0.23  9.82  0.0  0.16     1\n61  1.51892  13.46  3.83  1.26  72.55  0.57  8.21  0.0  0.14     2\n62  1.51610  13.33  3.53  1.34  72.67  0.56  8.33  0.0  0.00     3\n63  1.51730  12.35  2.72  1.63  72.87  0.70  9.23  0.0  0.00     2\n64  1.51618  13.01  3.50  1.48  72.89  0.60  8.12  0.0  0.00     2\n\n[65 rows x 10 columns]",
      "text/html": "<div>\n<style scoped>\n    .dataframe tbody tr th:only-of-type {\n        vertical-align: middle;\n    }\n\n    .dataframe tbody tr th {\n        vertical-align: top;\n    }\n\n    .dataframe thead th {\n        text-align: right;\n    }\n</style>\n<table border=\"1\" class=\"dataframe\">\n  <thead>\n    <tr style=\"text-align: right;\">\n      <th></th>\n      <th>RI</th>\n      <th>Na</th>\n      <th>Mg</th>\n      <th>Al</th>\n      <th>Si</th>\n      <th>K</th>\n      <th>Ca</th>\n      <th>Ba</th>\n      <th>Fe</th>\n      <th>type</th>\n    </tr>\n  </thead>\n  <tbody>\n    <tr>\n      <th>0</th>\n      <td>1.52101</td>\n      <td>13.64</td>\n      <td>4.49</td>\n      <td>1.10</td>\n      <td>71.78</td>\n      <td>0.06</td>\n      <td>8.75</td>\n      <td>0.0</td>\n      <td>0.00</td>\n      <td>1</td>\n    </tr>\n    <tr>\n      <th>1</th>\n      <td>1.51721</td>\n      <td>12.87</td>\n      <td>3.48</td>\n      <td>1.33</td>\n      <td>73.04</td>\n      <td>0.56</td>\n      <td>8.43</td>\n      <td>0.0</td>\n      <td>0.00</td>\n      <td>1</td>\n    </tr>\n    <tr>\n      <th>2</th>\n      <td>1.52213</td>\n      <td>14.21</td>\n      <td>3.82</td>\n      <td>0.47</td>\n      <td>71.77</td>\n      <td>0.11</td>\n      <td>9.57</td>\n      <td>0.0</td>\n      <td>0.00</td>\n      <td>1</td>\n    </tr>\n    <tr>\n      <th>3</th>\n      <td>1.51623</td>\n      <td>14.20</td>\n      <td>0.00</td>\n      <td>2.79</td>\n      <td>73.46</td>\n      <td>0.04</td>\n      <td>9.04</td>\n      <td>0.4</td>\n      <td>0.09</td>\n      <td>7</td>\n    </tr>\n    <tr>\n      <th>4</th>\n      <td>1.51829</td>\n      <td>14.46</td>\n      <td>2.24</td>\n      <td>1.62</td>\n      <td>72.38</td>\n      <td>0.00</td>\n      <td>9.26</td>\n      <td>0.0</td>\n      <td>0.00</td>\n      <td>6</td>\n    </tr>\n    <tr>\n      <th>...</th>\n      <td>...</td>\n      <td>...</td>\n      <td>...</td>\n      <td>...</td>\n      <td>...</td>\n      <td>...</td>\n      <td>...</td>\n      <td>...</td>\n      <td>...</td>\n      <td>...</td>\n    </tr>\n    <tr>\n      <th>60</th>\n      <td>1.52152</td>\n      <td>13.12</td>\n      <td>3.58</td>\n      <td>0.90</td>\n      <td>72.20</td>\n      <td>0.23</td>\n      <td>9.82</td>\n      <td>0.0</td>\n      <td>0.16</td>\n      <td>1</td>\n    </tr>\n    <tr>\n      <th>61</th>\n      <td>1.51892</td>\n      <td>13.46</td>\n      <td>3.83</td>\n      <td>1.26</td>\n      <td>72.55</td>\n      <td>0.57</td>\n      <td>8.21</td>\n      <td>0.0</td>\n      <td>0.14</td>\n      <td>2</td>\n    </tr>\n    <tr>\n      <th>62</th>\n      <td>1.51610</td>\n      <td>13.33</td>\n      <td>3.53</td>\n      <td>1.34</td>\n      <td>72.67</td>\n      <td>0.56</td>\n      <td>8.33</td>\n      <td>0.0</td>\n      <td>0.00</td>\n      <td>3</td>\n    </tr>\n    <tr>\n      <th>63</th>\n      <td>1.51730</td>\n      <td>12.35</td>\n      <td>2.72</td>\n      <td>1.63</td>\n      <td>72.87</td>\n      <td>0.70</td>\n      <td>9.23</td>\n      <td>0.0</td>\n      <td>0.00</td>\n      <td>2</td>\n    </tr>\n    <tr>\n      <th>64</th>\n      <td>1.51618</td>\n      <td>13.01</td>\n      <td>3.50</td>\n      <td>1.48</td>\n      <td>72.89</td>\n      <td>0.60</td>\n      <td>8.12</td>\n      <td>0.0</td>\n      <td>0.00</td>\n      <td>2</td>\n    </tr>\n  </tbody>\n</table>\n<p>65 rows × 10 columns</p>\n</div>"
     },
     "metadata": {}
    }
   ]
  },
  {
   "cell_type": "code",
   "metadata": {
    "tags": [],
    "cell_id": "00002-dd0d7854-026c-4740-b189-f44c7fea1252",
    "deepnote_to_be_reexecuted": false,
    "source_hash": "7ab50df0",
    "execution_start": 1640272748406,
    "execution_millis": 184,
    "deepnote_output_heights": [
     20.8125
    ],
    "deepnote_cell_type": "code"
   },
   "source": "RF = RandomForestClassifier(n_estimators=100,\n                            criterion = 'gini', \n                            max_depth = 5, \n                            min_samples_split = 2,\n                            bootstrap = True)\n\ntrainY, trainX = train['type'], train.loc[:, train.columns != 'type']\ntestY, testX = test['type'], test.loc[:, test.columns != 'type']\n\nRF.fit(trainX, trainY)",
   "execution_count": null,
   "outputs": [
    {
     "output_type": "execute_result",
     "execution_count": 3,
     "data": {
      "text/plain": "RandomForestClassifier(max_depth=5)"
     },
     "metadata": {}
    }
   ]
  },
  {
   "cell_type": "code",
   "metadata": {
    "tags": [],
    "cell_id": "00003-ae5e5dc0-0037-49bc-996c-7c360b43de1c",
    "deepnote_to_be_reexecuted": false,
    "source_hash": "d9acc5c1",
    "execution_start": 1640272748600,
    "execution_millis": 35,
    "deepnote_output_heights": [
     20.8125
    ],
    "deepnote_cell_type": "code"
   },
   "source": "RF.score(testX, testY)",
   "execution_count": null,
   "outputs": [
    {
     "output_type": "execute_result",
     "execution_count": 4,
     "data": {
      "text/plain": "0.8307692307692308"
     },
     "metadata": {}
    }
   ]
  },
  {
   "cell_type": "code",
   "metadata": {
    "tags": [],
    "cell_id": "00004-2e2dce0d-30f9-4664-85a5-f80d6bfad409",
    "deepnote_to_be_reexecuted": false,
    "source_hash": "12daf3f4",
    "execution_start": 1640272748707,
    "execution_millis": 269839,
    "deepnote_output_heights": [
     340.8125
    ],
    "deepnote_cell_type": "code"
   },
   "source": "parameters = {'n_estimators': [10,20,30,40,50,60,80,100],\n              'criterion': ['gini'],\n             'max_depth': [2,3,4,5,6,10,12,13,15],\n              'min_samples_split': [2,5,10,15,20,25,30],\n              'bootstrap': [True]}\n\nrandom_forest = RandomForestClassifier(random_state = 42)\nrandom_forest = GridSearchCV(random_forest, parameters)\nrandom_forest.fit(trainX, trainY)\nsorted(random_forest.cv_results_.keys())",
   "execution_count": null,
   "outputs": [
    {
     "output_type": "execute_result",
     "execution_count": 5,
     "data": {
      "text/plain": "['mean_fit_time',\n 'mean_score_time',\n 'mean_test_score',\n 'param_bootstrap',\n 'param_criterion',\n 'param_max_depth',\n 'param_min_samples_split',\n 'param_n_estimators',\n 'params',\n 'rank_test_score',\n 'split0_test_score',\n 'split1_test_score',\n 'split2_test_score',\n 'split3_test_score',\n 'split4_test_score',\n 'std_fit_time',\n 'std_score_time',\n 'std_test_score']"
     },
     "metadata": {}
    }
   ]
  },
  {
   "cell_type": "code",
   "metadata": {
    "tags": [],
    "cell_id": "00005-b9b0e466-c1f8-4a8d-9c04-99b4c5a6ee55",
    "deepnote_to_be_reexecuted": false,
    "source_hash": "414e99",
    "execution_start": 1640273018544,
    "execution_millis": 1,
    "deepnote_output_heights": [
     96.109375
    ],
    "deepnote_cell_type": "code"
   },
   "source": "random_forest.best_params_",
   "execution_count": null,
   "outputs": [
    {
     "output_type": "execute_result",
     "execution_count": 6,
     "data": {
      "text/plain": "{'bootstrap': True,\n 'criterion': 'gini',\n 'max_depth': 10,\n 'min_samples_split': 5,\n 'n_estimators': 50}"
     },
     "metadata": {}
    }
   ]
  },
  {
   "cell_type": "code",
   "metadata": {
    "tags": [],
    "cell_id": "00006-abbfbd2f-6ea5-4572-9e7b-fccda3d1a53e",
    "deepnote_to_be_reexecuted": false,
    "source_hash": "4372d99b",
    "execution_start": 1640273018545,
    "execution_millis": 80,
    "deepnote_output_heights": [
     20.8125
    ],
    "deepnote_cell_type": "code"
   },
   "source": "op_rf = RandomForestClassifier(n_estimators=50,\n                               criterion = 'gini', \n                               max_depth = 10, \n                               min_samples_split = 5,\n                               bootstrap = True)\n\n\nop_rf.fit(trainX, trainY)",
   "execution_count": null,
   "outputs": [
    {
     "output_type": "execute_result",
     "execution_count": 7,
     "data": {
      "text/plain": "RandomForestClassifier(max_depth=15, n_estimators=50)"
     },
     "metadata": {}
    }
   ]
  },
  {
   "cell_type": "code",
   "metadata": {
    "tags": [],
    "cell_id": "00007-d0a53802-a3c4-4812-963c-57c36e682998",
    "deepnote_to_be_reexecuted": false,
    "source_hash": "33e5b94d",
    "execution_start": 1640273018631,
    "execution_millis": 17,
    "deepnote_output_heights": [
     20.8125
    ],
    "deepnote_cell_type": "code"
   },
   "source": "op_rf.score(testX, testY)",
   "execution_count": null,
   "outputs": [
    {
     "output_type": "execute_result",
     "execution_count": 8,
     "data": {
      "text/plain": "0.8307692307692308"
     },
     "metadata": {}
    }
   ]
  },
  {
   "cell_type": "markdown",
   "source": "<a style='text-decoration:none;line-height:16px;display:flex;color:#5B5B62;padding:10px;justify-content:end;' href='https://deepnote.com?utm_source=created-in-deepnote-cell&projectId=58866f15-1cff-4fef-9525-5c3070562370' target=\"_blank\">\n<img alt='Created in deepnote.com' style='display:inline;max-height:16px;margin:0px;margin-right:7.5px;' src='data:image/svg+xml;base64,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' > </img>\nCreated in <span style='font-weight:600;margin-left:4px;'>Deepnote</span></a>",
   "metadata": {
    "tags": [],
    "created_in_deepnote_cell": true,
    "deepnote_cell_type": "markdown"
   }
  }
 ],
 "nbformat": 4,
 "nbformat_minor": 2,
 "metadata": {
  "orig_nbformat": 2,
  "deepnote": {
   "is_reactive": false
  },
  "deepnote_notebook_id": "47c9b5fa-24ed-44c6-850f-5c538959be25",
  "deepnote_execution_queue": []
 }
}
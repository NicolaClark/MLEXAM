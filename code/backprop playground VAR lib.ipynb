{
 "cells": [
  {
   "cell_type": "code",
   "metadata": {
    "tags": [],
    "cell_id": "00000-9a80ee59-c5de-4b61-a57b-43c5d666078d",
    "deepnote_to_be_reexecuted": false,
    "source_hash": "903a395a",
    "execution_start": 1638887363882,
    "execution_millis": 36,
    "deepnote_cell_type": "code"
   },
   "source": "# # Copy and pasted from https://github.com/rasmusbergpalm/nanograd/blob/main/nanograd.py\n\n# from typing import Union\n# from math import tanh\n\n\n# class Var:\n#     \"\"\"\n#     A variable which holds a number and enables gradient computations.\n#     \"\"\"\n\n#     def __init__(self, val: Union[float, int], parents=None):\n#         assert type(val) in {float, int}\n#         if parents is None:\n#             parents = []\n#         self.v = val\n#         self.parents = parents\n#         self.grad = 0.0\n\n#     def backprop(self, bp):\n#         self.grad += bp\n#         for parent, grad in self.parents:\n#             parent.backprop(grad * bp)\n\n#     def backward(self):\n#         self.backprop(1.0)\n\n#     def __add__(self: 'Var', other: 'Var') -> 'Var':\n#         return Var(self.v + other.v, [(self, 1.0), (other, 1.0)])\n\n#     def __mul__(self: 'Var', other: 'Var') -> 'Var':\n#         return Var(self.v * other.v, [(self, other.v), (other, self.v)])\n\n#     def __pow__(self, power: Union[float, int]) -> 'Var':\n#         assert type(power) in {float, int}, \"power must be float or int\"\n#         return Var(self.v ** power, [(self, power * self.v ** (power - 1))])\n\n#     def __neg__(self: 'Var') -> 'Var':\n#         return Var(-1.0) * self\n\n#     def __sub__(self: 'Var', other: 'Var') -> 'Var':\n#         return self + (-other)\n\n#     def __truediv__(self: 'Var', other: 'Var') -> 'Var':\n#         return self * other ** -1\n\n#     def tanh(self) -> 'Var':\n#         return Var(tanh(self.v), [(self, 1 - tanh(self.v) ** 2)])\n\n#     def relu(self) -> 'Var':\n#         return Var(self.v if self.v > 0.0 else 0.0, [(self, 1.0 if self.v > 0.0 else 0.0)])\n\n#     def __repr__(self):\n#         return \"Var(v=%.4f, grad=%.4f)\" % (self.v, self.grad)",
   "execution_count": null,
   "outputs": []
  },
  {
   "cell_type": "code",
   "metadata": {
    "tags": [],
    "cell_id": "00001-fad3bf86-7da7-419c-af3e-90b2aa5d0156",
    "deepnote_to_be_reexecuted": false,
    "source_hash": "ff143fe",
    "execution_start": 1638887363918,
    "execution_millis": 1,
    "deepnote_cell_type": "code"
   },
   "source": "import math",
   "execution_count": null,
   "outputs": []
  },
  {
   "cell_type": "code",
   "metadata": {
    "tags": [],
    "cell_id": "00002-f2d48a49-b7bd-4aaf-886d-748893df2d0e",
    "deepnote_to_be_reexecuted": false,
    "source_hash": "4c8e67e7",
    "execution_start": 1638964866838,
    "execution_millis": 5,
    "deepnote_output_heights": [
     78.75
    ],
    "deepnote_cell_type": "code"
   },
   "source": "class Ivor:\n    \"\"\"\n    Magical methods to take down a mythical dragon, and save the princess\n    \"\"\"\n    parents = []\n    def __init__(self, value, parents=None):\n        try:\n            assert type(value) in {float, int}, \"I take numbers only... idot\"\n        except AssertionError as msg:\n            print(msg)\n        self.val = value\n        self.grad = 0\n        #print(parents)\n\n    def backprop(self, backpop):\n        #self.grad\n        pass\n    \n    def backward(self):\n        self.backprop(1)\n\n    \"\"\"Need to work on how the parents are added\"\"\"\n    #First value plus second value, and assigns the parents.\n    # def __add__(value, o_value):\n    #     return Ivor(value + o_value, \"\"\" [(self, 1), (o_value, 1)]\"\"\")\n    def __add__(self, o_value):\n        return Ivor(self.val + o_value.val, \"\"\" [(self, 1), (o_value, 1)]\"\"\")\n\n    # def __mul__(self, o_value):\n    #     return Ivor(value * o_value, \"\"\" [(self, o_value.val), (o_value, self.val)]\"\"\")\n    def __mul__(self, o_value):\n        return Ivor(self.val * o_value.val, \"\"\" [(self, o_value.val), (o_value, self.val)]\"\"\")\n\n\n    #Returning a f-string, with the value and gradient\n    def __repr__(self):\n        return (f\"Ivor value = {self.val}, gradient = {self.grad}\")\n",
   "execution_count": 7,
   "outputs": []
  },
  {
   "cell_type": "code",
   "metadata": {
    "tags": [],
    "cell_id": "00004-6108f5c3-e80d-4d22-9cd6-626a139ce43a",
    "deepnote_to_be_reexecuted": false,
    "source_hash": "8183b626",
    "execution_start": 1638964802741,
    "execution_millis": 6,
    "deepnote_output_heights": [
     193.875,
     193.875
    ],
    "deepnote_cell_type": "code"
   },
   "source": "j = Ivor(420.69)\na = Ivor(12)\ng = a + j\np = a * j\n\nprint(\"j,\",j)\nprint(\"a,\",a)\n#print(Ivor(\"monkeys together strong\"))\nprint(\"g,\",g)\nprint(\"p,\",p)\n\n# sumthing = a + j\n# muddafuka = a * j\n\n# print(sumthing)\n# print(muddafuka)",
   "execution_count": 6,
   "outputs": [
    {
     "name": "stdout",
     "text": "None\nNone\n [(self, 1), (o_value, 1)]\n [(self, o_value.val), (o_value, self.val)]\nj, Ivor value = 420.69, gradient = 0\na, Ivor value = 12, gradient = 0\ng, Ivor value = 432.69, gradient = 0\np, Ivor value = 5048.28, gradient = 0\n",
     "output_type": "stream"
    }
   ]
  },
  {
   "cell_type": "code",
   "metadata": {
    "tags": [],
    "cell_id": "00005-67446084-8ab2-4ecd-970d-5bc783479b6d",
    "deepnote_to_be_reexecuted": true,
    "source_hash": "b31fd813",
    "deepnote_cell_type": "code"
   },
   "source": "\n",
   "execution_count": null,
   "outputs": []
  },
  {
   "cell_type": "markdown",
   "source": "<a style='text-decoration:none;line-height:16px;display:flex;color:#5B5B62;padding:10px;justify-content:end;' href='https://deepnote.com?utm_source=created-in-deepnote-cell&projectId=58866f15-1cff-4fef-9525-5c3070562370' target=\"_blank\">\n<img alt='Created in deepnote.com' style='display:inline;max-height:16px;margin:0px;margin-right:7.5px;' src='data:image/svg+xml;base64,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' > </img>\nCreated in <span style='font-weight:600;margin-left:4px;'>Deepnote</span></a>",
   "metadata": {
    "tags": [],
    "created_in_deepnote_cell": true,
    "deepnote_cell_type": "markdown"
   }
  }
 ],
 "nbformat": 4,
 "nbformat_minor": 2,
 "metadata": {
  "orig_nbformat": 2,
  "deepnote": {
   "is_reactive": false
  },
  "deepnote_notebook_id": "77432baf-b737-4495-aeb8-fcfe309a12e4",
  "deepnote_execution_queue": []
 }
}
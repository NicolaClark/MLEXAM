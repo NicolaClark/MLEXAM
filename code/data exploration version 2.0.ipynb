{
 "cells": [
  {
   "cell_type": "code",
   "metadata": {
    "deepnote_to_be_reexecuted": false,
    "execution_millis": 5465,
    "execution_start": 1640966571579,
    "source_hash": "3822fba2",
    "tags": [],
    "cell_id": "00000-46d47d1e-24cf-4e58-ab1d-9080588702f8",
    "deepnote_cell_type": "code"
   },
   "source": "import numpy as np\nimport pandas as pd\nimport seaborn as sns\nimport matplotlib.pyplot as plt\nimport math \nfrom string import ascii_letters\nfrom collections import Counter",
   "outputs": [],
   "execution_count": null
  },
  {
   "cell_type": "code",
   "metadata": {
    "cell_id": "00001-2b0207bd-9dc3-451c-9a50-506b6503f36c",
    "deepnote_to_be_reexecuted": false,
    "source_hash": "5384a214",
    "execution_start": 1640966577062,
    "execution_millis": 45,
    "deepnote_cell_type": "code"
   },
   "source": "#Functions\ndef basic(data):\n    print('Number of observations:', len(data))\n    print('Number of classes:', data['type'].nunique())\n    print('The classes is:', sorted(data['type'].unique()))\n    print('Number of features:', len(data.columns)-1)\n    x = list(data.columns)\n    x.remove('type')\n    print('The features is:', x )\n    print('Amount of NULL values in each feature: \\n')\n    print(data.isnull().sum().sort_values(ascending = False))\n    \ndef stats(data):\n    stats = {}\n    features = list(data.columns)\n    features.remove('type')\n    s = ['Minimum', 'Maximum', 'Mean', 'Median', 'Standard deviation', 'Variance', 'Average', 'Non-zero']\n    for i in features:\n        l = []\n        x = train[i]\n        l.append(np.amin(x))\n        l.append(np.amax(x))\n        l.append(np.mean(x))\n        l.append(np.median(x))\n        l.append(np.std(x))\n        l.append(np.var(x))\n        l.append(np.average(x))\n        l.append(np.count_nonzero(x))\n        stats[i] = l\n    return pd.DataFrame.from_dict(stats, orient= 'index', columns = s)\n\ndef displot_features(data):\n    features = list(data.columns)\n    features.remove('type')\n\n    fig, axes = plt.subplots(3, 3, figsize=(15, 10)) #(y, x)\n    x = 0\n    y = 0\n\n    for feature in range(len(features)):\n        sns.kdeplot(ax=axes[y, x], data= data[features[feature]], color = \"#49C2DE\", fill = True)\n        y += 1\n        if y == 3:\n            y = 0\n            x += 1\n\ndef boxplot_features(data):\n    features = list(data.columns)\n    features.remove('type')\n\n    fig, axes = plt.subplots(3, 3, figsize=(15, 20))\n    x = 0\n    y = 0\n\n    for feature in range(len(features)):\n        sns.boxplot(ax=axes[y, x], x= data[features[feature]], color = \"#49C2DE\")\n        y += 1\n        if y == 3:\n            y = 0\n            x += 1\n\n\ndef typebar(data):\n    x = Counter(data['type'])\n    sns.barplot(list(x.keys()), list(x.values()))\n    \ndef corrmatrix(data):\n    sns.set_theme(style=\"white\")\n\n    # Generate a large random dataset\n    d = data\n\n    # Compute the correlation matrix\n    corr = d.corr()\n\n    # Set up the matplotlib figure\n    f, ax = plt.subplots(figsize=(11, 9))\n\n    # Generate a custom diverging colormap\n    cmap = sns.diverging_palette(230, 20, as_cmap=True)\n\n    # Draw the heatmap with the mask and correct aspect ratio\n    sns.heatmap(corr, cmap = cmap, center=0, vmin=0, vmax=1, square=True, \n                linewidths=.5, cbar_kws={\"shrink\": .5}, annot=True) #annot = value in cells",
   "outputs": [],
   "execution_count": null
  },
  {
   "cell_type": "code",
   "metadata": {
    "deepnote_to_be_reexecuted": false,
    "execution_millis": 266,
    "execution_start": 1640966577115,
    "source_hash": "e6751dde",
    "tags": [],
    "cell_id": "00002-6acb2b5f-dc08-48a7-b779-d4ca3ae0b8bd",
    "deepnote_output_heights": [
     382.1875
    ],
    "deepnote_cell_type": "code"
   },
   "source": "test=pd.read_csv(\"../data/df_test.csv\")\ntrain=pd.read_csv(\"../data/df_train.csv\")\ntrain",
   "outputs": [
    {
     "output_type": "execute_result",
     "execution_count": 3,
     "data": {
      "application/vnd.deepnote.dataframe.v3+json": {
       "column_count": 10,
       "row_count": 149,
       "columns": [
        {
         "name": "RI",
         "dtype": "float64",
         "stats": {
          "unique_count": 134,
          "nan_count": 0,
          "min": "1.51115",
          "max": "1.53393",
          "histogram": [
           {
            "bin_start": 1.51115,
            "bin_end": 1.513428,
            "count": 5
           },
           {
            "bin_start": 1.513428,
            "bin_end": 1.515706,
            "count": 5
           },
           {
            "bin_start": 1.515706,
            "bin_end": 1.517984,
            "count": 76
           },
           {
            "bin_start": 1.517984,
            "bin_end": 1.520262,
            "count": 32
           },
           {
            "bin_start": 1.520262,
            "bin_end": 1.52254,
            "count": 19
           },
           {
            "bin_start": 1.52254,
            "bin_end": 1.524818,
            "count": 6
           },
           {
            "bin_start": 1.524818,
            "bin_end": 1.527096,
            "count": 2
           },
           {
            "bin_start": 1.527096,
            "bin_end": 1.529374,
            "count": 2
           },
           {
            "bin_start": 1.529374,
            "bin_end": 1.531652,
            "count": 1
           },
           {
            "bin_start": 1.531652,
            "bin_end": 1.53393,
            "count": 1
           }
          ]
         }
        },
        {
         "name": "Na",
         "dtype": "float64",
         "stats": {
          "unique_count": 105,
          "nan_count": 0,
          "min": "10.73",
          "max": "17.38",
          "histogram": [
           {
            "bin_start": 10.73,
            "bin_end": 11.395,
            "count": 4
           },
           {
            "bin_start": 11.395,
            "bin_end": 12.06,
            "count": 1
           },
           {
            "bin_start": 12.06,
            "bin_end": 12.725,
            "count": 12
           },
           {
            "bin_start": 12.725,
            "bin_end": 13.39,
            "count": 65
           },
           {
            "bin_start": 13.39,
            "bin_end": 14.055,
            "count": 36
           },
           {
            "bin_start": 14.055,
            "bin_end": 14.719999999999999,
            "count": 19
           },
           {
            "bin_start": 14.719999999999999,
            "bin_end": 15.384999999999998,
            "count": 10
           },
           {
            "bin_start": 15.384999999999998,
            "bin_end": 16.049999999999997,
            "count": 1
           },
           {
            "bin_start": 16.049999999999997,
            "bin_end": 16.715,
            "count": 0
           },
           {
            "bin_start": 16.715,
            "bin_end": 17.38,
            "count": 1
           }
          ]
         }
        },
        {
         "name": "Mg",
         "dtype": "float64",
         "stats": {
          "unique_count": 75,
          "nan_count": 0,
          "min": "0.0",
          "max": "3.98",
          "histogram": [
           {
            "bin_start": 0,
            "bin_end": 0.398,
            "count": 29
           },
           {
            "bin_start": 0.398,
            "bin_end": 0.796,
            "count": 1
           },
           {
            "bin_start": 0.796,
            "bin_end": 1.194,
            "count": 0
           },
           {
            "bin_start": 1.194,
            "bin_end": 1.592,
            "count": 0
           },
           {
            "bin_start": 1.592,
            "bin_end": 1.9900000000000002,
            "count": 5
           },
           {
            "bin_start": 1.9900000000000002,
            "bin_end": 2.388,
            "count": 3
           },
           {
            "bin_start": 2.388,
            "bin_end": 2.786,
            "count": 4
           },
           {
            "bin_start": 2.786,
            "bin_end": 3.184,
            "count": 8
           },
           {
            "bin_start": 3.184,
            "bin_end": 3.5820000000000003,
            "count": 56
           },
           {
            "bin_start": 3.5820000000000003,
            "bin_end": 3.98,
            "count": 43
           }
          ]
         }
        },
        {
         "name": "Al",
         "dtype": "float64",
         "stats": {
          "unique_count": 99,
          "nan_count": 0,
          "min": "0.29",
          "max": "3.5",
          "histogram": [
           {
            "bin_start": 0.29,
            "bin_end": 0.611,
            "count": 5
           },
           {
            "bin_start": 0.611,
            "bin_end": 0.9319999999999999,
            "count": 16
           },
           {
            "bin_start": 0.9319999999999999,
            "bin_end": 1.2530000000000001,
            "count": 30
           },
           {
            "bin_start": 1.2530000000000001,
            "bin_end": 1.574,
            "count": 56
           },
           {
            "bin_start": 1.574,
            "bin_end": 1.895,
            "count": 21
           },
           {
            "bin_start": 1.895,
            "bin_end": 2.216,
            "count": 11
           },
           {
            "bin_start": 2.216,
            "bin_end": 2.537,
            "count": 4
           },
           {
            "bin_start": 2.537,
            "bin_end": 2.858,
            "count": 3
           },
           {
            "bin_start": 2.858,
            "bin_end": 3.1790000000000003,
            "count": 2
           },
           {
            "bin_start": 3.1790000000000003,
            "bin_end": 3.5,
            "count": 1
           }
          ]
         }
        },
        {
         "name": "Si",
         "dtype": "float64",
         "stats": {
          "unique_count": 104,
          "nan_count": 0,
          "min": "69.81",
          "max": "75.41",
          "histogram": [
           {
            "bin_start": 69.81,
            "bin_end": 70.37,
            "count": 4
           },
           {
            "bin_start": 70.37,
            "bin_end": 70.93,
            "count": 2
           },
           {
            "bin_start": 70.93,
            "bin_end": 71.49,
            "count": 4
           },
           {
            "bin_start": 71.49,
            "bin_end": 72.05,
            "count": 19
           },
           {
            "bin_start": 72.05,
            "bin_end": 72.61,
            "count": 26
           },
           {
            "bin_start": 72.61,
            "bin_end": 73.17,
            "count": 67
           },
           {
            "bin_start": 73.17,
            "bin_end": 73.73,
            "count": 23
           },
           {
            "bin_start": 73.73,
            "bin_end": 74.28999999999999,
            "count": 2
           },
           {
            "bin_start": 74.28999999999999,
            "bin_end": 74.85,
            "count": 1
           },
           {
            "bin_start": 74.85,
            "bin_end": 75.41,
            "count": 1
           }
          ]
         }
        },
        {
         "name": "K",
         "dtype": "float64",
         "stats": {
          "unique_count": 56,
          "nan_count": 0,
          "min": "0.0",
          "max": "6.21",
          "histogram": [
           {
            "bin_start": 0,
            "bin_end": 0.621,
            "count": 121
           },
           {
            "bin_start": 0.621,
            "bin_end": 1.242,
            "count": 23
           },
           {
            "bin_start": 1.242,
            "bin_end": 1.863,
            "count": 4
           },
           {
            "bin_start": 1.863,
            "bin_end": 2.484,
            "count": 0
           },
           {
            "bin_start": 2.484,
            "bin_end": 3.105,
            "count": 0
           },
           {
            "bin_start": 3.105,
            "bin_end": 3.726,
            "count": 0
           },
           {
            "bin_start": 3.726,
            "bin_end": 4.3469999999999995,
            "count": 0
           },
           {
            "bin_start": 4.3469999999999995,
            "bin_end": 4.968,
            "count": 0
           },
           {
            "bin_start": 4.968,
            "bin_end": 5.589,
            "count": 0
           },
           {
            "bin_start": 5.589,
            "bin_end": 6.21,
            "count": 1
           }
          ]
         }
        },
        {
         "name": "Ca",
         "dtype": "float64",
         "stats": {
          "unique_count": 113,
          "nan_count": 0,
          "min": "5.43",
          "max": "16.19",
          "histogram": [
           {
            "bin_start": 5.43,
            "bin_end": 6.506,
            "count": 4
           },
           {
            "bin_start": 6.506,
            "bin_end": 7.582,
            "count": 4
           },
           {
            "bin_start": 7.582,
            "bin_end": 8.658,
            "count": 75
           },
           {
            "bin_start": 8.658,
            "bin_end": 9.734,
            "count": 41
           },
           {
            "bin_start": 9.734,
            "bin_end": 10.81,
            "count": 12
           },
           {
            "bin_start": 10.81,
            "bin_end": 11.886,
            "count": 6
           },
           {
            "bin_start": 11.886,
            "bin_end": 12.962,
            "count": 2
           },
           {
            "bin_start": 12.962,
            "bin_end": 14.038,
            "count": 1
           },
           {
            "bin_start": 14.038,
            "bin_end": 15.114,
            "count": 3
           },
           {
            "bin_start": 15.114,
            "bin_end": 16.19,
            "count": 1
           }
          ]
         }
        },
        {
         "name": "Ba",
         "dtype": "float64",
         "stats": {
          "unique_count": 26,
          "nan_count": 0,
          "min": "0.0",
          "max": "3.15",
          "histogram": [
           {
            "bin_start": 0,
            "bin_end": 0.315,
            "count": 128
           },
           {
            "bin_start": 0.315,
            "bin_end": 0.63,
            "count": 4
           },
           {
            "bin_start": 0.63,
            "bin_end": 0.9450000000000001,
            "count": 3
           },
           {
            "bin_start": 0.9450000000000001,
            "bin_end": 1.26,
            "count": 2
           },
           {
            "bin_start": 1.26,
            "bin_end": 1.575,
            "count": 4
           },
           {
            "bin_start": 1.575,
            "bin_end": 1.8900000000000001,
            "count": 5
           },
           {
            "bin_start": 1.8900000000000001,
            "bin_end": 2.205,
            "count": 1
           },
           {
            "bin_start": 2.205,
            "bin_end": 2.52,
            "count": 0
           },
           {
            "bin_start": 2.52,
            "bin_end": 2.835,
            "count": 0
           },
           {
            "bin_start": 2.835,
            "bin_end": 3.15,
            "count": 2
           }
          ]
         }
        },
        {
         "name": "Fe",
         "dtype": "float64",
         "stats": {
          "unique_count": 27,
          "nan_count": 0,
          "min": "0.0",
          "max": "0.37",
          "histogram": [
           {
            "bin_start": 0,
            "bin_end": 0.037,
            "count": 98
           },
           {
            "bin_start": 0.037,
            "bin_end": 0.074,
            "count": 4
           },
           {
            "bin_start": 0.074,
            "bin_end": 0.11099999999999999,
            "count": 11
           },
           {
            "bin_start": 0.11099999999999999,
            "bin_end": 0.148,
            "count": 5
           },
           {
            "bin_start": 0.148,
            "bin_end": 0.185,
            "count": 9
           },
           {
            "bin_start": 0.185,
            "bin_end": 0.22199999999999998,
            "count": 5
           },
           {
            "bin_start": 0.22199999999999998,
            "bin_end": 0.259,
            "count": 8
           },
           {
            "bin_start": 0.259,
            "bin_end": 0.296,
            "count": 4
           },
           {
            "bin_start": 0.296,
            "bin_end": 0.33299999999999996,
            "count": 3
           },
           {
            "bin_start": 0.33299999999999996,
            "bin_end": 0.37,
            "count": 2
           }
          ]
         }
        },
        {
         "name": "type",
         "dtype": "int64",
         "stats": {
          "unique_count": 6,
          "nan_count": 0,
          "min": "1",
          "max": "7",
          "histogram": [
           {
            "bin_start": 1,
            "bin_end": 1.6,
            "count": 49
           },
           {
            "bin_start": 1.6,
            "bin_end": 2.2,
            "count": 53
           },
           {
            "bin_start": 2.2,
            "bin_end": 2.8,
            "count": 0
           },
           {
            "bin_start": 2.8,
            "bin_end": 3.4,
            "count": 12
           },
           {
            "bin_start": 3.4,
            "bin_end": 4,
            "count": 0
           },
           {
            "bin_start": 4,
            "bin_end": 4.6,
            "count": 0
           },
           {
            "bin_start": 4.6,
            "bin_end": 5.2,
            "count": 9
           },
           {
            "bin_start": 5.2,
            "bin_end": 5.8,
            "count": 0
           },
           {
            "bin_start": 5.8,
            "bin_end": 6.3999999999999995,
            "count": 6
           },
           {
            "bin_start": 6.3999999999999995,
            "bin_end": 7,
            "count": 20
           }
          ]
         }
        },
        {
         "name": "_deepnote_index_column",
         "dtype": "int64"
        }
       ],
       "rows": [
        {
         "RI": 1.51839,
         "Na": 12.85,
         "Mg": 3.67,
         "Al": 1.24,
         "Si": 72.57,
         "K": 0.62,
         "Ca": 8.68,
         "Ba": 0,
         "Fe": 0.35,
         "type": 2,
         "_deepnote_index_column": 0
        },
        {
         "RI": 1.52081,
         "Na": 13.78,
         "Mg": 2.28,
         "Al": 1.43,
         "Si": 71.99,
         "K": 0.49,
         "Ca": 9.85,
         "Ba": 0,
         "Fe": 0.17,
         "type": 2,
         "_deepnote_index_column": 1
        },
        {
         "RI": 1.51708,
         "Na": 13.72,
         "Mg": 3.68,
         "Al": 1.81,
         "Si": 72.06,
         "K": 0.64,
         "Ca": 7.88,
         "Ba": 0,
         "Fe": 0,
         "type": 2,
         "_deepnote_index_column": 2
        },
        {
         "RI": 1.52739,
         "Na": 11.02,
         "Mg": 0,
         "Al": 0.75,
         "Si": 73.08,
         "K": 0,
         "Ca": 14.96,
         "Ba": 0,
         "Fe": 0,
         "type": 2,
         "_deepnote_index_column": 3
        },
        {
         "RI": 1.5221,
         "Na": 13.73,
         "Mg": 3.84,
         "Al": 0.72,
         "Si": 71.76,
         "K": 0.17,
         "Ca": 9.74,
         "Ba": 0,
         "Fe": 0,
         "type": 1,
         "_deepnote_index_column": 4
        },
        {
         "RI": 1.51631,
         "Na": 13.34,
         "Mg": 3.57,
         "Al": 1.57,
         "Si": 72.87,
         "K": 0.61,
         "Ca": 7.89,
         "Ba": 0,
         "Fe": 0,
         "type": 2,
         "_deepnote_index_column": 5
        },
        {
         "RI": 1.5174299999999998,
         "Na": 12.2,
         "Mg": 3.25,
         "Al": 1.16,
         "Si": 73.55,
         "K": 0.62,
         "Ca": 8.9,
         "Ba": 0,
         "Fe": 0.24,
         "type": 2,
         "_deepnote_index_column": 6
        },
        {
         "RI": 1.51915,
         "Na": 12.73,
         "Mg": 1.85,
         "Al": 1.86,
         "Si": 72.69,
         "K": 0.6,
         "Ca": 10.09,
         "Ba": 0,
         "Fe": 0,
         "type": 5,
         "_deepnote_index_column": 7
        },
        {
         "RI": 1.51645,
         "Na": 13.44,
         "Mg": 3.61,
         "Al": 1.54,
         "Si": 72.39,
         "K": 0.66,
         "Ca": 8.03,
         "Ba": 0,
         "Fe": 0,
         "type": 2,
         "_deepnote_index_column": 8
        },
        {
         "RI": 1.51683,
         "Na": 14.56,
         "Mg": 0,
         "Al": 1.98,
         "Si": 73.29,
         "K": 0,
         "Ca": 8.52,
         "Ba": 1.57,
         "Fe": 0.07,
         "type": 7,
         "_deepnote_index_column": 9
        }
       ]
      },
      "text/plain": "          RI     Na    Mg    Al     Si     K     Ca    Ba    Fe  type\n0    1.51839  12.85  3.67  1.24  72.57  0.62   8.68  0.00  0.35     2\n1    1.52081  13.78  2.28  1.43  71.99  0.49   9.85  0.00  0.17     2\n2    1.51708  13.72  3.68  1.81  72.06  0.64   7.88  0.00  0.00     2\n3    1.52739  11.02  0.00  0.75  73.08  0.00  14.96  0.00  0.00     2\n4    1.52210  13.73  3.84  0.72  71.76  0.17   9.74  0.00  0.00     1\n..       ...    ...   ...   ...    ...   ...    ...   ...   ...   ...\n144  1.51755  12.71  3.42  1.20  73.20  0.59   8.64  0.00  0.00     1\n145  1.51800  13.71  3.93  1.54  71.81  0.54   8.21  0.00  0.15     2\n146  1.52365  15.79  1.83  1.31  70.43  0.31   8.61  1.68  0.00     7\n147  1.51571  12.72  3.46  1.56  73.20  0.67   8.09  0.00  0.24     1\n148  1.51786  12.73  3.43  1.19  72.95  0.62   8.76  0.00  0.30     1\n\n[149 rows x 10 columns]",
      "text/html": "<div>\n<style scoped>\n    .dataframe tbody tr th:only-of-type {\n        vertical-align: middle;\n    }\n\n    .dataframe tbody tr th {\n        vertical-align: top;\n    }\n\n    .dataframe thead th {\n        text-align: right;\n    }\n</style>\n<table border=\"1\" class=\"dataframe\">\n  <thead>\n    <tr style=\"text-align: right;\">\n      <th></th>\n      <th>RI</th>\n      <th>Na</th>\n      <th>Mg</th>\n      <th>Al</th>\n      <th>Si</th>\n      <th>K</th>\n      <th>Ca</th>\n      <th>Ba</th>\n      <th>Fe</th>\n      <th>type</th>\n    </tr>\n  </thead>\n  <tbody>\n    <tr>\n      <th>0</th>\n      <td>1.51839</td>\n      <td>12.85</td>\n      <td>3.67</td>\n      <td>1.24</td>\n      <td>72.57</td>\n      <td>0.62</td>\n      <td>8.68</td>\n      <td>0.00</td>\n      <td>0.35</td>\n      <td>2</td>\n    </tr>\n    <tr>\n      <th>1</th>\n      <td>1.52081</td>\n      <td>13.78</td>\n      <td>2.28</td>\n      <td>1.43</td>\n      <td>71.99</td>\n      <td>0.49</td>\n      <td>9.85</td>\n      <td>0.00</td>\n      <td>0.17</td>\n      <td>2</td>\n    </tr>\n    <tr>\n      <th>2</th>\n      <td>1.51708</td>\n      <td>13.72</td>\n      <td>3.68</td>\n      <td>1.81</td>\n      <td>72.06</td>\n      <td>0.64</td>\n      <td>7.88</td>\n      <td>0.00</td>\n      <td>0.00</td>\n      <td>2</td>\n    </tr>\n    <tr>\n      <th>3</th>\n      <td>1.52739</td>\n      <td>11.02</td>\n      <td>0.00</td>\n      <td>0.75</td>\n      <td>73.08</td>\n      <td>0.00</td>\n      <td>14.96</td>\n      <td>0.00</td>\n      <td>0.00</td>\n      <td>2</td>\n    </tr>\n    <tr>\n      <th>4</th>\n      <td>1.52210</td>\n      <td>13.73</td>\n      <td>3.84</td>\n      <td>0.72</td>\n      <td>71.76</td>\n      <td>0.17</td>\n      <td>9.74</td>\n      <td>0.00</td>\n      <td>0.00</td>\n      <td>1</td>\n    </tr>\n    <tr>\n      <th>...</th>\n      <td>...</td>\n      <td>...</td>\n      <td>...</td>\n      <td>...</td>\n      <td>...</td>\n      <td>...</td>\n      <td>...</td>\n      <td>...</td>\n      <td>...</td>\n      <td>...</td>\n    </tr>\n    <tr>\n      <th>144</th>\n      <td>1.51755</td>\n      <td>12.71</td>\n      <td>3.42</td>\n      <td>1.20</td>\n      <td>73.20</td>\n      <td>0.59</td>\n      <td>8.64</td>\n      <td>0.00</td>\n      <td>0.00</td>\n      <td>1</td>\n    </tr>\n    <tr>\n      <th>145</th>\n      <td>1.51800</td>\n      <td>13.71</td>\n      <td>3.93</td>\n      <td>1.54</td>\n      <td>71.81</td>\n      <td>0.54</td>\n      <td>8.21</td>\n      <td>0.00</td>\n      <td>0.15</td>\n      <td>2</td>\n    </tr>\n    <tr>\n      <th>146</th>\n      <td>1.52365</td>\n      <td>15.79</td>\n      <td>1.83</td>\n      <td>1.31</td>\n      <td>70.43</td>\n      <td>0.31</td>\n      <td>8.61</td>\n      <td>1.68</td>\n      <td>0.00</td>\n      <td>7</td>\n    </tr>\n    <tr>\n      <th>147</th>\n      <td>1.51571</td>\n      <td>12.72</td>\n      <td>3.46</td>\n      <td>1.56</td>\n      <td>73.20</td>\n      <td>0.67</td>\n      <td>8.09</td>\n      <td>0.00</td>\n      <td>0.24</td>\n      <td>1</td>\n    </tr>\n    <tr>\n      <th>148</th>\n      <td>1.51786</td>\n      <td>12.73</td>\n      <td>3.43</td>\n      <td>1.19</td>\n      <td>72.95</td>\n      <td>0.62</td>\n      <td>8.76</td>\n      <td>0.00</td>\n      <td>0.30</td>\n      <td>1</td>\n    </tr>\n  </tbody>\n</table>\n<p>149 rows × 10 columns</p>\n</div>"
     },
     "metadata": {}
    }
   ],
   "execution_count": null
  },
  {
   "cell_type": "markdown",
   "source": "### Basic",
   "metadata": {
    "cell_id": "00003-9a02013d-4467-495b-bd1a-e9ebd642993c",
    "deepnote_cell_type": "markdown"
   }
  },
  {
   "cell_type": "code",
   "metadata": {
    "cell_id": "00004-f4455485-2f96-4fec-8243-b9126e5bec14",
    "deepnote_to_be_reexecuted": false,
    "source_hash": "a01d0852",
    "execution_start": 1640966577385,
    "execution_millis": 25,
    "deepnote_cell_type": "code"
   },
   "source": "basic(train)",
   "outputs": [
    {
     "name": "stdout",
     "text": "Number of observations: 149\nNumber of classes: 6\nThe classes is: [1, 2, 3, 5, 6, 7]\nNumber of features: 9\nThe features is: ['RI', 'Na', 'Mg', 'Al', 'Si', 'K', 'Ca', 'Ba', 'Fe']\nAmount of NULL values in each feature: \n\nRI      0\nNa      0\nMg      0\nAl      0\nSi      0\nK       0\nCa      0\nBa      0\nFe      0\ntype    0\ndtype: int64\n",
     "output_type": "stream",
     "data": {}
    }
   ],
   "execution_count": null
  },
  {
   "cell_type": "markdown",
   "source": "### Type barplot",
   "metadata": {
    "cell_id": "00005-d0bba7dd-664b-42d7-937d-bf1ce6fc5b7c",
    "deepnote_cell_type": "markdown"
   }
  },
  {
   "cell_type": "code",
   "metadata": {
    "tags": [],
    "cell_id": "00006-96f6034d-b233-479d-b4e7-d263e2988f8e",
    "deepnote_output_heights": [
     null,
     253
    ],
    "deepnote_to_be_reexecuted": false,
    "source_hash": "8d69ac29",
    "execution_start": 1640966577483,
    "execution_millis": 645,
    "deepnote_cell_type": "code"
   },
   "source": "sns.set_theme(style=\"whitegrid\", palette=\"pastel\")\ntypebar(train);",
   "outputs": [
    {
     "name": "stderr",
     "text": "/shared-libs/python3.7/py/lib/python3.7/site-packages/seaborn/_decorators.py:43: FutureWarning: Pass the following variables as keyword args: x, y. From version 0.12, the only valid positional argument will be `data`, and passing other arguments without an explicit keyword will result in an error or misinterpretation.\n  FutureWarning\n",
     "output_type": "stream",
     "data": {}
    },
    {
     "data": {
      "text/plain": "<Figure size 432x288 with 1 Axes>",
      "image/png": "[encoded data removed]"
     },
     "metadata": {
      "image/png": {
       "width": 372,
       "height": 251
      }
     },
     "output_type": "display_data"
    }
   ],
   "execution_count": null
  },
  {
   "cell_type": "markdown",
   "source": "### Correlation matrix between the different features",
   "metadata": {
    "cell_id": "00007-6ad5db7e-edee-4b86-8ae0-7c7775557be0",
    "deepnote_cell_type": "markdown"
   }
  },
  {
   "cell_type": "code",
   "metadata": {
    "cell_id": "00008-b34889c3-2228-4a3c-8f48-ce4b6f278fe9",
    "deepnote_output_heights": [
     525
    ],
    "deepnote_to_be_reexecuted": false,
    "source_hash": "4efc009e",
    "execution_start": 1640966578145,
    "execution_millis": 1974,
    "deepnote_cell_type": "code"
   },
   "source": "corrmatrix(train)",
   "outputs": [
    {
     "data": {
      "text/plain": "<Figure size 792x648 with 2 Axes>",
      "image/png": "[encoded data removed]"
     },
     "metadata": {
      "image/png": {
       "width": 592,
       "height": 523
      }
     },
     "output_type": "display_data"
    }
   ],
   "execution_count": null
  },
  {
   "cell_type": "markdown",
   "source": "### Distribution stats for each feature",
   "metadata": {
    "cell_id": "00009-067ee25c-a864-4a8f-a6bc-52ab6f78300a",
    "deepnote_cell_type": "markdown"
   }
  },
  {
   "cell_type": "code",
   "metadata": {
    "cell_id": "00010-6bf461ea-b166-4df8-9805-ee4f769b5ac8",
    "deepnote_output_heights": [
     293
    ],
    "deepnote_to_be_reexecuted": false,
    "source_hash": "fef18212",
    "execution_start": 1640966580179,
    "execution_millis": 151,
    "deepnote_cell_type": "code"
   },
   "source": "stats(train)",
   "outputs": [
    {
     "output_type": "execute_result",
     "execution_count": 7,
     "data": {
      "application/vnd.deepnote.dataframe.v3+json": {
       "column_count": 8,
       "row_count": 9,
       "columns": [
        {
         "name": "Minimum",
         "dtype": "float64",
         "stats": {
          "unique_count": 6,
          "nan_count": 0,
          "min": "0.0",
          "max": "69.81",
          "histogram": [
           {
            "bin_start": 0,
            "bin_end": 6.981,
            "count": 7
           },
           {
            "bin_start": 6.981,
            "bin_end": 13.962,
            "count": 1
           },
           {
            "bin_start": 13.962,
            "bin_end": 20.942999999999998,
            "count": 0
           },
           {
            "bin_start": 20.942999999999998,
            "bin_end": 27.924,
            "count": 0
           },
           {
            "bin_start": 27.924,
            "bin_end": 34.905,
            "count": 0
           },
           {
            "bin_start": 34.905,
            "bin_end": 41.885999999999996,
            "count": 0
           },
           {
            "bin_start": 41.885999999999996,
            "bin_end": 48.867,
            "count": 0
           },
           {
            "bin_start": 48.867,
            "bin_end": 55.848,
            "count": 0
           },
           {
            "bin_start": 55.848,
            "bin_end": 62.829,
            "count": 0
           },
           {
            "bin_start": 62.829,
            "bin_end": 69.81,
            "count": 1
           }
          ]
         }
        },
        {
         "name": "Maximum",
         "dtype": "float64",
         "stats": {
          "unique_count": 9,
          "nan_count": 0,
          "min": "0.37",
          "max": "75.41",
          "histogram": [
           {
            "bin_start": 0.37,
            "bin_end": 7.874,
            "count": 6
           },
           {
            "bin_start": 7.874,
            "bin_end": 15.377999999999998,
            "count": 0
           },
           {
            "bin_start": 15.377999999999998,
            "bin_end": 22.882,
            "count": 2
           },
           {
            "bin_start": 22.882,
            "bin_end": 30.386,
            "count": 0
           },
           {
            "bin_start": 30.386,
            "bin_end": 37.88999999999999,
            "count": 0
           },
           {
            "bin_start": 37.88999999999999,
            "bin_end": 45.394,
            "count": 0
           },
           {
            "bin_start": 45.394,
            "bin_end": 52.897999999999996,
            "count": 0
           },
           {
            "bin_start": 52.897999999999996,
            "bin_end": 60.401999999999994,
            "count": 0
           },
           {
            "bin_start": 60.401999999999994,
            "bin_end": 67.906,
            "count": 0
           },
           {
            "bin_start": 67.906,
            "bin_end": 75.41,
            "count": 1
           }
          ]
         }
        },
        {
         "name": "Mean",
         "dtype": "float64",
         "stats": {
          "unique_count": 9,
          "nan_count": 0,
          "min": "0.061610738255033555",
          "max": "72.62375838926174",
          "histogram": [
           {
            "bin_start": 0.061610738255033555,
            "bin_end": 7.317825503355705,
            "count": 6
           },
           {
            "bin_start": 7.317825503355705,
            "bin_end": 14.574040268456375,
            "count": 2
           },
           {
            "bin_start": 14.574040268456375,
            "bin_end": 21.830255033557044,
            "count": 0
           },
           {
            "bin_start": 21.830255033557044,
            "bin_end": 29.086469798657717,
            "count": 0
           },
           {
            "bin_start": 29.086469798657717,
            "bin_end": 36.34268456375839,
            "count": 0
           },
           {
            "bin_start": 36.34268456375839,
            "bin_end": 43.598899328859055,
            "count": 0
           },
           {
            "bin_start": 43.598899328859055,
            "bin_end": 50.85511409395973,
            "count": 0
           },
           {
            "bin_start": 50.85511409395973,
            "bin_end": 58.1113288590604,
            "count": 0
           },
           {
            "bin_start": 58.1113288590604,
            "bin_end": 65.36754362416106,
            "count": 0
           },
           {
            "bin_start": 65.36754362416106,
            "bin_end": 72.62375838926174,
            "count": 1
           }
          ]
         }
        },
        {
         "name": "Median",
         "dtype": "float64",
         "stats": {
          "unique_count": 8,
          "nan_count": 0,
          "min": "0.0",
          "max": "72.78",
          "histogram": [
           {
            "bin_start": 0,
            "bin_end": 7.2780000000000005,
            "count": 6
           },
           {
            "bin_start": 7.2780000000000005,
            "bin_end": 14.556000000000001,
            "count": 2
           },
           {
            "bin_start": 14.556000000000001,
            "bin_end": 21.834000000000003,
            "count": 0
           },
           {
            "bin_start": 21.834000000000003,
            "bin_end": 29.112000000000002,
            "count": 0
           },
           {
            "bin_start": 29.112000000000002,
            "bin_end": 36.39,
            "count": 0
           },
           {
            "bin_start": 36.39,
            "bin_end": 43.668000000000006,
            "count": 0
           },
           {
            "bin_start": 43.668000000000006,
            "bin_end": 50.946000000000005,
            "count": 0
           },
           {
            "bin_start": 50.946000000000005,
            "bin_end": 58.224000000000004,
            "count": 0
           },
           {
            "bin_start": 58.224000000000004,
            "bin_end": 65.50200000000001,
            "count": 0
           },
           {
            "bin_start": 65.50200000000001,
            "bin_end": 72.78,
            "count": 1
           }
          ]
         }
        },
        {
         "name": "Standard deviation",
         "dtype": "float64",
         "stats": {
          "unique_count": 9,
          "nan_count": 0,
          "min": "0.0032019861226977755",
          "max": "1.506112046525536",
          "histogram": [
           {
            "bin_start": 0.0032019861226977755,
            "bin_end": 0.15349299216298162,
            "count": 2
           },
           {
            "bin_start": 0.15349299216298162,
            "bin_end": 0.30378399820326546,
            "count": 0
           },
           {
            "bin_start": 0.30378399820326546,
            "bin_end": 0.4540750042435493,
            "count": 0
           },
           {
            "bin_start": 0.4540750042435493,
            "bin_end": 0.6043660102838331,
            "count": 3
           },
           {
            "bin_start": 0.6043660102838331,
            "bin_end": 0.7546570163241169,
            "count": 0
           },
           {
            "bin_start": 0.7546570163241169,
            "bin_end": 0.9049480223644008,
            "count": 2
           },
           {
            "bin_start": 0.9049480223644008,
            "bin_end": 1.0552390284046846,
            "count": 0
           },
           {
            "bin_start": 1.0552390284046846,
            "bin_end": 1.2055300344449684,
            "count": 0
           },
           {
            "bin_start": 1.2055300344449684,
            "bin_end": 1.3558210404852522,
            "count": 0
           },
           {
            "bin_start": 1.3558210404852522,
            "bin_end": 1.506112046525536,
            "count": 2
           }
          ]
         }
        },
        {
         "name": "Variance",
         "dtype": "float64",
         "stats": {
          "unique_count": 9,
          "nan_count": 0,
          "min": "1.0252715129949135e-05",
          "max": "2.2683734966893385",
          "histogram": [
           {
            "bin_start": 0.000010252715129949135,
            "bin_end": 0.22684657711255082,
            "count": 2
           },
           {
            "bin_start": 0.22684657711255082,
            "bin_end": 0.4536829015099717,
            "count": 3
           },
           {
            "bin_start": 0.4536829015099717,
            "bin_end": 0.6805192259073927,
            "count": 1
           },
           {
            "bin_start": 0.6805192259073927,
            "bin_end": 0.9073555503048135,
            "count": 1
           },
           {
            "bin_start": 0.9073555503048135,
            "bin_end": 1.1341918747022344,
            "count": 0
           },
           {
            "bin_start": 1.1341918747022344,
            "bin_end": 1.3610281990996553,
            "count": 0
           },
           {
            "bin_start": 1.3610281990996553,
            "bin_end": 1.587864523497076,
            "count": 0
           },
           {
            "bin_start": 1.587864523497076,
            "bin_end": 1.814700847894497,
            "count": 0
           },
           {
            "bin_start": 1.814700847894497,
            "bin_end": 2.0415371722919176,
            "count": 1
           },
           {
            "bin_start": 2.0415371722919176,
            "bin_end": 2.2683734966893385,
            "count": 1
           }
          ]
         }
        },
        {
         "name": "Average",
         "dtype": "float64",
         "stats": {
          "unique_count": 9,
          "nan_count": 0,
          "min": "0.061610738255033555",
          "max": "72.62375838926174",
          "histogram": [
           {
            "bin_start": 0.061610738255033555,
            "bin_end": 7.317825503355705,
            "count": 6
           },
           {
            "bin_start": 7.317825503355705,
            "bin_end": 14.574040268456375,
            "count": 2
           },
           {
            "bin_start": 14.574040268456375,
            "bin_end": 21.830255033557044,
            "count": 0
           },
           {
            "bin_start": 21.830255033557044,
            "bin_end": 29.086469798657717,
            "count": 0
           },
           {
            "bin_start": 29.086469798657717,
            "bin_end": 36.34268456375839,
            "count": 0
           },
           {
            "bin_start": 36.34268456375839,
            "bin_end": 43.598899328859055,
            "count": 0
           },
           {
            "bin_start": 43.598899328859055,
            "bin_end": 50.85511409395973,
            "count": 0
           },
           {
            "bin_start": 50.85511409395973,
            "bin_end": 58.1113288590604,
            "count": 0
           },
           {
            "bin_start": 58.1113288590604,
            "bin_end": 65.36754362416106,
            "count": 0
           },
           {
            "bin_start": 65.36754362416106,
            "bin_end": 72.62375838926174,
            "count": 1
           }
          ]
         }
        },
        {
         "name": "Non-zero",
         "dtype": "int64",
         "stats": {
          "unique_count": 5,
          "nan_count": 0,
          "min": "26",
          "max": "149",
          "histogram": [
           {
            "bin_start": 26,
            "bin_end": 38.3,
            "count": 1
           },
           {
            "bin_start": 38.3,
            "bin_end": 50.6,
            "count": 0
           },
           {
            "bin_start": 50.6,
            "bin_end": 62.900000000000006,
            "count": 1
           },
           {
            "bin_start": 62.900000000000006,
            "bin_end": 75.2,
            "count": 0
           },
           {
            "bin_start": 75.2,
            "bin_end": 87.5,
            "count": 0
           },
           {
            "bin_start": 87.5,
            "bin_end": 99.80000000000001,
            "count": 0
           },
           {
            "bin_start": 99.80000000000001,
            "bin_end": 112.10000000000001,
            "count": 0
           },
           {
            "bin_start": 112.10000000000001,
            "bin_end": 124.4,
            "count": 1
           },
           {
            "bin_start": 124.4,
            "bin_end": 136.7,
            "count": 1
           },
           {
            "bin_start": 136.7,
            "bin_end": 149,
            "count": 5
           }
          ]
         }
        },
        {
         "name": "_deepnote_index_column",
         "dtype": "object"
        }
       ],
       "rows": [
        {
         "Minimum": 1.51115,
         "Maximum": 1.53393,
         "Mean": 1.5184265771812082,
         "Median": 1.51769,
         "Standard deviation": 0.0032019861226977755,
         "Variance": 0.000010252715129949135,
         "Average": 1.5184265771812082,
         "Non-zero": 149,
         "_deepnote_index_column": "RI"
        },
        {
         "Minimum": 10.73,
         "Maximum": 17.38,
         "Mean": 13.420469798657718,
         "Median": 13.3,
         "Standard deviation": 0.8603810109406226,
         "Variance": 0.7402554839872078,
         "Average": 13.420469798657718,
         "Non-zero": 149,
         "_deepnote_index_column": "Na"
        },
        {
         "Minimum": 0,
         "Maximum": 3.98,
         "Mean": 2.724765100671141,
         "Median": 3.49,
         "Standard deviation": 1.4174121346973878,
         "Variance": 2.009057159587406,
         "Average": 2.724765100671141,
         "Non-zero": 121,
         "_deepnote_index_column": "Mg"
        },
        {
         "Minimum": 0.29,
         "Maximum": 3.5,
         "Mean": 1.4346979865771812,
         "Median": 1.36,
         "Standard deviation": 0.5047672824768196,
         "Variance": 0.25479000945903335,
         "Average": 1.4346979865771812,
         "Non-zero": 149,
         "_deepnote_index_column": "Al"
        },
        {
         "Minimum": 69.81,
         "Maximum": 75.41,
         "Mean": 72.62375838926174,
         "Median": 72.78,
         "Standard deviation": 0.780512201909072,
         "Variance": 0.6091992973289481,
         "Average": 72.62375838926174,
         "Non-zero": 149,
         "_deepnote_index_column": "Si"
        },
        {
         "Minimum": 0,
         "Maximum": 6.21,
         "Mean": 0.4851677852348994,
         "Median": 0.55,
         "Standard deviation": 0.5680823789713773,
         "Variance": 0.3227175892977795,
         "Average": 0.4851677852348994,
         "Non-zero": 130,
         "_deepnote_index_column": "K"
        },
        {
         "Minimum": 5.43,
         "Maximum": 16.19,
         "Mean": 8.924295302013425,
         "Median": 8.59,
         "Standard deviation": 1.506112046525536,
         "Variance": 2.2683734966893385,
         "Average": 8.924295302013425,
         "Non-zero": 149,
         "_deepnote_index_column": "Ca"
        },
        {
         "Minimum": 0,
         "Maximum": 3.15,
         "Mean": 0.19979865771812078,
         "Median": 0,
         "Standard deviation": 0.5514586755783987,
         "Variance": 0.30410667087068155,
         "Average": 0.19979865771812078,
         "Non-zero": 26,
         "_deepnote_index_column": "Ba"
        },
        {
         "Minimum": 0,
         "Maximum": 0.37,
         "Mean": 0.061610738255033555,
         "Median": 0,
         "Standard deviation": 0.09731335336812869,
         "Variance": 0.009469888743750283,
         "Average": 0.061610738255033555,
         "Non-zero": 52,
         "_deepnote_index_column": "Fe"
        }
       ]
      },
      "text/plain": "     Minimum   Maximum       Mean    Median  Standard deviation  Variance  \\\nRI   1.51115   1.53393   1.518427   1.51769            0.003202  0.000010   \nNa  10.73000  17.38000  13.420470  13.30000            0.860381  0.740255   \nMg   0.00000   3.98000   2.724765   3.49000            1.417412  2.009057   \nAl   0.29000   3.50000   1.434698   1.36000            0.504767  0.254790   \nSi  69.81000  75.41000  72.623758  72.78000            0.780512  0.609199   \nK    0.00000   6.21000   0.485168   0.55000            0.568082  0.322718   \nCa   5.43000  16.19000   8.924295   8.59000            1.506112  2.268373   \nBa   0.00000   3.15000   0.199799   0.00000            0.551459  0.304107   \nFe   0.00000   0.37000   0.061611   0.00000            0.097313  0.009470   \n\n      Average  Non-zero  \nRI   1.518427       149  \nNa  13.420470       149  \nMg   2.724765       121  \nAl   1.434698       149  \nSi  72.623758       149  \nK    0.485168       130  \nCa   8.924295       149  \nBa   0.199799        26  \nFe   0.061611        52  ",
      "text/html": "<div>\n<style scoped>\n    .dataframe tbody tr th:only-of-type {\n        vertical-align: middle;\n    }\n\n    .dataframe tbody tr th {\n        vertical-align: top;\n    }\n\n    .dataframe thead th {\n        text-align: right;\n    }\n</style>\n<table border=\"1\" class=\"dataframe\">\n  <thead>\n    <tr style=\"text-align: right;\">\n      <th></th>\n      <th>Minimum</th>\n      <th>Maximum</th>\n      <th>Mean</th>\n      <th>Median</th>\n      <th>Standard deviation</th>\n      <th>Variance</th>\n      <th>Average</th>\n      <th>Non-zero</th>\n    </tr>\n  </thead>\n  <tbody>\n    <tr>\n      <th>RI</th>\n      <td>1.51115</td>\n      <td>1.53393</td>\n      <td>1.518427</td>\n      <td>1.51769</td>\n      <td>0.003202</td>\n      <td>0.000010</td>\n      <td>1.518427</td>\n      <td>149</td>\n    </tr>\n    <tr>\n      <th>Na</th>\n      <td>10.73000</td>\n      <td>17.38000</td>\n      <td>13.420470</td>\n      <td>13.30000</td>\n      <td>0.860381</td>\n      <td>0.740255</td>\n      <td>13.420470</td>\n      <td>149</td>\n    </tr>\n    <tr>\n      <th>Mg</th>\n      <td>0.00000</td>\n      <td>3.98000</td>\n      <td>2.724765</td>\n      <td>3.49000</td>\n      <td>1.417412</td>\n      <td>2.009057</td>\n      <td>2.724765</td>\n      <td>121</td>\n    </tr>\n    <tr>\n      <th>Al</th>\n      <td>0.29000</td>\n      <td>3.50000</td>\n      <td>1.434698</td>\n      <td>1.36000</td>\n      <td>0.504767</td>\n      <td>0.254790</td>\n      <td>1.434698</td>\n      <td>149</td>\n    </tr>\n    <tr>\n      <th>Si</th>\n      <td>69.81000</td>\n      <td>75.41000</td>\n      <td>72.623758</td>\n      <td>72.78000</td>\n      <td>0.780512</td>\n      <td>0.609199</td>\n      <td>72.623758</td>\n      <td>149</td>\n    </tr>\n    <tr>\n      <th>K</th>\n      <td>0.00000</td>\n      <td>6.21000</td>\n      <td>0.485168</td>\n      <td>0.55000</td>\n      <td>0.568082</td>\n      <td>0.322718</td>\n      <td>0.485168</td>\n      <td>130</td>\n    </tr>\n    <tr>\n      <th>Ca</th>\n      <td>5.43000</td>\n      <td>16.19000</td>\n      <td>8.924295</td>\n      <td>8.59000</td>\n      <td>1.506112</td>\n      <td>2.268373</td>\n      <td>8.924295</td>\n      <td>149</td>\n    </tr>\n    <tr>\n      <th>Ba</th>\n      <td>0.00000</td>\n      <td>3.15000</td>\n      <td>0.199799</td>\n      <td>0.00000</td>\n      <td>0.551459</td>\n      <td>0.304107</td>\n      <td>0.199799</td>\n      <td>26</td>\n    </tr>\n    <tr>\n      <th>Fe</th>\n      <td>0.00000</td>\n      <td>0.37000</td>\n      <td>0.061611</td>\n      <td>0.00000</td>\n      <td>0.097313</td>\n      <td>0.009470</td>\n      <td>0.061611</td>\n      <td>52</td>\n    </tr>\n  </tbody>\n</table>\n</div>"
     },
     "metadata": {}
    }
   ],
   "execution_count": null
  },
  {
   "cell_type": "markdown",
   "source": "### Distribution plot for each feature",
   "metadata": {
    "cell_id": "00011-ff86d322-0450-4f5a-a268-00f4baf8328f",
    "deepnote_cell_type": "markdown"
   }
  },
  {
   "cell_type": "code",
   "metadata": {
    "cell_id": "00012-06551a1b-f8f1-4e4c-9437-ef15fcb73bac",
    "deepnote_output_heights": [
     596
    ],
    "deepnote_to_be_reexecuted": false,
    "source_hash": "e8fc4a7e",
    "execution_start": 1640966580356,
    "execution_millis": 3725,
    "deepnote_cell_type": "code"
   },
   "source": "sns.set_theme(style=\"whitegrid\", palette=\"pastel\")\ndisplot_features(train)",
   "outputs": [
    {
     "data": {
      "text/plain": "<Figure size 1080x720 with 9 Axes>",
      "image/png": "[encoded data removed]"
     },
     "metadata": {
      "image/png": {
       "width": 904,
       "height": 594
      }
     },
     "output_type": "display_data"
    }
   ],
   "execution_count": null
  },
  {
   "cell_type": "markdown",
   "source": "### Boxplot plot for each feature (Does this make sence?)",
   "metadata": {
    "cell_id": "00013-b3fd4d7d-9888-42f4-87b2-6ec134b468ad",
    "deepnote_cell_type": "markdown"
   }
  },
  {
   "cell_type": "code",
   "metadata": {
    "cell_id": "00014-176e307d-09a0-45dd-9103-50fe273f7ccc",
    "deepnote_output_heights": [
     611
    ],
    "deepnote_to_be_reexecuted": false,
    "source_hash": "9fb18602",
    "execution_start": 1640966584098,
    "execution_millis": 2944,
    "deepnote_cell_type": "code"
   },
   "source": "sns.set_theme(style=\"whitegrid\", palette=\"pastel\")\nboxplot_features(train)",
   "outputs": [
    {
     "data": {
      "text/plain": "<Figure size 1080x1440 with 9 Axes>",
      "image/png": "[encoded data removed]"
     },
     "metadata": {
      "image/png": {
       "width": 851,
       "height": 1138
      }
     },
     "output_type": "display_data"
    }
   ],
   "execution_count": null
  },
  {
   "cell_type": "markdown",
   "source": "## Data cleaning\nWe start off by make the classes spand from 1 to 6, so class four is a thing, and class seven isn't.",
   "metadata": {
    "cell_id": "00015-d1daa247-8523-4f37-acf6-733b49b06e10",
    "deepnote_cell_type": "markdown"
   }
  },
  {
   "cell_type": "code",
   "metadata": {
    "cell_id": "00016-19d6315a-0b9b-4533-9361-543b3195ed7c",
    "deepnote_output_heights": [
     null,
     253
    ],
    "deepnote_to_be_reexecuted": false,
    "source_hash": "50d0a901",
    "execution_start": 1640966587045,
    "execution_millis": 1370,
    "deepnote_cell_type": "code"
   },
   "source": "train_copy\ntrain_copy[\"type\"].replace({5:4, 6:5 ,7:6}, inplace=True)\ntypebar(train_copy)",
   "outputs": [
    {
     "output_type": "error",
     "ename": "NameError",
     "evalue": "name 'train_copy' is not defined",
     "traceback": [
      "\u001b[0;31m---------------------------------------------------------------------------\u001b[0m",
      "\u001b[0;31mNameError\u001b[0m                                 Traceback (most recent call last)",
      "\u001b[0;32m<ipython-input-10-8f2c260e0e7d>\u001b[0m in \u001b[0;36m<module>\u001b[0;34m\u001b[0m\n\u001b[0;32m----> 1\u001b[0;31m \u001b[0mtrain_copy\u001b[0m\u001b[0;34m\u001b[0m\u001b[0;34m\u001b[0m\u001b[0m\n\u001b[0m\u001b[1;32m      2\u001b[0m \u001b[0mtrain_copy\u001b[0m\u001b[0;34m[\u001b[0m\u001b[0;34m\"type\"\u001b[0m\u001b[0;34m]\u001b[0m\u001b[0;34m.\u001b[0m\u001b[0mreplace\u001b[0m\u001b[0;34m(\u001b[0m\u001b[0;34m{\u001b[0m\u001b[0;36m5\u001b[0m\u001b[0;34m:\u001b[0m\u001b[0;36m4\u001b[0m\u001b[0;34m,\u001b[0m \u001b[0;36m6\u001b[0m\u001b[0;34m:\u001b[0m\u001b[0;36m5\u001b[0m \u001b[0;34m,\u001b[0m\u001b[0;36m7\u001b[0m\u001b[0;34m:\u001b[0m\u001b[0;36m6\u001b[0m\u001b[0;34m}\u001b[0m\u001b[0;34m,\u001b[0m \u001b[0minplace\u001b[0m\u001b[0;34m=\u001b[0m\u001b[0;32mTrue\u001b[0m\u001b[0;34m)\u001b[0m\u001b[0;34m\u001b[0m\u001b[0;34m\u001b[0m\u001b[0m\n\u001b[1;32m      3\u001b[0m \u001b[0mtypebar\u001b[0m\u001b[0;34m(\u001b[0m\u001b[0mtrain_copy\u001b[0m\u001b[0;34m)\u001b[0m\u001b[0;34m\u001b[0m\u001b[0;34m\u001b[0m\u001b[0m\n",
      "\u001b[0;31mNameError\u001b[0m: name 'train_copy' is not defined"
     ],
     "data": {}
    }
   ],
   "execution_count": null
  },
  {
   "cell_type": "code",
   "metadata": {
    "cell_id": "00017-869f9df0-2405-4936-8f25-f9f4d624c82b",
    "deepnote_to_be_reexecuted": true,
    "source_hash": "b623e53d",
    "deepnote_cell_type": "code"
   },
   "source": "",
   "execution_count": null,
   "outputs": []
  },
  {
   "cell_type": "code",
   "metadata": {
    "cell_id": "00018-fdc3ad09-3084-4f1d-a26a-5c08e2dd5809",
    "deepnote_to_be_reexecuted": true,
    "source_hash": "b623e53d",
    "deepnote_cell_type": "code"
   },
   "source": "",
   "execution_count": null,
   "outputs": []
  },
  {
   "cell_type": "markdown",
   "source": "<a style='text-decoration:none;line-height:16px;display:flex;color:#5B5B62;padding:10px;justify-content:end;' href='https://deepnote.com?utm_source=created-in-deepnote-cell&projectId=58866f15-1cff-4fef-9525-5c3070562370' target=\"_blank\">\n<img alt='Created in deepnote.com' style='display:inline;max-height:16px;margin:0px;margin-right:7.5px;' src='data:image/svg+xml;base64,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' > </img>\nCreated in <span style='font-weight:600;margin-left:4px;'>Deepnote</span></a>",
   "metadata": {
    "tags": [],
    "created_in_deepnote_cell": true,
    "deepnote_cell_type": "markdown"
   }
  }
 ],
 "nbformat": 4,
 "nbformat_minor": 2,
 "metadata": {
  "deepnote": {
   "is_reactive": false
  },
  "deepnote_execution_queue": [],
  "deepnote_notebook_id": "cdb3fe04-77d1-41ac-b971-cc851fff61b5",
  "kernelspec": {
   "display_name": "Python 3 (ipykernel)",
   "language": "python",
   "name": "python3"
  },
  "language_info": {
   "codemirror_mode": {
    "name": "ipython",
    "version": 3
   },
   "file_extension": ".py",
   "mimetype": "text/x-python",
   "name": "python",
   "nbconvert_exporter": "python",
   "pygments_lexer": "ipython3",
   "version": "3.9.7"
  },
  "toc": {
   "base_numbering": 1,
   "nav_menu": {},
   "number_sections": true,
   "sideBar": true,
   "skip_h1_title": false,
   "title_cell": "Table of Contents",
   "title_sidebar": "Contents",
   "toc_cell": false,
   "toc_position": {},
   "toc_section_display": true,
   "toc_window_display": false
  }
 }
}
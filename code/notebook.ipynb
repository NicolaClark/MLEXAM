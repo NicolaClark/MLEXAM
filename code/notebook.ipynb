{
 "cells": [
  {
   "cell_type": "code",
   "metadata": {
    "tags": [],
    "cell_id": "00000-0c1a12f6-c17e-4158-8445-b7d5aac66f49",
    "deepnote_to_be_reexecuted": false,
    "source_hash": "5e51a8c6",
    "execution_start": 1639336124267,
    "execution_millis": 1000,
    "deepnote_output_heights": [
     227.875
    ],
    "deepnote_cell_type": "code"
   },
   "source": "from diy_lib.decision_tree import Decision_tree\nfrom diy_lib.node import Node\nimport pandas\nfrom typing import List\nfrom itertools import combinations\nfrom collections import Counter\nimport numpy as np\nimport matplotlib.pyplot as plt\nimport math",
   "execution_count": null,
   "outputs": []
  },
  {
   "cell_type": "code",
   "metadata": {
    "tags": [],
    "cell_id": "00001-627c0bf8-c310-4928-afc8-9ab3829dc2eb",
    "deepnote_to_be_reexecuted": false,
    "source_hash": "a1c50ef1",
    "execution_start": 1639336125273,
    "execution_millis": 6,
    "deepnote_output_heights": [
     97.96875
    ],
    "deepnote_cell_type": "code"
   },
   "source": "# \"\"\"\n# class Node:\n#     next_id = 0         \n#     def __init__(self,parent, level, data = None ,feature=None,threshold=None,gini_val=None,most_common_class=None):\n#         self.most_common_class=most_common_class\n#         self.parent = parent\n#         self.level = level\n#         self.gini_val = gini_val #none as defualt\n#         self.threshold = threshold #none as defualt\n#         self.left_child = None #none as defualt\n#         self.right_child = None #none as defualt\n#         self.feature=feature\n#         self.id = Node.next_id\n#         self.data = data\n#         Node.next_id += 1\n\n#     def create_children(self,lchild,rchild):\n#         \"\"\"\n#         #Attaches the children to the node\n#         \"\"\"\n#         self.left_child = lchild\n#         self.right_child = rchild\n    \n#     def get_children(self):\n#         \"\"\"\n#         #Returns the children of the node\n#         \"\"\"\n#         return self.left_child, self.right_child\n    \n#     def get_position(self):\n#         \"\"\"\n#         #Returns the position in the tree,\n#         #and whether or not it is a root or leaf\n#         \"\"\"\n#         if self.parent==None:\n#             return(\"root\")\n#         elif self.left_child == None:\n#             return('leaf')\n#         else:\n#             return f\"node at depth {self.level}\"\n\n#     def get_info(self):\n#         if self.parent == None:\n#             parent_id = None\n#         else:\n#             parent_id = self.parent.id\n#         if self.get_children()[0] == None:\n#             children_id = [None,None]\n#         else:\n#             children_id=[self.get_children()[0].id,self.get_children()[1].id]\n#         return f\"ID: {self.id} \\nParent: {parent_id} \\nChildren: {children_id}\\nMost_common_class: {self.most_common_class} \\nFeature: {self.feature} \\nThreshold: {self.threshold} \\nGini: {self.gini_val} \\nDepth: {self.level} \\nPosition: {self.get_position()}\\nAmount of Datapoints: {len(self.data)}\\nClasses of Datapoints: {Counter(self.data['type'])}\"\n        \n\n\n# def main():\n#     pass\n# if __name__==\"__main__\":\n#     main()\n# \"\"\"",
   "execution_count": null,
   "outputs": []
  },
  {
   "cell_type": "code",
   "metadata": {
    "tags": [],
    "cell_id": "00001-c961fc17-6585-4ae5-8563-54a86d203dcf",
    "deepnote_to_be_reexecuted": false,
    "source_hash": "e90f6fe7",
    "execution_start": 1639336125327,
    "execution_millis": 16,
    "deepnote_cell_type": "code"
   },
   "source": "test=pandas.read_csv(\"../data/df_test.csv\")\ntrain=pandas.read_csv(\"../data/df_train.csv\")\n#train",
   "execution_count": null,
   "outputs": []
  },
  {
   "cell_type": "code",
   "metadata": {
    "tags": [],
    "cell_id": "00003-d9ccf727-a931-430c-98ea-6ecf7230f97f",
    "deepnote_to_be_reexecuted": false,
    "source_hash": "ee4e9ea7",
    "execution_start": 1639336125384,
    "execution_millis": 3,
    "deepnote_cell_type": "code"
   },
   "source": "print(len(train))",
   "execution_count": null,
   "outputs": [
    {
     "name": "stdout",
     "text": "149\n",
     "output_type": "stream"
    }
   ]
  },
  {
   "cell_type": "code",
   "metadata": {
    "tags": [],
    "cell_id": "00001-f38ffcac-084d-4edd-b99e-5ea68e697ab9",
    "deepnote_to_be_reexecuted": false,
    "source_hash": "51fe503",
    "execution_start": 1639336125387,
    "execution_millis": 1,
    "deepnote_output_heights": [
     78.75
    ],
    "deepnote_cell_type": "code"
   },
   "source": "# class Decision_tree:\n    \n#     def __init__(self,depth,min_samples_split=2,entropy=False):\n#         self.entropy_choice=entropy\n#         self.depth = depth\n#         self.min_samples_split=min_samples_split\n#         self.tree = {}\n    \n#     def _splitable(self,current_n,data):#end conditions where we dont split and instead we make leaves \n#         if current_n.level >= self.depth:\n#             return False\n#         elif len(data)<self.min_samples_split:\n#             return False\n#         else:\n#             return True\n#     def _create_tree(self, current_n,tree, data):\n#         #should we split?\n#         \"\"\" #This function is creating nodes though recursion\"\"\"\n#         if self._splitable(current_n,data)==False:\n#             pass\n#         #we are splitting\n#         elif self.entropy == True:\n#             split = self.find_split(data, self.entropy) #(gini_min, threshold, best_feature)\n#             current_n.gini_val = split[0]\n#             current_n.threshold = split[1]\n#             current_n.feature = split[2]\n\n#             mask = data[split[2]]>split[1]\n#             rightsplit = data[mask]\n#             leftsplit = data[-mask] #check right split on feature contains higher values \n#             l_child = Node(parent = current_n, data = leftsplit, gini_val = self._gini_oneside(leftsplit[\"type\"]) ,level = current_n.level+1,most_common_class=max(Counter(leftsplit[\"type\"]), key = Counter(leftsplit[\"type\"]).get)) # < threshold\n#             self.tree[l_child.id] = l_child\n#             r_child = Node(parent = current_n, data = rightsplit, gini_val = self._gini_oneside(rightsplit[\"type\"]) ,level = current_n.level+1,most_common_class=max(Counter(rightsplit[\"type\"]), key = Counter(rightsplit[\"type\"]).get)) # > threshold\n#             self.tree[r_child.id] = r_child\n#             current_n.create_children(l_child,r_child)\n#             self._create_tree(l_child,self.tree,data = leftsplit)\n#             self._create_tree(r_child,self.tree,data = rightsplit)\n            \n#         else: #creates 2 children when not a leaf\n#             split = self.find_split(data) #(gini_min, threshold, best_feature)\n#             current_n.gini_val = split[0]\n#             current_n.threshold = split[1]\n#             current_n.feature = split[2]\n#             mask = data[split[2]]>split[1]\n#             rightsplit = data[mask]\n#             leftsplit = data[-mask] #check right split on feature contains higher values \n#             l_child = Node(parent = current_n, data = leftsplit, gini_val = self._gini_oneside(leftsplit[\"type\"]) ,level = current_n.level+1,most_common_class=max(Counter(leftsplit[\"type\"]), key = Counter(leftsplit[\"type\"]).get)) # < threshold\n#             self.tree[l_child.id] = l_child\n#             r_child = Node(parent = current_n, data = rightsplit, gini_val = self._gini_oneside(rightsplit[\"type\"]) ,level = current_n.level+1,most_common_class=max(Counter(rightsplit[\"type\"]), key = Counter(rightsplit[\"type\"]).get)) # > threshold\n#             self.tree[r_child.id] = r_child\n#             current_n.create_children(l_child,r_child)\n#             self._create_tree(l_child,self.tree,data = leftsplit)\n#             self._create_tree(r_child,self.tree,data = rightsplit)\n#         return self.tree\n\n#     def _gini_oneside(self,data):\n#         \"\"\"Takes a list of labels for one side of a \n#         split and returns gini index for that side\"\"\"\n#         size = len(data)\n#         types = set(data)\n#         represented = Counter(data)\n#         gini = 1\n#         for key, value in represented.items():\n#             gini -= (value/size)**2\n#         return gini\n\n#     def _gini_overall(self,datal,datar):\n#         lsize = len(datal)\n#         rsize = len(datar)\n#         size = lsize+rsize\n#         return self._gini_oneside(datal)*(lsize/size)+self._gini_oneside(datar)*(rsize/size)\n    \n#     def entropy(self, data):\n#         size = len(data)\n#         types = set(data)\n#         represented = Counter(data)\n#         entropy = 0\n#         for key, value in represented.items():\n#             entropy -= (value/size)*math.log((value/size))\n#         return entropy\n   \n#     def _entropy_overall(self,datal,datar):\n#         lsize = len(datal)\n#         rsize = len(datar)\n#         size = lsize+rsize\n#         return self.entropy(datal)*(lsize/size)+self.entropy(datar)*(rsize/size)\n\n#     def fit(self,data):\n#         self.data = data\n#         Node.next_id = 0\n#         root = Node(parent=None, level = 0,data=self.data,most_common_class=max(Counter(data[\"type\"]), key = Counter(data[\"type\"]).get))\n#         self.tree[root.id] = root\n#         self.tree = self._create_tree(root,self.tree,self.data)\n    \n#     def view(self):\n#         \"\"\"\n#         Returns the tree\n#         \"\"\"\n#         return self.tree\n    \n#     def _split(self):\n#         #Make the split\n#         #calculate the threshold, for each child\n#         #calculate the gini value\n#         return #return two tuples, contaning: (feature, threshold, gini_val)\n\n#     def find_split(self,data):\n#         results=[]\n#         gini_min = 1000\n#         threshold = None\n#         best_feature= None\n#         if self.entropy_choice == True:\n#             for feature in data.loc[:, data.columns != \"type\"]:\n#                 sl = list(set(data.sort_values(feature)[feature]))         #sort data by feature\n#                 list_PS = [(sl[i+1]+sl[i])/2 for i in range(len(sl)-1)]        #find betweeen values for each pair of values in sorted \n#                 for PS in list_PS:#itterate through between values instead \n#                     mask = train[feature]>PS\n#                     split = list(data[mask][\"type\"])\n#                     antisplit = list(data[-mask][\"type\"]);\n#                     entropy = self._entropy_overall(split,antisplit)\n#                     if entropy < gini_min:\n#                         gini_min = entropy\n#                         threshold = PS \n#                         best_feature = feature          \n#         else:\n#             for feature in data.loc[:, data.columns != \"type\"]:\n#                 sl = list(set(data.sort_values(feature)[feature]))         #sort data by feature\n#                 list_PS = [(sl[i+1]+sl[i])/2 for i in range(len(sl)-1)]        #find betweeen values for each pair of values in sorted \n#                 for PS in list_PS:#itterate through between values instead \n#                     mask = data[feature]>PS #check what data is here CHECK THIS LATER\n#                     split = list(data[mask][\"type\"])\n#                     antisplit = list(data[-mask][\"type\"]);\n#                     gini_val = self._gini_overall(split,antisplit)\n#                     if gini_val < gini_min:\n#                         gini_min = gini_val\n#                         threshold = PS \n#                         best_feature = feature\n\n#                     results.append([PS, self._gini_overall(split,antisplit),feature])\n#         return (gini_min, threshold, best_feature)\n\n#     def predict(self, data):\n#         self.index_of_features=dict()\n#         for i,col in enumerate(data.columns):#we need this dict to index the correct value in _traverse\n#             self.index_of_features[col]=i\n#         predictions = []\n#         for point in data.values:\n#             leaf_node = self._traverse(self.tree[0],point)\n#             predictions.append(leaf_node.most_common_class)\n#         return predictions\n#         pass\n    \n#     def _traverse(self,current_node,point):\n#         #move along decision tree until leaf is reached\n#         if current_node.left_child == None :\n#             return current_node\n#         else:\n#             threshold=current_node.threshold\n#             feature=current_node.feature \n#             if point[self.index_of_features[feature]] >= threshold:\n#                 return self._traverse(current_node.right_child,point)\n\n#             else:\n#                 return self._traverse(current_node.left_child,point)\n\n#         #if leaf then return leaf\n#         #else find next node\n#         return None\n#         pass",
   "execution_count": null,
   "outputs": []
  },
  {
   "cell_type": "code",
   "metadata": {
    "tags": [],
    "cell_id": "00005-352b91c2-d04f-453b-ae00-944f77643f6e",
    "deepnote_to_be_reexecuted": false,
    "source_hash": "f4cc7083",
    "execution_start": 1639336125407,
    "execution_millis": 196209374,
    "deepnote_cell_type": "code"
   },
   "source": "#to do\n#max depth for tree",
   "execution_count": null,
   "outputs": []
  },
  {
   "cell_type": "code",
   "metadata": {
    "tags": [],
    "cell_id": "00006-df48ea92-53b3-4edd-b2c6-57183804cadb",
    "deepnote_to_be_reexecuted": false,
    "source_hash": "9e9d57bd",
    "execution_start": 1639336125459,
    "execution_millis": 4084,
    "deepnote_output_heights": [
     265.515625
    ],
    "deepnote_cell_type": "code"
   },
   "source": "T=Decision_tree(depth = 4, min_samples_split = 6) #overfit!!! gridseach\nT.fit(train)",
   "execution_count": null,
   "outputs": []
  },
  {
   "cell_type": "code",
   "metadata": {
    "tags": [],
    "cell_id": "00009-b4978064-154f-4a67-9af9-8d393b764da6",
    "deepnote_to_be_reexecuted": false,
    "source_hash": "9e6fa6d5",
    "execution_start": 1639336129558,
    "execution_millis": 6293,
    "is_output_hidden": false,
    "deepnote_output_heights": [
     606.28125
    ],
    "deepnote_cell_type": "code"
   },
   "source": "def find_best(data, max_depth, min_samples_split):\n    listOfTrue = []\n    for d in range(max_depth):\n        for s in range(2,min_samples_split):\n            T=Decision_tree(depth = d, min_samples_split = s)\n            T.fit(data)\n            predicted = T.predict(test)\n            class_ = test['type'].tolist()\n            true = 0\n            false = 0\n            for i in range(len(predicted)):\n                if class_[i] == predicted[i]:\n                    true += 1\n                else: \n                    false += 1\n            listOfTrue.append((true/(true+false), d, s))\n    return sorted(listOfTrue)\n",
   "execution_count": null,
   "outputs": [
    {
     "output_type": "error",
     "ename": "KeyboardInterrupt",
     "evalue": "",
     "traceback": [
      "\u001b[0;31m---------------------------------------------------------------------------\u001b[0m",
      "\u001b[0;31mKeyboardInterrupt\u001b[0m                         Traceback (most recent call last)",
      "\u001b[0;32m<ipython-input-8-43960538e841>\u001b[0m in \u001b[0;36m<module>\u001b[0;34m\u001b[0m\n\u001b[1;32m     17\u001b[0m     \u001b[0;32mreturn\u001b[0m \u001b[0msorted\u001b[0m\u001b[0;34m(\u001b[0m\u001b[0mlistOfTrue\u001b[0m\u001b[0;34m)\u001b[0m\u001b[0;34m\u001b[0m\u001b[0;34m\u001b[0m\u001b[0m\n\u001b[1;32m     18\u001b[0m \u001b[0;34m\u001b[0m\u001b[0m\n\u001b[0;32m---> 19\u001b[0;31m \u001b[0mx\u001b[0m \u001b[0;34m=\u001b[0m \u001b[0mfind_best\u001b[0m\u001b[0;34m(\u001b[0m\u001b[0mtrain\u001b[0m\u001b[0;34m,\u001b[0m \u001b[0;36m10\u001b[0m\u001b[0;34m,\u001b[0m \u001b[0;36m10\u001b[0m\u001b[0;34m)\u001b[0m\u001b[0;34m\u001b[0m\u001b[0;34m\u001b[0m\u001b[0m\n\u001b[0m\u001b[1;32m     20\u001b[0m \u001b[0;34m\u001b[0m\u001b[0m\n\u001b[1;32m     21\u001b[0m \u001b[0mprint\u001b[0m\u001b[0;34m(\u001b[0m\u001b[0mx\u001b[0m\u001b[0;34m)\u001b[0m\u001b[0;34m\u001b[0m\u001b[0;34m\u001b[0m\u001b[0m\n",
      "\u001b[0;32m<ipython-input-8-43960538e841>\u001b[0m in \u001b[0;36mfind_best\u001b[0;34m(data, max_depth, min_samples_split)\u001b[0m\n\u001b[1;32m      4\u001b[0m         \u001b[0;32mfor\u001b[0m \u001b[0ms\u001b[0m \u001b[0;32min\u001b[0m \u001b[0mrange\u001b[0m\u001b[0;34m(\u001b[0m\u001b[0;36m2\u001b[0m\u001b[0;34m,\u001b[0m\u001b[0mmin_samples_split\u001b[0m\u001b[0;34m)\u001b[0m\u001b[0;34m:\u001b[0m\u001b[0;34m\u001b[0m\u001b[0;34m\u001b[0m\u001b[0m\n\u001b[1;32m      5\u001b[0m             \u001b[0mT\u001b[0m\u001b[0;34m=\u001b[0m\u001b[0mDecision_tree\u001b[0m\u001b[0;34m(\u001b[0m\u001b[0mdepth\u001b[0m \u001b[0;34m=\u001b[0m \u001b[0md\u001b[0m\u001b[0;34m,\u001b[0m \u001b[0mmin_samples_split\u001b[0m \u001b[0;34m=\u001b[0m \u001b[0ms\u001b[0m\u001b[0;34m)\u001b[0m\u001b[0;34m\u001b[0m\u001b[0;34m\u001b[0m\u001b[0m\n\u001b[0;32m----> 6\u001b[0;31m             \u001b[0mT\u001b[0m\u001b[0;34m.\u001b[0m\u001b[0mfit\u001b[0m\u001b[0;34m(\u001b[0m\u001b[0mdata\u001b[0m\u001b[0;34m)\u001b[0m\u001b[0;34m\u001b[0m\u001b[0;34m\u001b[0m\u001b[0m\n\u001b[0m\u001b[1;32m      7\u001b[0m             \u001b[0mpredicted\u001b[0m \u001b[0;34m=\u001b[0m \u001b[0mT\u001b[0m\u001b[0;34m.\u001b[0m\u001b[0mpredict\u001b[0m\u001b[0;34m(\u001b[0m\u001b[0mtest\u001b[0m\u001b[0;34m)\u001b[0m\u001b[0;34m\u001b[0m\u001b[0;34m\u001b[0m\u001b[0m\n\u001b[1;32m      8\u001b[0m             \u001b[0mclass_\u001b[0m \u001b[0;34m=\u001b[0m \u001b[0mtest\u001b[0m\u001b[0;34m[\u001b[0m\u001b[0;34m'type'\u001b[0m\u001b[0;34m]\u001b[0m\u001b[0;34m.\u001b[0m\u001b[0mtolist\u001b[0m\u001b[0;34m(\u001b[0m\u001b[0;34m)\u001b[0m\u001b[0;34m\u001b[0m\u001b[0;34m\u001b[0m\u001b[0m\n",
      "\u001b[0;32m/work/MLEXAM/code/diy_lib/decision_tree.py\u001b[0m in \u001b[0;36mfit\u001b[0;34m(self, data)\u001b[0m\n\u001b[1;32m    100\u001b[0m         \u001b[0mroot\u001b[0m \u001b[0;34m=\u001b[0m \u001b[0mNode\u001b[0m\u001b[0;34m(\u001b[0m\u001b[0mparent\u001b[0m\u001b[0;34m=\u001b[0m\u001b[0;32mNone\u001b[0m\u001b[0;34m,\u001b[0m \u001b[0mlevel\u001b[0m \u001b[0;34m=\u001b[0m \u001b[0;36m0\u001b[0m\u001b[0;34m,\u001b[0m\u001b[0mdata\u001b[0m\u001b[0;34m=\u001b[0m\u001b[0mself\u001b[0m\u001b[0;34m.\u001b[0m\u001b[0mdata\u001b[0m\u001b[0;34m,\u001b[0m\u001b[0mmost_common_class\u001b[0m\u001b[0;34m=\u001b[0m\u001b[0mmax\u001b[0m\u001b[0;34m(\u001b[0m\u001b[0mCounter\u001b[0m\u001b[0;34m(\u001b[0m\u001b[0mdata\u001b[0m\u001b[0;34m[\u001b[0m\u001b[0;34m\"type\"\u001b[0m\u001b[0;34m]\u001b[0m\u001b[0;34m)\u001b[0m\u001b[0;34m,\u001b[0m \u001b[0mkey\u001b[0m \u001b[0;34m=\u001b[0m \u001b[0mCounter\u001b[0m\u001b[0;34m(\u001b[0m\u001b[0mdata\u001b[0m\u001b[0;34m[\u001b[0m\u001b[0;34m\"type\"\u001b[0m\u001b[0;34m]\u001b[0m\u001b[0;34m)\u001b[0m\u001b[0;34m.\u001b[0m\u001b[0mget\u001b[0m\u001b[0;34m)\u001b[0m\u001b[0;34m)\u001b[0m\u001b[0;34m\u001b[0m\u001b[0;34m\u001b[0m\u001b[0m\n\u001b[1;32m    101\u001b[0m         \u001b[0mself\u001b[0m\u001b[0;34m.\u001b[0m\u001b[0mtree\u001b[0m\u001b[0;34m[\u001b[0m\u001b[0mroot\u001b[0m\u001b[0;34m.\u001b[0m\u001b[0mid\u001b[0m\u001b[0;34m]\u001b[0m \u001b[0;34m=\u001b[0m \u001b[0mroot\u001b[0m\u001b[0;34m\u001b[0m\u001b[0;34m\u001b[0m\u001b[0m\n\u001b[0;32m--> 102\u001b[0;31m         \u001b[0mself\u001b[0m\u001b[0;34m.\u001b[0m\u001b[0mtree\u001b[0m \u001b[0;34m=\u001b[0m \u001b[0mself\u001b[0m\u001b[0;34m.\u001b[0m\u001b[0m_create_tree\u001b[0m\u001b[0;34m(\u001b[0m\u001b[0mroot\u001b[0m\u001b[0;34m,\u001b[0m \u001b[0mself\u001b[0m\u001b[0;34m.\u001b[0m\u001b[0mtree\u001b[0m\u001b[0;34m,\u001b[0m \u001b[0mself\u001b[0m\u001b[0;34m.\u001b[0m\u001b[0mdata\u001b[0m\u001b[0;34m)\u001b[0m\u001b[0;34m\u001b[0m\u001b[0;34m\u001b[0m\u001b[0m\n\u001b[0m\u001b[1;32m    103\u001b[0m \u001b[0;34m\u001b[0m\u001b[0m\n\u001b[1;32m    104\u001b[0m     \u001b[0;32mdef\u001b[0m \u001b[0mview\u001b[0m\u001b[0;34m(\u001b[0m\u001b[0mself\u001b[0m\u001b[0;34m)\u001b[0m\u001b[0;34m:\u001b[0m\u001b[0;34m\u001b[0m\u001b[0;34m\u001b[0m\u001b[0m\n",
      "\u001b[0;32m/work/MLEXAM/code/diy_lib/decision_tree.py\u001b[0m in \u001b[0;36m_create_tree\u001b[0;34m(self, current_n, tree, data)\u001b[0m\n\u001b[1;32m     47\u001b[0m \u001b[0;34m\u001b[0m\u001b[0m\n\u001b[1;32m     48\u001b[0m         \u001b[0;32melse\u001b[0m\u001b[0;34m:\u001b[0m \u001b[0;31m#creates 2 children when not a leaf\u001b[0m\u001b[0;34m\u001b[0m\u001b[0;34m\u001b[0m\u001b[0m\n\u001b[0;32m---> 49\u001b[0;31m             \u001b[0msplit\u001b[0m \u001b[0;34m=\u001b[0m \u001b[0mself\u001b[0m\u001b[0;34m.\u001b[0m\u001b[0mfind_split\u001b[0m\u001b[0;34m(\u001b[0m\u001b[0mdata\u001b[0m\u001b[0;34m)\u001b[0m \u001b[0;31m#(gini_min, threshold, best_feature)\u001b[0m\u001b[0;34m\u001b[0m\u001b[0;34m\u001b[0m\u001b[0m\n\u001b[0m\u001b[1;32m     50\u001b[0m             \u001b[0mcurrent_n\u001b[0m\u001b[0;34m.\u001b[0m\u001b[0mgini_val\u001b[0m \u001b[0;34m=\u001b[0m \u001b[0msplit\u001b[0m\u001b[0;34m[\u001b[0m\u001b[0;36m0\u001b[0m\u001b[0;34m]\u001b[0m\u001b[0;34m\u001b[0m\u001b[0;34m\u001b[0m\u001b[0m\n\u001b[1;32m     51\u001b[0m             \u001b[0mcurrent_n\u001b[0m\u001b[0;34m.\u001b[0m\u001b[0mthreshold\u001b[0m \u001b[0;34m=\u001b[0m \u001b[0msplit\u001b[0m\u001b[0;34m[\u001b[0m\u001b[0;36m1\u001b[0m\u001b[0;34m]\u001b[0m\u001b[0;34m\u001b[0m\u001b[0;34m\u001b[0m\u001b[0m\n",
      "\u001b[0;32m/work/MLEXAM/code/diy_lib/decision_tree.py\u001b[0m in \u001b[0;36mfind_split\u001b[0;34m(self, data)\u001b[0m\n\u001b[1;32m    138\u001b[0m                 \u001b[0;32mfor\u001b[0m \u001b[0mPS\u001b[0m \u001b[0;32min\u001b[0m \u001b[0mlist_PS\u001b[0m\u001b[0;34m:\u001b[0m\u001b[0;31m#itterate through between values instead\u001b[0m\u001b[0;34m\u001b[0m\u001b[0;34m\u001b[0m\u001b[0m\n\u001b[1;32m    139\u001b[0m                     \u001b[0mmask\u001b[0m \u001b[0;34m=\u001b[0m \u001b[0mdata\u001b[0m\u001b[0;34m[\u001b[0m\u001b[0mfeature\u001b[0m\u001b[0;34m]\u001b[0m\u001b[0;34m>\u001b[0m\u001b[0mPS\u001b[0m \u001b[0;31m#check what data is here CHECK THIS LATER\u001b[0m\u001b[0;34m\u001b[0m\u001b[0;34m\u001b[0m\u001b[0m\n\u001b[0;32m--> 140\u001b[0;31m                     \u001b[0msplit\u001b[0m \u001b[0;34m=\u001b[0m \u001b[0mlist\u001b[0m\u001b[0;34m(\u001b[0m\u001b[0mdata\u001b[0m\u001b[0;34m[\u001b[0m\u001b[0mmask\u001b[0m\u001b[0;34m]\u001b[0m\u001b[0;34m[\u001b[0m\u001b[0;34m\"type\"\u001b[0m\u001b[0;34m]\u001b[0m\u001b[0;34m)\u001b[0m\u001b[0;34m\u001b[0m\u001b[0;34m\u001b[0m\u001b[0m\n\u001b[0m\u001b[1;32m    141\u001b[0m                     \u001b[0mantisplit\u001b[0m \u001b[0;34m=\u001b[0m \u001b[0mlist\u001b[0m\u001b[0;34m(\u001b[0m\u001b[0mdata\u001b[0m\u001b[0;34m[\u001b[0m\u001b[0;34m-\u001b[0m\u001b[0mmask\u001b[0m\u001b[0;34m]\u001b[0m\u001b[0;34m[\u001b[0m\u001b[0;34m\"type\"\u001b[0m\u001b[0;34m]\u001b[0m\u001b[0;34m)\u001b[0m\u001b[0;34m;\u001b[0m\u001b[0;34m\u001b[0m\u001b[0;34m\u001b[0m\u001b[0m\n\u001b[1;32m    142\u001b[0m                     \u001b[0mgini_val\u001b[0m \u001b[0;34m=\u001b[0m \u001b[0mself\u001b[0m\u001b[0;34m.\u001b[0m\u001b[0m_gini_overall\u001b[0m\u001b[0;34m(\u001b[0m\u001b[0msplit\u001b[0m\u001b[0;34m,\u001b[0m\u001b[0mantisplit\u001b[0m\u001b[0;34m)\u001b[0m\u001b[0;34m\u001b[0m\u001b[0;34m\u001b[0m\u001b[0m\n",
      "\u001b[0;32m/shared-libs/python3.7/py/lib/python3.7/site-packages/pandas/core/frame.py\u001b[0m in \u001b[0;36m__getitem__\u001b[0;34m(self, key)\u001b[0m\n\u001b[1;32m   2994\u001b[0m                 \u001b[0;32mif\u001b[0m \u001b[0misinstance\u001b[0m\u001b[0;34m(\u001b[0m\u001b[0mself\u001b[0m\u001b[0;34m.\u001b[0m\u001b[0mcolumns\u001b[0m\u001b[0;34m,\u001b[0m \u001b[0mMultiIndex\u001b[0m\u001b[0;34m)\u001b[0m\u001b[0;34m:\u001b[0m\u001b[0;34m\u001b[0m\u001b[0;34m\u001b[0m\u001b[0m\n\u001b[1;32m   2995\u001b[0m                     \u001b[0;32mreturn\u001b[0m \u001b[0mself\u001b[0m\u001b[0;34m.\u001b[0m\u001b[0m_getitem_multilevel\u001b[0m\u001b[0;34m(\u001b[0m\u001b[0mkey\u001b[0m\u001b[0;34m)\u001b[0m\u001b[0;34m\u001b[0m\u001b[0;34m\u001b[0m\u001b[0m\n\u001b[0;32m-> 2996\u001b[0;31m                 \u001b[0;32mreturn\u001b[0m \u001b[0mself\u001b[0m\u001b[0;34m.\u001b[0m\u001b[0m_get_item_cache\u001b[0m\u001b[0;34m(\u001b[0m\u001b[0mkey\u001b[0m\u001b[0;34m)\u001b[0m\u001b[0;34m\u001b[0m\u001b[0;34m\u001b[0m\u001b[0m\n\u001b[0m\u001b[1;32m   2997\u001b[0m \u001b[0;34m\u001b[0m\u001b[0m\n\u001b[1;32m   2998\u001b[0m         \u001b[0;31m# Do we have a slicer (on rows)?\u001b[0m\u001b[0;34m\u001b[0m\u001b[0;34m\u001b[0m\u001b[0;34m\u001b[0m\u001b[0m\n",
      "\u001b[0;32m/shared-libs/python3.7/py/lib/python3.7/site-packages/pandas/core/generic.py\u001b[0m in \u001b[0;36m_get_item_cache\u001b[0;34m(self, item)\u001b[0m\n\u001b[1;32m   3791\u001b[0m \u001b[0;34m\u001b[0m\u001b[0m\n\u001b[1;32m   3792\u001b[0m             \u001b[0mloc\u001b[0m \u001b[0;34m=\u001b[0m \u001b[0mself\u001b[0m\u001b[0;34m.\u001b[0m\u001b[0mcolumns\u001b[0m\u001b[0;34m.\u001b[0m\u001b[0mget_loc\u001b[0m\u001b[0;34m(\u001b[0m\u001b[0mitem\u001b[0m\u001b[0;34m)\u001b[0m\u001b[0;34m\u001b[0m\u001b[0;34m\u001b[0m\u001b[0m\n\u001b[0;32m-> 3793\u001b[0;31m             \u001b[0mvalues\u001b[0m \u001b[0;34m=\u001b[0m \u001b[0mself\u001b[0m\u001b[0;34m.\u001b[0m\u001b[0m_mgr\u001b[0m\u001b[0;34m.\u001b[0m\u001b[0miget\u001b[0m\u001b[0;34m(\u001b[0m\u001b[0mloc\u001b[0m\u001b[0;34m)\u001b[0m\u001b[0;34m\u001b[0m\u001b[0;34m\u001b[0m\u001b[0m\n\u001b[0m\u001b[1;32m   3794\u001b[0m             \u001b[0mres\u001b[0m \u001b[0;34m=\u001b[0m \u001b[0mself\u001b[0m\u001b[0;34m.\u001b[0m\u001b[0m_box_col_values\u001b[0m\u001b[0;34m(\u001b[0m\u001b[0mvalues\u001b[0m\u001b[0;34m,\u001b[0m \u001b[0mloc\u001b[0m\u001b[0;34m)\u001b[0m\u001b[0;34m.\u001b[0m\u001b[0m__finalize__\u001b[0m\u001b[0;34m(\u001b[0m\u001b[0mself\u001b[0m\u001b[0;34m)\u001b[0m\u001b[0;34m\u001b[0m\u001b[0;34m\u001b[0m\u001b[0m\n\u001b[1;32m   3795\u001b[0m \u001b[0;34m\u001b[0m\u001b[0m\n",
      "\u001b[0;32m/shared-libs/python3.7/py/lib/python3.7/site-packages/pandas/core/internals/managers.py\u001b[0m in \u001b[0;36miget\u001b[0;34m(self, i)\u001b[0m\n\u001b[1;32m   1000\u001b[0m         \u001b[0mReturn\u001b[0m \u001b[0mthe\u001b[0m \u001b[0mdata\u001b[0m \u001b[0;32mas\u001b[0m \u001b[0ma\u001b[0m \u001b[0mSingleBlockManager\u001b[0m\u001b[0;34m.\u001b[0m\u001b[0;34m\u001b[0m\u001b[0;34m\u001b[0m\u001b[0m\n\u001b[1;32m   1001\u001b[0m         \"\"\"\n\u001b[0;32m-> 1002\u001b[0;31m         \u001b[0mblock\u001b[0m \u001b[0;34m=\u001b[0m \u001b[0mself\u001b[0m\u001b[0;34m.\u001b[0m\u001b[0mblocks\u001b[0m\u001b[0;34m[\u001b[0m\u001b[0mself\u001b[0m\u001b[0;34m.\u001b[0m\u001b[0mblknos\u001b[0m\u001b[0;34m[\u001b[0m\u001b[0mi\u001b[0m\u001b[0;34m]\u001b[0m\u001b[0;34m]\u001b[0m\u001b[0;34m\u001b[0m\u001b[0;34m\u001b[0m\u001b[0m\n\u001b[0m\u001b[1;32m   1003\u001b[0m         \u001b[0mvalues\u001b[0m \u001b[0;34m=\u001b[0m \u001b[0mblock\u001b[0m\u001b[0;34m.\u001b[0m\u001b[0miget\u001b[0m\u001b[0;34m(\u001b[0m\u001b[0mself\u001b[0m\u001b[0;34m.\u001b[0m\u001b[0mblklocs\u001b[0m\u001b[0;34m[\u001b[0m\u001b[0mi\u001b[0m\u001b[0;34m]\u001b[0m\u001b[0;34m)\u001b[0m\u001b[0;34m\u001b[0m\u001b[0;34m\u001b[0m\u001b[0m\n\u001b[1;32m   1004\u001b[0m \u001b[0;34m\u001b[0m\u001b[0m\n",
      "\u001b[0;32m/shared-libs/python3.7/py/lib/python3.7/site-packages/pandas/core/internals/managers.py\u001b[0m in \u001b[0;36mblknos\u001b[0;34m(self)\u001b[0m\n\u001b[1;32m    167\u001b[0m         \u001b[0;32mif\u001b[0m \u001b[0mself\u001b[0m\u001b[0;34m.\u001b[0m\u001b[0m_blknos\u001b[0m \u001b[0;32mis\u001b[0m \u001b[0;32mNone\u001b[0m\u001b[0;34m:\u001b[0m\u001b[0;34m\u001b[0m\u001b[0;34m\u001b[0m\u001b[0m\n\u001b[1;32m    168\u001b[0m             \u001b[0;31m# Note: these can be altered by other BlockManager methods.\u001b[0m\u001b[0;34m\u001b[0m\u001b[0;34m\u001b[0m\u001b[0;34m\u001b[0m\u001b[0m\n\u001b[0;32m--> 169\u001b[0;31m             \u001b[0mself\u001b[0m\u001b[0;34m.\u001b[0m\u001b[0m_rebuild_blknos_and_blklocs\u001b[0m\u001b[0;34m(\u001b[0m\u001b[0;34m)\u001b[0m\u001b[0;34m\u001b[0m\u001b[0;34m\u001b[0m\u001b[0m\n\u001b[0m\u001b[1;32m    170\u001b[0m \u001b[0;34m\u001b[0m\u001b[0m\n\u001b[1;32m    171\u001b[0m         \u001b[0;32mreturn\u001b[0m \u001b[0mself\u001b[0m\u001b[0;34m.\u001b[0m\u001b[0m_blknos\u001b[0m\u001b[0;34m\u001b[0m\u001b[0;34m\u001b[0m\u001b[0m\n",
      "\u001b[0;32m/shared-libs/python3.7/py/lib/python3.7/site-packages/pandas/core/internals/managers.py\u001b[0m in \u001b[0;36m_rebuild_blknos_and_blklocs\u001b[0;34m(self)\u001b[0m\n\u001b[1;32m    244\u001b[0m             \u001b[0mnew_blklocs\u001b[0m\u001b[0;34m[\u001b[0m\u001b[0mrl\u001b[0m\u001b[0;34m.\u001b[0m\u001b[0mindexer\u001b[0m\u001b[0;34m]\u001b[0m \u001b[0;34m=\u001b[0m \u001b[0mnp\u001b[0m\u001b[0;34m.\u001b[0m\u001b[0marange\u001b[0m\u001b[0;34m(\u001b[0m\u001b[0mlen\u001b[0m\u001b[0;34m(\u001b[0m\u001b[0mrl\u001b[0m\u001b[0;34m)\u001b[0m\u001b[0;34m)\u001b[0m\u001b[0;34m\u001b[0m\u001b[0;34m\u001b[0m\u001b[0m\n\u001b[1;32m    245\u001b[0m \u001b[0;34m\u001b[0m\u001b[0m\n\u001b[0;32m--> 246\u001b[0;31m         \u001b[0;32mif\u001b[0m \u001b[0;34m(\u001b[0m\u001b[0mnew_blknos\u001b[0m \u001b[0;34m==\u001b[0m \u001b[0;34m-\u001b[0m\u001b[0;36m1\u001b[0m\u001b[0;34m)\u001b[0m\u001b[0;34m.\u001b[0m\u001b[0many\u001b[0m\u001b[0;34m(\u001b[0m\u001b[0;34m)\u001b[0m\u001b[0;34m:\u001b[0m\u001b[0;34m\u001b[0m\u001b[0;34m\u001b[0m\u001b[0m\n\u001b[0m\u001b[1;32m    247\u001b[0m             \u001b[0;31m# TODO: can we avoid this?  it isn't cheap\u001b[0m\u001b[0;34m\u001b[0m\u001b[0;34m\u001b[0m\u001b[0;34m\u001b[0m\u001b[0m\n\u001b[1;32m    248\u001b[0m             \u001b[0;32mraise\u001b[0m \u001b[0mAssertionError\u001b[0m\u001b[0;34m(\u001b[0m\u001b[0;34m\"Gaps in blk ref_locs\"\u001b[0m\u001b[0;34m)\u001b[0m\u001b[0;34m\u001b[0m\u001b[0;34m\u001b[0m\u001b[0m\n",
      "\u001b[0;32m/shared-libs/python3.7/py/lib/python3.7/site-packages/numpy/core/_methods.py\u001b[0m in \u001b[0;36m_any\u001b[0;34m(a, axis, dtype, out, keepdims)\u001b[0m\n\u001b[1;32m     52\u001b[0m \u001b[0;34m\u001b[0m\u001b[0m\n\u001b[1;32m     53\u001b[0m \u001b[0;32mdef\u001b[0m \u001b[0m_any\u001b[0m\u001b[0;34m(\u001b[0m\u001b[0ma\u001b[0m\u001b[0;34m,\u001b[0m \u001b[0maxis\u001b[0m\u001b[0;34m=\u001b[0m\u001b[0;32mNone\u001b[0m\u001b[0;34m,\u001b[0m \u001b[0mdtype\u001b[0m\u001b[0;34m=\u001b[0m\u001b[0;32mNone\u001b[0m\u001b[0;34m,\u001b[0m \u001b[0mout\u001b[0m\u001b[0;34m=\u001b[0m\u001b[0;32mNone\u001b[0m\u001b[0;34m,\u001b[0m \u001b[0mkeepdims\u001b[0m\u001b[0;34m=\u001b[0m\u001b[0;32mFalse\u001b[0m\u001b[0;34m)\u001b[0m\u001b[0;34m:\u001b[0m\u001b[0;34m\u001b[0m\u001b[0;34m\u001b[0m\u001b[0m\n\u001b[0;32m---> 54\u001b[0;31m     \u001b[0;32mreturn\u001b[0m \u001b[0mumr_any\u001b[0m\u001b[0;34m(\u001b[0m\u001b[0ma\u001b[0m\u001b[0;34m,\u001b[0m \u001b[0maxis\u001b[0m\u001b[0;34m,\u001b[0m \u001b[0mdtype\u001b[0m\u001b[0;34m,\u001b[0m \u001b[0mout\u001b[0m\u001b[0;34m,\u001b[0m \u001b[0mkeepdims\u001b[0m\u001b[0;34m)\u001b[0m\u001b[0;34m\u001b[0m\u001b[0;34m\u001b[0m\u001b[0m\n\u001b[0m\u001b[1;32m     55\u001b[0m \u001b[0;34m\u001b[0m\u001b[0m\n\u001b[1;32m     56\u001b[0m \u001b[0;32mdef\u001b[0m \u001b[0m_all\u001b[0m\u001b[0;34m(\u001b[0m\u001b[0ma\u001b[0m\u001b[0;34m,\u001b[0m \u001b[0maxis\u001b[0m\u001b[0;34m=\u001b[0m\u001b[0;32mNone\u001b[0m\u001b[0;34m,\u001b[0m \u001b[0mdtype\u001b[0m\u001b[0;34m=\u001b[0m\u001b[0;32mNone\u001b[0m\u001b[0;34m,\u001b[0m \u001b[0mout\u001b[0m\u001b[0;34m=\u001b[0m\u001b[0;32mNone\u001b[0m\u001b[0;34m,\u001b[0m \u001b[0mkeepdims\u001b[0m\u001b[0;34m=\u001b[0m\u001b[0;32mFalse\u001b[0m\u001b[0;34m)\u001b[0m\u001b[0;34m:\u001b[0m\u001b[0;34m\u001b[0m\u001b[0;34m\u001b[0m\u001b[0m\n",
      "\u001b[0;31mKeyboardInterrupt\u001b[0m: "
     ]
    }
   ]
  },
  {
   "cell_type": "code",
   "metadata": {
    "tags": [],
    "cell_id": "00005-d82be55f-1865-494d-8d50-e9a8487cea0a",
    "deepnote_to_be_reexecuted": false,
    "source_hash": "c59ad945",
    "execution_start": 1639336142732,
    "execution_millis": 10,
    "deepnote_output_heights": [
     20.8125
    ],
    "deepnote_cell_type": "code"
   },
   "source": "#Check overfit\npredicted = T.predict(test)\nclass_ = test['type'].tolist()\n\ntrue = 0\nfalse = 0\nfor i in range(len(predicted)):\n    if class_[i] == predicted[i]:\n        true += 1\n    else: \n        false += 1\nprint('True predictions: ',true)\nprint('False predictions: ',false)\nprint('True: ', (true/(true+false)))",
   "execution_count": null,
   "outputs": [
    {
     "name": "stdout",
     "text": "True predictions:  47\nFalse predictions:  18\nTrue:  0.7230769230769231\n",
     "output_type": "stream"
    }
   ]
  },
  {
   "cell_type": "code",
   "metadata": {
    "tags": [],
    "cell_id": "00010-5c34cb3b-f789-46f4-8c8e-5f02df7b4d0b",
    "deepnote_to_be_reexecuted": false,
    "source_hash": "8ece9234",
    "execution_start": 1639336145765,
    "execution_millis": 886,
    "deepnote_cell_type": "code"
   },
   "source": "from sklearn.metrics import confusion_matrix",
   "execution_count": null,
   "outputs": []
  },
  {
   "cell_type": "code",
   "metadata": {
    "tags": [],
    "cell_id": "00011-1e3c7582-1bdd-4e5e-8e00-31823f714dc1",
    "deepnote_to_be_reexecuted": false,
    "source_hash": "53c927d9",
    "execution_start": 1639336155447,
    "execution_millis": 4,
    "deepnote_output_heights": [
     20.8125
    ],
    "deepnote_cell_type": "code"
   },
   "source": "Counter(test[\"type\"])",
   "execution_count": null,
   "outputs": [
    {
     "output_type": "execute_result",
     "execution_count": 13,
     "data": {
      "text/plain": "Counter({1: 21, 7: 9, 6: 3, 3: 5, 2: 23, 5: 4})"
     },
     "metadata": {}
    }
   ]
  },
  {
   "cell_type": "code",
   "metadata": {
    "tags": [],
    "cell_id": "00011-3b127d9b-8672-4c63-a2d6-ed91bf71503b",
    "deepnote_to_be_reexecuted": false,
    "source_hash": "a81ec657",
    "execution_start": 1639336162565,
    "execution_millis": 7,
    "deepnote_output_heights": [
     114.921875
    ],
    "deepnote_cell_type": "code"
   },
   "source": "confusion_matrix(T.predict(test),test['type'].tolist())",
   "execution_count": null,
   "outputs": [
    {
     "output_type": "execute_result",
     "execution_count": 14,
     "data": {
      "text/plain": "array([[18,  3,  1,  0,  1,  0],\n       [ 1, 15,  2,  0,  2,  0],\n       [ 2,  1,  2,  0,  0,  1],\n       [ 0,  1,  0,  4,  0,  0],\n       [ 0,  3,  0,  0,  0,  0],\n       [ 0,  0,  0,  0,  0,  8]])"
     },
     "metadata": {}
    }
   ]
  },
  {
   "cell_type": "code",
   "metadata": {
    "tags": [],
    "cell_id": "00013-cf2e53a0-7897-4771-977c-c824a08853fd",
    "deepnote_to_be_reexecuted": true,
    "source_hash": "f9daaaf4",
    "execution_start": 1638536384937,
    "execution_millis": 3,
    "deepnote_output_heights": [
     114.921875
    ],
    "deepnote_cell_type": "code"
   },
   "source": "confusion_matrix(T.predict(train),train['type'].tolist())",
   "execution_count": null,
   "outputs": [
    {
     "output_type": "execute_result",
     "execution_count": 13,
     "data": {
      "text/plain": "array([[49,  0,  0,  0,  0,  0],\n       [ 0, 53,  0,  0,  0,  0],\n       [ 0,  0, 12,  0,  0,  0],\n       [ 0,  0,  0,  9,  0,  0],\n       [ 0,  0,  0,  0,  6,  0],\n       [ 0,  0,  0,  0,  0, 20]])"
     },
     "metadata": {}
    }
   ]
  },
  {
   "cell_type": "code",
   "metadata": {
    "tags": [],
    "cell_id": "00004-437cb3eb-58f2-4eb0-b28b-56b4cc0bcf92",
    "deepnote_to_be_reexecuted": true,
    "source_hash": "5a860c45",
    "execution_start": 1638540111233,
    "execution_millis": 1,
    "deepnote_output_heights": [
     20.8125
    ],
    "deepnote_cell_type": "code"
   },
   "source": "print(T.view()[0].get_info())",
   "execution_count": null,
   "outputs": [
    {
     "name": "stdout",
     "text": "ID: 0 \nParent: None \nChildren: [1, 2]\nMost_common_class: 2 \nFeature: Ba \nThreshold: 0.4 \nGini: 0.6199065196548418 \nDepth: 0 \nPosition: root\nAmount of Datapoints: 149\nClasses of Datapoints: Counter({2: 53, 1: 49, 7: 20, 3: 12, 5: 9, 6: 6})\n",
     "output_type": "stream"
    }
   ]
  },
  {
   "cell_type": "code",
   "metadata": {
    "tags": [],
    "cell_id": "00013-c529f8ab-b045-4c3a-89e5-0f2068abfc1d",
    "deepnote_to_be_reexecuted": true,
    "source_hash": "b623e53d",
    "execution_start": 1638536385003,
    "deepnote_cell_type": "code"
   },
   "source": "",
   "execution_count": null,
   "outputs": []
  },
  {
   "cell_type": "markdown",
   "source": "<a style='text-decoration:none;line-height:16px;display:flex;color:#5B5B62;padding:10px;justify-content:end;' href='https://deepnote.com?utm_source=created-in-deepnote-cell&projectId=58866f15-1cff-4fef-9525-5c3070562370' target=\"_blank\">\n<img alt='Created in deepnote.com' style='display:inline;max-height:16px;margin:0px;margin-right:7.5px;' src='data:image/svg+xml;base64,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' > </img>\nCreated in <span style='font-weight:600;margin-left:4px;'>Deepnote</span></a>",
   "metadata": {
    "tags": [],
    "created_in_deepnote_cell": true,
    "deepnote_cell_type": "markdown"
   }
  }
 ],
 "nbformat": 4,
 "nbformat_minor": 2,
 "metadata": {
  "orig_nbformat": 2,
  "deepnote": {
   "is_reactive": false
  },
  "deepnote_notebook_id": "51e2065d-c4ed-4bdb-94c6-2bb273e63457",
  "deepnote_execution_queue": []
 }
}